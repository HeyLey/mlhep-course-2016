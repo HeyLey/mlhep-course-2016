{
 "cells": [
  {
   "cell_type": "markdown",
   "metadata": {},
   "source": [
    "# probfit Basic Tutorial"
   ]
  },
  {
   "cell_type": "markdown",
   "metadata": {},
   "source": [
    "[probfit](http://iminuit.github.io/probfit/) is a modeling / fitting package to be used together with [iminuit](http://iminuit.github.com/iminuit/).\n",
    "\n",
    "This tutorial is a fast-paced introduction to the probfit features:\n",
    "\n",
    "* built-in common models: polynomial, gaussian, ...\n",
    "* build-in common fit statistics: chi^2, binned and unbinned likelihood\n",
    "* tools to get your fits to converge and check the results: try_uml, draw, draw_residuals, ...\n",
    "* tools to help you implement your own models and fit statistics: Normalize, Extended, integrate_1d, ...\n",
    "\n",
    "Please start this notebook with the ``ipython --pylab=inline`` option to get inline plots."
   ]
  },
  {
   "cell_type": "code",
   "execution_count": 8,
   "metadata": {
    "collapsed": false
   },
   "outputs": [],
   "source": [
    "# We assume you have executed this cell in all the following examples\n",
    "import numpy as np\n",
    "import matplotlib.pyplot as plt\n",
    "import iminuit\n",
    "import probfit\n",
    "%matplotlib inline"
   ]
  },
  {
   "cell_type": "markdown",
   "metadata": {},
   "source": [
    "In your own code you can explicitly import what you need to save\n",
    "typing in interactive sessions, e.g.\n",
    "\n",
    "    from iminuit import Minuit, describe\n",
    "    from probfit import gaussian, BinnedLH\n",
    "\n",
    "We don't do this here, we only import `iminuit` and `probfit` into our\n",
    "namespace so that it is clear to you which functions and classes come\n",
    "from which package while reading the code below."
   ]
  },
  {
   "cell_type": "markdown",
   "metadata": {},
   "source": [
    "## Chi^2 straight line fit\n",
    "\n",
    "We can't really call this a fitting package without being able to fit a straight line, right?"
   ]
  },
  {
   "cell_type": "code",
   "execution_count": 2,
   "metadata": {
    "collapsed": false
   },
   "outputs": [],
   "source": [
    "# Let's make a straight line with gaussian(mu=0, sigma=1) noise\n",
    "np.random.seed(0)\n",
    "x = np.linspace(0, 10, 20) \n",
    "y = 3 * x + 15 + np.random.randn(len(x))\n",
    "err = np.ones(len(x))\n",
    "plt.errorbar(x, y, err, fmt='.');"
   ]
  },
  {
   "cell_type": "code",
   "execution_count": 3,
   "metadata": {
    "collapsed": false
   },
   "outputs": [],
   "source": [
    "# Let's define our line.\n",
    "# First argument has to be the independent variable,\n",
    "# arguments after that are shape parameters.\n",
    "def line(x, m, c): # define it to be parabolic or whatever you like\n",
    "    return m * x + c"
   ]
  },
  {
   "cell_type": "code",
   "execution_count": 4,
   "metadata": {
    "collapsed": false
   },
   "outputs": [
    {
     "data": {
      "text/plain": [
       "['x', 'm', 'c']"
      ]
     },
     "execution_count": 4,
     "metadata": {},
     "output_type": "execute_result"
    }
   ],
   "source": [
    "iminuit.describe(line)"
   ]
  },
  {
   "cell_type": "code",
   "execution_count": 5,
   "metadata": {
    "collapsed": false
   },
   "outputs": [],
   "source": [
    "# Define a chi^2 cost function\n",
    "chi2 = probfit.Chi2Regression(line, x, y, err)"
   ]
  },
  {
   "cell_type": "code",
   "execution_count": 6,
   "metadata": {
    "collapsed": false
   },
   "outputs": [
    {
     "data": {
      "text/plain": [
       "['m', 'c']"
      ]
     },
     "execution_count": 6,
     "metadata": {},
     "output_type": "execute_result"
    }
   ],
   "source": [
    "# Chi2Regression is just a callable object; nothing special about it\n",
    "iminuit.describe(chi2)"
   ]
  },
  {
   "cell_type": "code",
   "execution_count": 7,
   "metadata": {
    "collapsed": false
   },
   "outputs": [
    {
     "name": "stderr",
     "output_type": "stream",
     "text": [
      "/Users/anaderi/miniconda/envs/opera/lib/python2.7/site-packages/ipykernel/__main__.py:4: InitialParamWarning: Parameter m does not have initial value. Assume 0.\n",
      "/Users/anaderi/miniconda/envs/opera/lib/python2.7/site-packages/ipykernel/__main__.py:4: InitialParamWarning: Parameter m is floating but does not have initial step size. Assume 1.\n",
      "/Users/anaderi/miniconda/envs/opera/lib/python2.7/site-packages/ipykernel/__main__.py:4: InitialParamWarning: Parameter c does not have initial value. Assume 0.\n",
      "/Users/anaderi/miniconda/envs/opera/lib/python2.7/site-packages/ipykernel/__main__.py:4: InitialParamWarning: Parameter c is floating but does not have initial step size. Assume 1.\n"
     ]
    },
    {
     "data": {
      "text/html": [
       "<hr>"
      ]
     },
     "metadata": {},
     "output_type": "display_data"
    },
    {
     "data": {
      "text/html": [
       "\n",
       "        <table>\n",
       "            <tr>\n",
       "                <td title=\"Minimum value of function\">FCN = 12.0738531135</td>\n",
       "                <td title=\"Total number of call to FCN so far\">TOTAL NCALL = 36</td>\n",
       "                <td title=\"Number of call in last migrad\">NCALLS = 36</td>\n",
       "            </tr>\n",
       "            <tr>\n",
       "                <td title=\"Estimated distance to minimum\">EDM = 1.10886029888e-21</td>\n",
       "                <td title=\"Maximum EDM definition of convergence\">GOAL EDM = 1e-05</td>\n",
       "                <td title=\"Error def. Amount of increase in FCN to be defined as 1 standard deviation\">\n",
       "                UP = 1.0</td>\n",
       "            </tr>\n",
       "        </table>\n",
       "        \n",
       "        <table>\n",
       "            <tr>\n",
       "                <td align=\"center\" title=\"Validity of the migrad call\">Valid</td>\n",
       "                <td align=\"center\" title=\"Validity of parameters\">Valid Param</td>\n",
       "                <td align=\"center\" title=\"Is Covariance matrix accurate?\">Accurate Covar</td>\n",
       "                <td align=\"center\" title=\"Positive definiteness of covariance matrix\">PosDef</td>\n",
       "                <td align=\"center\" title=\"Was covariance matrix made posdef by adding diagonal element\">Made PosDef</td>\n",
       "            </tr>\n",
       "            <tr>\n",
       "                <td align=\"center\" style=\"background-color:#92CCA6\">True</td>\n",
       "                <td align=\"center\" style=\"background-color:#92CCA6\">True</td>\n",
       "                <td align=\"center\" style=\"background-color:#92CCA6\">True</td>\n",
       "                <td align=\"center\" style=\"background-color:#92CCA6\">True</td>\n",
       "                <td align=\"center\" style=\"background-color:#92CCA6\">False</td>\n",
       "            </tr>\n",
       "            <tr>\n",
       "                <td align=\"center\" title=\"Was last hesse call fail?\">Hesse Fail</td>\n",
       "                <td align=\"center\" title=\"Validity of covariance\">HasCov</td>\n",
       "                <td align=\"center\" title=\"Is EDM above goal EDM?\">Above EDM</td>\n",
       "                <td align=\"center\"></td>\n",
       "                <td align=\"center\" title=\"Did last migrad call reach max call limit?\">Reach calllim</td>\n",
       "            </tr>\n",
       "            <tr>\n",
       "                <td align=\"center\" style=\"background-color:#92CCA6\">False</td>\n",
       "                <td align=\"center\" style=\"background-color:#92CCA6\">True</td>\n",
       "                <td align=\"center\" style=\"background-color:#92CCA6\">False</td>\n",
       "                <td align=\"center\"></td>\n",
       "                <td align=\"center\" style=\"background-color:#92CCA6\">False</td>\n",
       "            </tr>\n",
       "        </table>\n",
       "        "
      ]
     },
     "metadata": {},
     "output_type": "display_data"
    },
    {
     "data": {
      "text/html": [
       "\n",
       "        <table>\n",
       "            <tr>\n",
       "                <td><a href=\"#\" onclick=\"$('#GffrPgwhgj').toggle()\">+</a></td>\n",
       "                <td title=\"Variable name\">Name</td>\n",
       "                <td title=\"Value of parameter\">Value</td>\n",
       "                <td title=\"Parabolic error\">Parab Error</td>\n",
       "                <td title=\"Minos lower error\">Minos Error-</td>\n",
       "                <td title=\"Minos upper error\">Minos Error+</td>\n",
       "                <td title=\"Lower limit of the parameter\">Limit-</td>\n",
       "                <td title=\"Upper limit of the parameter\">Limit+</td>\n",
       "                <td title=\"Is the parameter fixed in the fit\">FIXED</td>\n",
       "            </tr>\n",
       "        \n",
       "            <tr>\n",
       "                <td>1</td>\n",
       "                <td>m</td>\n",
       "                <td>2.88628</td>\n",
       "                <td>0.0736788</td>\n",
       "                <td>0</td>\n",
       "                <td>0</td>\n",
       "                <td></td>\n",
       "                <td></td>\n",
       "                <td></td>\n",
       "            </tr>\n",
       "            \n",
       "            <tr>\n",
       "                <td>2</td>\n",
       "                <td>c</td>\n",
       "                <td>16.1379</td>\n",
       "                <td>0.430946</td>\n",
       "                <td>0</td>\n",
       "                <td>0</td>\n",
       "                <td></td>\n",
       "                <td></td>\n",
       "                <td></td>\n",
       "            </tr>\n",
       "            \n",
       "            </table>\n",
       "        \n",
       "            <pre id=\"GffrPgwhgj\" style=\"display:none;\">\n",
       "            <textarea rows=\"10\" cols=\"50\" onclick=\"this.select()\" readonly>\\begin{tabular}{|c|r|r|r|r|r|r|r|c|}\n",
       "\\hline\n",
       " & Name & Value & Para Error & Error+ & Error- & Limit+ & Limit- & FIXED\\\\\n",
       "\\hline\n",
       "1 & m & 2.886e+00 & 7.368e-02 &  &  &  &  & \\\\\n",
       "\\hline\n",
       "2 & c & 1.614e+01 & 4.309e-01 &  &  &  &  & \\\\\n",
       "\\hline\n",
       "\\end{tabular}</textarea>\n",
       "            </pre>\n",
       "            "
      ]
     },
     "metadata": {},
     "output_type": "display_data"
    },
    {
     "data": {
      "text/html": [
       "<hr>"
      ]
     },
     "metadata": {},
     "output_type": "display_data"
    }
   ],
   "source": [
    "# minimize it\n",
    "# yes, it gives you a heads up that you didn't give it initial value\n",
    "# we can ignore it for now\n",
    "minuit = iminuit.Minuit(chi2) # see iminuit tutorial on how to give initial value/range/error\n",
    "minuit.migrad(); # MIGRAD is a very stable robust minimization method\n",
    "# you can look at your terminal to see what it is doing;"
   ]
  },
  {
   "cell_type": "code",
   "execution_count": 8,
   "metadata": {
    "collapsed": false
   },
   "outputs": [
    {
     "name": "stdout",
     "output_type": "stream",
     "text": [
      "{'c': 16.137947520534624, 'm': 2.8862774144823855}\n",
      "{'c': 0.4309458211385722, 'm': 0.07367884284273937}\n"
     ]
    }
   ],
   "source": [
    "# The output above is a pretty-printed summary of the fit results from\n",
    "# minuit.print_fmin()\n",
    "# which was automatically called by iminuit.Minuit.migrad() after running MIGRAD.\n",
    "\n",
    "# Let's see our results as Python dictionaries ...\n",
    "print(minuit.values)\n",
    "print(minuit.errors)"
   ]
  },
  {
   "cell_type": "markdown",
   "metadata": {},
   "source": [
    "#### Parabolic error\n",
    "is calculated using the second derivative at the minimum\n",
    "This is good in most cases where the uncertainty is symmetric not much correlation\n",
    "exists. Migrad usually got this accurately but if you want ot be sure\n",
    "call `minuit.hesse()` after calling `minuit.migrad()`.\n",
    "\n",
    "#### Minos Error\n",
    "is obtained by scanning the chi^2 or likelihood profile and find the point\n",
    "where chi^2 is increased by `minuit.errordef`. Note that in the Minuit documentation\n",
    "and output `errordef` is often called `up` ... it's the same thing.\n",
    "\n",
    "#### What `errordef` should I use?\n",
    "\n",
    "As explained in the Minuit documentation you should use:\n",
    "\n",
    "* `errordef = 1` for chi^2 fits\n",
    "* `errordef = 0.5` for likelihood fits\n",
    "\n",
    "`errordef=1` is the default, so you only have to set it to `errordef=0.5`\n",
    "if you are defining a likelihood cost function (if you don't your HESSE and MINOS errors will be incorrect).\n",
    "`probfit` helps you by defining a `default_errordef()` attribute on the\n",
    "cost function classes, which is automatically detected by the `Minuit` constructor\n",
    "and can be used to set `Minuit.errordef` correctly, so that users can't forget.\n",
    "Classes used in this tutorial:\n",
    "\n",
    "* `probfit.Chi2Regression.get_errordef()` and `probfit.BinnedChi2.get_errordef()` return 1.\n",
    "* `probfit.BinnedLH.get_errordef()` and `probfit.UnbinnedLH.get_errordef()` return 0.5."
   ]
  },
  {
   "cell_type": "code",
   "execution_count": 16,
   "metadata": {
    "collapsed": false
   },
   "outputs": [
    {
     "data": {
      "text/plain": [
       "((array([  0.        ,   0.52631579,   1.05263158,   1.57894737,\n",
       "           2.10526316,   2.63157895,   3.15789474,   3.68421053,\n",
       "           4.21052632,   4.73684211,   5.26315789,   5.78947368,\n",
       "           6.31578947,   6.84210526,   7.36842105,   7.89473684,\n",
       "           8.42105263,   8.94736842,   9.47368421,  10.        ]),\n",
       "  array([ 16.76405235,  16.97910458,  19.13663272,  21.9777353 ,\n",
       "          23.18334746,  21.91745896,  25.42377263,  25.90127437,\n",
       "          27.5283601 ,  29.62112482,  30.93351726,  33.82269456,\n",
       "          34.70840615,  35.64799081,  37.54912639,  39.01788485,\n",
       "          41.75723697,  41.636947  ,  43.73412033,  44.14590426])),\n",
       " None,\n",
       " (array([  0.        ,   0.52631579,   1.05263158,   1.57894737,\n",
       "           2.10526316,   2.63157895,   3.15789474,   3.68421053,\n",
       "           4.21052632,   4.73684211,   5.26315789,   5.78947368,\n",
       "           6.31578947,   6.84210526,   7.36842105,   7.89473684,\n",
       "           8.42105263,   8.94736842,   9.47368421,  10.        ]),\n",
       "  array([ 16.13794752,  17.6570409 ,  19.17613427,  20.69522765,\n",
       "          22.21432102,  23.7334144 ,  25.25250778,  26.77160115,\n",
       "          28.29069453,  29.8097879 ,  31.32888128,  32.84797466,\n",
       "          34.36706803,  35.88616141,  37.40525479,  38.92434816,\n",
       "          40.44344154,  41.96253491,  43.48162829,  45.00072167])),\n",
       " [])"
      ]
     },
     "execution_count": 16,
     "metadata": {},
     "output_type": "execute_result"
    },
    {
     "data": {
      "image/png": "[encoded data removed]",
      "text/plain": [
       "<matplotlib.figure.Figure at 0x10fd14f50>"
      ]
     },
     "metadata": {},
     "output_type": "display_data"
    }
   ],
   "source": [
    "# Let's visualize our line\n",
    "chi2.draw(minuit)\n",
    "# looks good;"
   ]
  },
  {
   "cell_type": "code",
   "execution_count": 11,
   "metadata": {
    "collapsed": false
   },
   "outputs": [
    {
     "name": "stdout",
     "output_type": "stream",
     "text": [
      "error matrix:\n",
      "((0.005428571882645087, -0.027142859751431703), (-0.027142859751431703, 0.18571430075679826))\n",
      "correlation matrix:\n",
      "((1.0, -0.8548504260481388), (-0.8548504260481388, 1.0))\n"
     ]
    },
    {
     "data": {
      "text/html": [
       "\n",
       "            <table>\n",
       "                <tr>\n",
       "                    <td><a onclick=\"$('#kNcWWltvtc').toggle()\" href=\"#\">+</a></td>\n",
       "        \n",
       "            <td>\n",
       "            <div style=\"width:20px;position:relative; width: -moz-fit-content;\">\n",
       "            <div style=\"display:inline-block;-webkit-writing-mode:vertical-rl;-moz-writing-mode: vertical-rl;writing-mode: vertical-rl;\">\n",
       "            m\n",
       "            </div>\n",
       "            </div>\n",
       "            </td>\n",
       "            \n",
       "            <td>\n",
       "            <div style=\"width:20px;position:relative; width: -moz-fit-content;\">\n",
       "            <div style=\"display:inline-block;-webkit-writing-mode:vertical-rl;-moz-writing-mode: vertical-rl;writing-mode: vertical-rl;\">\n",
       "            c\n",
       "            </div>\n",
       "            </div>\n",
       "            </td>\n",
       "            \n",
       "                </tr>\n",
       "                \n",
       "            <tr>\n",
       "                <td>m</td>\n",
       "            \n",
       "                <td style=\"background-color:rgb(255,117,117)\">\n",
       "                1.00\n",
       "                </td>\n",
       "                \n",
       "                <td style=\"background-color:rgb(242,137,127)\">\n",
       "                -0.85\n",
       "                </td>\n",
       "                \n",
       "            </tr>\n",
       "            \n",
       "            <tr>\n",
       "                <td>c</td>\n",
       "            \n",
       "                <td style=\"background-color:rgb(242,137,127)\">\n",
       "                -0.85\n",
       "                </td>\n",
       "                \n",
       "                <td style=\"background-color:rgb(255,117,117)\">\n",
       "                1.00\n",
       "                </td>\n",
       "                \n",
       "            </tr>\n",
       "            </table>\n",
       "\n",
       "            <pre id=\"kNcWWltvtc\" style=\"display:none;\">\n",
       "            <textarea rows=\"13\" cols=\"50\" onclick=\"this.select()\" readonly>%\\usepackage[table]{xcolor} % include this for color\n",
       "%\\usepackage{rotating} % include this for rotate header\n",
       "%\\documentclass[xcolor=table]{beamer} % for beamer\n",
       "\\begin{tabular}{|c|c|c|}\n",
       "\\hline\n",
       "\\rotatebox{90}{} & \\rotatebox{90}{m} & \\rotatebox{90}{c}\\\\\n",
       "\\hline\n",
       "m & \\cellcolor[RGB]{255,117,117} 1.00 & \\cellcolor[RGB]{242,137,127} -0.85\\\\\n",
       "\\hline\n",
       "c & \\cellcolor[RGB]{242,137,127} -0.85 & \\cellcolor[RGB]{255,117,117} 1.00\\\\\n",
       "\\hline\n",
       "\\end{tabular}</textarea>\n",
       "            </pre>\n",
       "            "
      ]
     },
     "metadata": {},
     "output_type": "display_data"
    }
   ],
   "source": [
    "# Sometimes we want the error matrix (a.k.a. covariance matrix)\n",
    "print('error matrix:')\n",
    "print(minuit.matrix())\n",
    "# or the correlation matrix\n",
    "print('correlation matrix:')\n",
    "print(minuit.matrix(correlation=True))\n",
    "# or a pretty html representation\n",
    "# Note that `print_matrix()` shows the correlation matrix, not the error matrix\n",
    "minuit.print_matrix()"
   ]
  },
  {
   "cell_type": "markdown",
   "metadata": {},
   "source": [
    "## Binned Poisson likelihood fit of a Gaussian distribution\n",
    "In high energy physics, we usually want to fit a distribution to a histogram. Let's look at simple Gaussian distribution."
   ]
  },
  {
   "cell_type": "code",
   "execution_count": 17,
   "metadata": {
    "collapsed": false
   },
   "outputs": [
    {
     "data": {
      "image/png": "[encoded data removed]",
      "text/plain": [
       "<matplotlib.figure.Figure at 0x10fd14810>"
      ]
     },
     "metadata": {},
     "output_type": "display_data"
    }
   ],
   "source": [
    "# First let's make some example data\n",
    "np.random.seed(0)\n",
    "data = np.random.randn(10000) * 4 + 1\n",
    "# sigma = 4 and mean = 1\n",
    "plt.hist(data, bins=100, histtype='step');"
   ]
  },
  {
   "cell_type": "code",
   "execution_count": 18,
   "metadata": {
    "collapsed": false
   },
   "outputs": [],
   "source": [
    "# Define your PDF / model\n",
    "def gauss_pdf(x, mu, sigma):\n",
    "    \"\"\"Normalized Gaussian\"\"\"\n",
    "    return 1 / np.sqrt(2 * np.pi) / sigma * np.exp(-(x - mu) ** 2 / 2. / sigma ** 2)"
   ]
  },
  {
   "cell_type": "code",
   "execution_count": 19,
   "metadata": {
    "collapsed": false
   },
   "outputs": [],
   "source": [
    "# Build your cost function\n",
    "# Here we use binned likelihood\n",
    "binned_likelihood = probfit.BinnedLH(gauss_pdf, data)"
   ]
  },
  {
   "cell_type": "code",
   "execution_count": 20,
   "metadata": {
    "collapsed": false
   },
   "outputs": [
    {
     "name": "stderr",
     "output_type": "stream",
     "text": [
      "/Users/anaderi/miniconda/envs/opera/lib/python2.7/site-packages/ipykernel/__main__.py:3: InitialParamWarning: Parameter mu does not have initial value. Assume 0.\n",
      "  app.launch_new_instance()\n",
      "/Users/anaderi/miniconda/envs/opera/lib/python2.7/site-packages/ipykernel/__main__.py:3: InitialParamWarning: Parameter mu is floating but does not have initial step size. Assume 1.\n",
      "  app.launch_new_instance()\n",
      "/Users/anaderi/miniconda/envs/opera/lib/python2.7/site-packages/ipykernel/__main__.py:3: InitialParamWarning: Parameter sigma is floating but does not have initial step size. Assume 1.\n",
      "  app.launch_new_instance()\n"
     ]
    },
    {
     "data": {
      "image/png": "[encoded data removed]",
      "text/plain": [
       "<matplotlib.figure.Figure at 0x110589790>"
      ]
     },
     "metadata": {},
     "output_type": "display_data"
    }
   ],
   "source": [
    "# Create the minuit\n",
    "# and give an initial value for the sigma parameter\n",
    "minuit = iminuit.Minuit(binned_likelihood, sigma=3)\n",
    "# Remember: minuit.errordef is automatically set to 0.5\n",
    "# as required for likelihood fits (this was explained above)\n",
    "binned_likelihood.draw(minuit);"
   ]
  },
  {
   "cell_type": "code",
   "execution_count": 21,
   "metadata": {
    "collapsed": false
   },
   "outputs": [
    {
     "name": "stderr",
     "output_type": "stream",
     "text": [
      "/Users/anaderi/miniconda/envs/opera/lib/python2.7/site-packages/ipykernel/__main__.py:1: LogWarning: x is really small return 0\n",
      "  if __name__ == '__main__':\n"
     ]
    },
    {
     "data": {
      "text/html": [
       "<hr>"
      ]
     },
     "metadata": {},
     "output_type": "display_data"
    },
    {
     "data": {
      "text/html": [
       "\n",
       "        <table>\n",
       "            <tr>\n",
       "                <td title=\"Minimum value of function\">FCN = 20.9368166553</td>\n",
       "                <td title=\"Total number of call to FCN so far\">TOTAL NCALL = 46</td>\n",
       "                <td title=\"Number of call in last migrad\">NCALLS = 46</td>\n",
       "            </tr>\n",
       "            <tr>\n",
       "                <td title=\"Estimated distance to minimum\">EDM = 1.45381809084e-06</td>\n",
       "                <td title=\"Maximum EDM definition of convergence\">GOAL EDM = 5e-06</td>\n",
       "                <td title=\"Error def. Amount of increase in FCN to be defined as 1 standard deviation\">\n",
       "                UP = 0.5</td>\n",
       "            </tr>\n",
       "        </table>\n",
       "        \n",
       "        <table>\n",
       "            <tr>\n",
       "                <td align=\"center\" title=\"Validity of the migrad call\">Valid</td>\n",
       "                <td align=\"center\" title=\"Validity of parameters\">Valid Param</td>\n",
       "                <td align=\"center\" title=\"Is Covariance matrix accurate?\">Accurate Covar</td>\n",
       "                <td align=\"center\" title=\"Positive definiteness of covariance matrix\">PosDef</td>\n",
       "                <td align=\"center\" title=\"Was covariance matrix made posdef by adding diagonal element\">Made PosDef</td>\n",
       "            </tr>\n",
       "            <tr>\n",
       "                <td align=\"center\" style=\"background-color:#92CCA6\">True</td>\n",
       "                <td align=\"center\" style=\"background-color:#92CCA6\">True</td>\n",
       "                <td align=\"center\" style=\"background-color:#92CCA6\">True</td>\n",
       "                <td align=\"center\" style=\"background-color:#92CCA6\">True</td>\n",
       "                <td align=\"center\" style=\"background-color:#92CCA6\">False</td>\n",
       "            </tr>\n",
       "            <tr>\n",
       "                <td align=\"center\" title=\"Was last hesse call fail?\">Hesse Fail</td>\n",
       "                <td align=\"center\" title=\"Validity of covariance\">HasCov</td>\n",
       "                <td align=\"center\" title=\"Is EDM above goal EDM?\">Above EDM</td>\n",
       "                <td align=\"center\"></td>\n",
       "                <td align=\"center\" title=\"Did last migrad call reach max call limit?\">Reach calllim</td>\n",
       "            </tr>\n",
       "            <tr>\n",
       "                <td align=\"center\" style=\"background-color:#92CCA6\">False</td>\n",
       "                <td align=\"center\" style=\"background-color:#92CCA6\">True</td>\n",
       "                <td align=\"center\" style=\"background-color:#92CCA6\">False</td>\n",
       "                <td align=\"center\"></td>\n",
       "                <td align=\"center\" style=\"background-color:#92CCA6\">False</td>\n",
       "            </tr>\n",
       "        </table>\n",
       "        "
      ]
     },
     "metadata": {},
     "output_type": "display_data"
    },
    {
     "data": {
      "text/html": [
       "\n",
       "        <table>\n",
       "            <tr>\n",
       "                <td><a href=\"#\" onclick=\"$('#zRaeSZhxIW').toggle()\">+</a></td>\n",
       "                <td title=\"Variable name\">Name</td>\n",
       "                <td title=\"Value of parameter\">Value</td>\n",
       "                <td title=\"Parabolic error\">Parab Error</td>\n",
       "                <td title=\"Minos lower error\">Minos Error-</td>\n",
       "                <td title=\"Minos upper error\">Minos Error+</td>\n",
       "                <td title=\"Lower limit of the parameter\">Limit-</td>\n",
       "                <td title=\"Upper limit of the parameter\">Limit+</td>\n",
       "                <td title=\"Is the parameter fixed in the fit\">FIXED</td>\n",
       "            </tr>\n",
       "        \n",
       "            <tr>\n",
       "                <td>1</td>\n",
       "                <td>mu</td>\n",
       "                <td>0.925875</td>\n",
       "                <td>0.039626</td>\n",
       "                <td>0</td>\n",
       "                <td>0</td>\n",
       "                <td></td>\n",
       "                <td></td>\n",
       "                <td></td>\n",
       "            </tr>\n",
       "            \n",
       "            <tr>\n",
       "                <td>2</td>\n",
       "                <td>sigma</td>\n",
       "                <td>3.95238</td>\n",
       "                <td>0.0282674</td>\n",
       "                <td>0</td>\n",
       "                <td>0</td>\n",
       "                <td></td>\n",
       "                <td></td>\n",
       "                <td></td>\n",
       "            </tr>\n",
       "            \n",
       "            </table>\n",
       "        \n",
       "            <pre id=\"zRaeSZhxIW\" style=\"display:none;\">\n",
       "            <textarea rows=\"10\" cols=\"50\" onclick=\"this.select()\" readonly>\\begin{tabular}{|c|r|r|r|r|r|r|r|c|}\n",
       "\\hline\n",
       " & Name & Value & Para Error & Error+ & Error- & Limit+ & Limit- & FIXED\\\\\n",
       "\\hline\n",
       "1 & $\\mu$ & 9.259e-01 & 3.963e-02 &  &  &  &  & \\\\\n",
       "\\hline\n",
       "2 & $\\sigma$ & 3.952e+00 & 2.827e-02 &  &  &  &  & \\\\\n",
       "\\hline\n",
       "\\end{tabular}</textarea>\n",
       "            </pre>\n",
       "            "
      ]
     },
     "metadata": {},
     "output_type": "display_data"
    },
    {
     "data": {
      "text/html": [
       "<hr>"
      ]
     },
     "metadata": {},
     "output_type": "display_data"
    },
    {
     "data": {
      "text/plain": [
       "({'hesse_failed': False, 'has_reached_call_limit': False, 'has_accurate_covar': True, 'has_posdef_covar': True, 'up': 0.5, 'edm': 1.4538180908400942e-06, 'is_valid': True, 'is_above_max_edm': False, 'has_covariance': True, 'has_made_posdef_covar': False, 'has_valid_parameters': True, 'fval': 20.936816655253192, 'nfcn': 46},\n",
       " [{'is_const': False, 'name': 'mu', 'has_limits': False, 'value': 0.9258754454756729, 'number': 0, 'has_lower_limit': False, 'upper_limit': 0.0, 'lower_limit': 0.0, 'has_upper_limit': False, 'error': 0.03962598999560865, 'is_fixed': False},\n",
       "  {'is_const': False, 'name': 'sigma', 'has_limits': False, 'value': 3.9523813236079057, 'number': 1, 'has_lower_limit': False, 'upper_limit': 0.0, 'lower_limit': 0.0, 'has_upper_limit': False, 'error': 0.02826740713879663, 'is_fixed': False}])"
      ]
     },
     "execution_count": 21,
     "metadata": {},
     "output_type": "execute_result"
    }
   ],
   "source": [
    "minuit.migrad()\n",
    "# Like in all binned fit with long zero tail. It will have to do something about the zero bin\n",
    "# probfit.BinnedLH does handle them gracefully but will give you a warning;"
   ]
  },
  {
   "cell_type": "code",
   "execution_count": 24,
   "metadata": {
    "collapsed": false
   },
   "outputs": [
    {
     "data": {
      "image/png": "[encoded data removed]",
      "text/plain": [
       "<matplotlib.figure.Figure at 0x110589b90>"
      ]
     },
     "metadata": {},
     "output_type": "display_data"
    }
   ],
   "source": [
    "# Visually check if the fit succeeded by plotting the model over the data\n",
    "binned_likelihood.draw(minuit); # uncertainty is given by symmetric Poisson;"
   ]
  },
  {
   "cell_type": "code",
   "execution_count": 25,
   "metadata": {
    "collapsed": false
   },
   "outputs": [
    {
     "name": "stdout",
     "output_type": "stream",
     "text": [
      "Value: {'mu': 0.9258754454756729, 'sigma': 3.9523813236079057}\n",
      "Error: {'mu': 0.03962598999560865, 'sigma': 0.02826740713879663}\n"
     ]
    }
   ],
   "source": [
    "# Let's see the result\n",
    "print('Value: {}'.format(minuit.values))\n",
    "print('Error: {}'.format(minuit.errors))"
   ]
  },
  {
   "cell_type": "code",
   "execution_count": 26,
   "metadata": {
    "collapsed": false
   },
   "outputs": [
    {
     "data": {
      "text/html": [
       "<hr>"
      ]
     },
     "metadata": {},
     "output_type": "display_data"
    },
    {
     "data": {
      "text/html": [
       "\n",
       "        <table>\n",
       "            <tr>\n",
       "                <td title=\"Minimum value of function\">FCN = 20.9368166553</td>\n",
       "                <td title=\"Total number of call to FCN so far\">TOTAL NCALL = 46</td>\n",
       "                <td title=\"Number of call in last migrad\">NCALLS = 46</td>\n",
       "            </tr>\n",
       "            <tr>\n",
       "                <td title=\"Estimated distance to minimum\">EDM = 1.45381809084e-06</td>\n",
       "                <td title=\"Maximum EDM definition of convergence\">GOAL EDM = 5e-06</td>\n",
       "                <td title=\"Error def. Amount of increase in FCN to be defined as 1 standard deviation\">\n",
       "                UP = 0.5</td>\n",
       "            </tr>\n",
       "        </table>\n",
       "        \n",
       "        <table>\n",
       "            <tr>\n",
       "                <td align=\"center\" title=\"Validity of the migrad call\">Valid</td>\n",
       "                <td align=\"center\" title=\"Validity of parameters\">Valid Param</td>\n",
       "                <td align=\"center\" title=\"Is Covariance matrix accurate?\">Accurate Covar</td>\n",
       "                <td align=\"center\" title=\"Positive definiteness of covariance matrix\">PosDef</td>\n",
       "                <td align=\"center\" title=\"Was covariance matrix made posdef by adding diagonal element\">Made PosDef</td>\n",
       "            </tr>\n",
       "            <tr>\n",
       "                <td align=\"center\" style=\"background-color:#92CCA6\">True</td>\n",
       "                <td align=\"center\" style=\"background-color:#92CCA6\">True</td>\n",
       "                <td align=\"center\" style=\"background-color:#92CCA6\">True</td>\n",
       "                <td align=\"center\" style=\"background-color:#92CCA6\">True</td>\n",
       "                <td align=\"center\" style=\"background-color:#92CCA6\">False</td>\n",
       "            </tr>\n",
       "            <tr>\n",
       "                <td align=\"center\" title=\"Was last hesse call fail?\">Hesse Fail</td>\n",
       "                <td align=\"center\" title=\"Validity of covariance\">HasCov</td>\n",
       "                <td align=\"center\" title=\"Is EDM above goal EDM?\">Above EDM</td>\n",
       "                <td align=\"center\"></td>\n",
       "                <td align=\"center\" title=\"Did last migrad call reach max call limit?\">Reach calllim</td>\n",
       "            </tr>\n",
       "            <tr>\n",
       "                <td align=\"center\" style=\"background-color:#92CCA6\">False</td>\n",
       "                <td align=\"center\" style=\"background-color:#92CCA6\">True</td>\n",
       "                <td align=\"center\" style=\"background-color:#92CCA6\">False</td>\n",
       "                <td align=\"center\"></td>\n",
       "                <td align=\"center\" style=\"background-color:#92CCA6\">False</td>\n",
       "            </tr>\n",
       "        </table>\n",
       "        "
      ]
     },
     "metadata": {},
     "output_type": "display_data"
    },
    {
     "data": {
      "text/html": [
       "\n",
       "        <table>\n",
       "            <tr>\n",
       "                <td><a href=\"#\" onclick=\"$('#vQBKGSHkCD').toggle()\">+</a></td>\n",
       "                <td title=\"Variable name\">Name</td>\n",
       "                <td title=\"Value of parameter\">Value</td>\n",
       "                <td title=\"Parabolic error\">Parab Error</td>\n",
       "                <td title=\"Minos lower error\">Minos Error-</td>\n",
       "                <td title=\"Minos upper error\">Minos Error+</td>\n",
       "                <td title=\"Lower limit of the parameter\">Limit-</td>\n",
       "                <td title=\"Upper limit of the parameter\">Limit+</td>\n",
       "                <td title=\"Is the parameter fixed in the fit\">FIXED</td>\n",
       "            </tr>\n",
       "        \n",
       "            <tr>\n",
       "                <td>1</td>\n",
       "                <td>mu</td>\n",
       "                <td>0.925875</td>\n",
       "                <td>0.039626</td>\n",
       "                <td>0</td>\n",
       "                <td>0</td>\n",
       "                <td></td>\n",
       "                <td></td>\n",
       "                <td></td>\n",
       "            </tr>\n",
       "            \n",
       "            <tr>\n",
       "                <td>2</td>\n",
       "                <td>sigma</td>\n",
       "                <td>3.95238</td>\n",
       "                <td>0.0282674</td>\n",
       "                <td>0</td>\n",
       "                <td>0</td>\n",
       "                <td></td>\n",
       "                <td></td>\n",
       "                <td></td>\n",
       "            </tr>\n",
       "            \n",
       "            </table>\n",
       "        \n",
       "            <pre id=\"vQBKGSHkCD\" style=\"display:none;\">\n",
       "            <textarea rows=\"10\" cols=\"50\" onclick=\"this.select()\" readonly>\\begin{tabular}{|c|r|r|r|r|r|r|r|c|}\n",
       "\\hline\n",
       " & Name & Value & Para Error & Error+ & Error- & Limit+ & Limit- & FIXED\\\\\n",
       "\\hline\n",
       "1 & $\\mu$ & 9.259e-01 & 3.963e-02 &  &  &  &  & \\\\\n",
       "\\hline\n",
       "2 & $\\sigma$ & 3.952e+00 & 2.827e-02 &  &  &  &  & \\\\\n",
       "\\hline\n",
       "\\end{tabular}</textarea>\n",
       "            </pre>\n",
       "            "
      ]
     },
     "metadata": {},
     "output_type": "display_data"
    },
    {
     "data": {
      "text/html": [
       "<hr>"
      ]
     },
     "metadata": {},
     "output_type": "display_data"
    },
    {
     "data": {
      "text/html": [
       "\n",
       "            <table>\n",
       "                <tr>\n",
       "                    <td><a onclick=\"$('#nJFmXcMAqK').toggle()\" href=\"#\">+</a></td>\n",
       "        \n",
       "            <td>\n",
       "            <div style=\"width:20px;position:relative; width: -moz-fit-content;\">\n",
       "            <div style=\"display:inline-block;-webkit-writing-mode:vertical-rl;-moz-writing-mode: vertical-rl;writing-mode: vertical-rl;\">\n",
       "            mu\n",
       "            </div>\n",
       "            </div>\n",
       "            </td>\n",
       "            \n",
       "            <td>\n",
       "            <div style=\"width:20px;position:relative; width: -moz-fit-content;\">\n",
       "            <div style=\"display:inline-block;-webkit-writing-mode:vertical-rl;-moz-writing-mode: vertical-rl;writing-mode: vertical-rl;\">\n",
       "            sigma\n",
       "            </div>\n",
       "            </div>\n",
       "            </td>\n",
       "            \n",
       "                </tr>\n",
       "                \n",
       "            <tr>\n",
       "                <td>mu</td>\n",
       "            \n",
       "                <td style=\"background-color:rgb(255,117,117)\">\n",
       "                1.00\n",
       "                </td>\n",
       "                \n",
       "                <td style=\"background-color:rgb(163,254,186)\">\n",
       "                -0.00\n",
       "                </td>\n",
       "                \n",
       "            </tr>\n",
       "            \n",
       "            <tr>\n",
       "                <td>sigma</td>\n",
       "            \n",
       "                <td style=\"background-color:rgb(163,254,186)\">\n",
       "                -0.00\n",
       "                </td>\n",
       "                \n",
       "                <td style=\"background-color:rgb(255,117,117)\">\n",
       "                1.00\n",
       "                </td>\n",
       "                \n",
       "            </tr>\n",
       "            </table>\n",
       "\n",
       "            <pre id=\"nJFmXcMAqK\" style=\"display:none;\">\n",
       "            <textarea rows=\"13\" cols=\"50\" onclick=\"this.select()\" readonly>%\\usepackage[table]{xcolor} % include this for color\n",
       "%\\usepackage{rotating} % include this for rotate header\n",
       "%\\documentclass[xcolor=table]{beamer} % for beamer\n",
       "\\begin{tabular}{|c|c|c|}\n",
       "\\hline\n",
       "\\rotatebox{90}{} & \\rotatebox{90}{$\\mu$} & \\rotatebox{90}{$\\sigma$}\\\\\n",
       "\\hline\n",
       "$\\mu$ & \\cellcolor[RGB]{255,117,117} 1.00 & \\cellcolor[RGB]{163,254,186} -0.00\\\\\n",
       "\\hline\n",
       "$\\sigma$ & \\cellcolor[RGB]{163,254,186} -0.00 & \\cellcolor[RGB]{255,117,117} 1.00\\\\\n",
       "\\hline\n",
       "\\end{tabular}</textarea>\n",
       "            </pre>\n",
       "            "
      ]
     },
     "metadata": {},
     "output_type": "display_data"
    }
   ],
   "source": [
    "# That printout can get out of hand quickly\n",
    "minuit.print_fmin()\n",
    "# Also print the correlation matrix\n",
    "minuit.print_matrix()"
   ]
  },
  {
   "cell_type": "code",
   "execution_count": 27,
   "metadata": {
    "collapsed": false
   },
   "outputs": [
    {
     "name": "stderr",
     "output_type": "stream",
     "text": [
      "/Users/anaderi/miniconda/envs/opera/lib/python2.7/site-packages/ipykernel/__main__.py:3: LogWarning: x is really small return 0\n",
      "  app.launch_new_instance()\n"
     ]
    },
    {
     "data": {
      "image/png": "[encoded data removed]",
      "text/plain": [
       "<matplotlib.figure.Figure at 0x10fde8d50>"
      ]
     },
     "metadata": {},
     "output_type": "display_data"
    }
   ],
   "source": [
    "# Looking at a likelihood profile is a good method\n",
    "# to check that the reported errors make sense\n",
    "minuit.draw_mnprofile('mu');"
   ]
  },
  {
   "cell_type": "code",
   "execution_count": 28,
   "metadata": {
    "collapsed": false
   },
   "outputs": [
    {
     "name": "stderr",
     "output_type": "stream",
     "text": [
      "/Users/anaderi/miniconda/envs/opera/lib/python2.7/site-packages/iminuit-1.2-py2.7-macosx-10.5-x86_64.egg/iminuit/_plotting.py:86: LogWarning: x is really small return 0\n"
     ]
    },
    {
     "data": {
      "image/png": "[encoded data removed]",
      "text/plain": [
       "<matplotlib.figure.Figure at 0x1109a8990>"
      ]
     },
     "metadata": {},
     "output_type": "display_data"
    }
   ],
   "source": [
    "# Plot a 2d contour error\n",
    "# You can notice that it takes some time to draw\n",
    "# We will this is because our PDF is defined in Python\n",
    "# We will show how to speed this up later\n",
    "minuit.draw_mncontour('mu', 'sigma');"
   ]
  },
  {
   "cell_type": "markdown",
   "metadata": {},
   "source": [
    "## Chi^2 fit of a Gaussian distribution\n",
    "\n",
    "Let's explore another popular cost function chi^2.\n",
    "Chi^2 is bad when you have bin with 0.\n",
    "ROOT just ignore.\n",
    "ROOFIT does something I don't remember.\n",
    "But it's best to avoid using chi^2 when you have bin with 0 count."
   ]
  },
  {
   "cell_type": "code",
   "execution_count": 29,
   "metadata": {
    "collapsed": false
   },
   "outputs": [
    {
     "data": {
      "image/png": "[encoded data removed]",
      "text/plain": [
       "<matplotlib.figure.Figure at 0x110855790>"
      ]
     },
     "metadata": {},
     "output_type": "display_data"
    }
   ],
   "source": [
    "# We will use the same data as in the previous example\n",
    "np.random.seed(0)\n",
    "data = np.random.randn(10000) * 4 + 1\n",
    "# sigma = 4 and mean = 1\n",
    "plt.hist(data, bins=100, histtype='step');"
   ]
  },
  {
   "cell_type": "code",
   "execution_count": 30,
   "metadata": {
    "collapsed": false
   },
   "outputs": [],
   "source": [
    "# We will use the same PDF as in the previous example\n",
    "def gauss_pdf(x, mu, sigma):\n",
    "    \"\"\"Normalized Gaussian\"\"\"\n",
    "    return 1 / np.sqrt(2 * np.pi) / sigma * np.exp(-(x - mu) **2 / 2. / sigma ** 2)"
   ]
  },
  {
   "cell_type": "code",
   "execution_count": 31,
   "metadata": {
    "collapsed": false
   },
   "outputs": [],
   "source": [
    "# Binned chi^2 fit only makes sense (for now) for extended PDFs\n",
    "# probfit.Extended adds a norm parameter with name 'N'\n",
    "extended_gauss_pdf = probfit.Extended(gauss_pdf)"
   ]
  },
  {
   "cell_type": "code",
   "execution_count": 32,
   "metadata": {
    "collapsed": false
   },
   "outputs": [
    {
     "data": {
      "text/plain": [
       "['x', 'mu', 'sigma', 'N']"
      ]
     },
     "execution_count": 32,
     "metadata": {},
     "output_type": "execute_result"
    }
   ],
   "source": [
    "# Describe the function signature\n",
    "iminuit.describe(extended_gauss_pdf)"
   ]
  },
  {
   "cell_type": "code",
   "execution_count": 33,
   "metadata": {
    "collapsed": false
   },
   "outputs": [],
   "source": [
    "# Chi^2 distribution fit is really bad for distribution with long tail\n",
    "# since when bin count=0... poisson error=0 and blows up chi^2\n",
    "# so give it some range\n",
    "chi2 = probfit.BinnedChi2(extended_gauss_pdf, data, bound=(-7,10))\n",
    "# This time we use the pedantic=False option to tell Minuit\n",
    "# that we don't want warnings about parameters without initial\n",
    "# value or step size.\n",
    "# And print_level=0 means that no output is generated\n",
    "minuit = iminuit.Minuit(chi2, sigma=1, pedantic=False, print_level=0)\n",
    "minuit.migrad();"
   ]
  },
  {
   "cell_type": "code",
   "execution_count": 34,
   "metadata": {
    "collapsed": false
   },
   "outputs": [
    {
     "data": {
      "text/html": [
       "<hr>"
      ]
     },
     "metadata": {},
     "output_type": "display_data"
    },
    {
     "data": {
      "text/html": [
       "\n",
       "        <table>\n",
       "            <tr>\n",
       "                <td title=\"Minimum value of function\">FCN = 36.5025998638</td>\n",
       "                <td title=\"Total number of call to FCN so far\">TOTAL NCALL = 109</td>\n",
       "                <td title=\"Number of call in last migrad\">NCALLS = 109</td>\n",
       "            </tr>\n",
       "            <tr>\n",
       "                <td title=\"Estimated distance to minimum\">EDM = 4.6474267658e-07</td>\n",
       "                <td title=\"Maximum EDM definition of convergence\">GOAL EDM = 1e-05</td>\n",
       "                <td title=\"Error def. Amount of increase in FCN to be defined as 1 standard deviation\">\n",
       "                UP = 1.0</td>\n",
       "            </tr>\n",
       "        </table>\n",
       "        \n",
       "        <table>\n",
       "            <tr>\n",
       "                <td align=\"center\" title=\"Validity of the migrad call\">Valid</td>\n",
       "                <td align=\"center\" title=\"Validity of parameters\">Valid Param</td>\n",
       "                <td align=\"center\" title=\"Is Covariance matrix accurate?\">Accurate Covar</td>\n",
       "                <td align=\"center\" title=\"Positive definiteness of covariance matrix\">PosDef</td>\n",
       "                <td align=\"center\" title=\"Was covariance matrix made posdef by adding diagonal element\">Made PosDef</td>\n",
       "            </tr>\n",
       "            <tr>\n",
       "                <td align=\"center\" style=\"background-color:#92CCA6\">True</td>\n",
       "                <td align=\"center\" style=\"background-color:#92CCA6\">True</td>\n",
       "                <td align=\"center\" style=\"background-color:#92CCA6\">True</td>\n",
       "                <td align=\"center\" style=\"background-color:#92CCA6\">True</td>\n",
       "                <td align=\"center\" style=\"background-color:#92CCA6\">False</td>\n",
       "            </tr>\n",
       "            <tr>\n",
       "                <td align=\"center\" title=\"Was last hesse call fail?\">Hesse Fail</td>\n",
       "                <td align=\"center\" title=\"Validity of covariance\">HasCov</td>\n",
       "                <td align=\"center\" title=\"Is EDM above goal EDM?\">Above EDM</td>\n",
       "                <td align=\"center\"></td>\n",
       "                <td align=\"center\" title=\"Did last migrad call reach max call limit?\">Reach calllim</td>\n",
       "            </tr>\n",
       "            <tr>\n",
       "                <td align=\"center\" style=\"background-color:#92CCA6\">False</td>\n",
       "                <td align=\"center\" style=\"background-color:#92CCA6\">True</td>\n",
       "                <td align=\"center\" style=\"background-color:#92CCA6\">False</td>\n",
       "                <td align=\"center\"></td>\n",
       "                <td align=\"center\" style=\"background-color:#92CCA6\">False</td>\n",
       "            </tr>\n",
       "        </table>\n",
       "        "
      ]
     },
     "metadata": {},
     "output_type": "display_data"
    },
    {
     "data": {
      "text/html": [
       "\n",
       "        <table>\n",
       "            <tr>\n",
       "                <td><a href=\"#\" onclick=\"$('#RXBCaiztpV').toggle()\">+</a></td>\n",
       "                <td title=\"Variable name\">Name</td>\n",
       "                <td title=\"Value of parameter\">Value</td>\n",
       "                <td title=\"Parabolic error\">Parab Error</td>\n",
       "                <td title=\"Minos lower error\">Minos Error-</td>\n",
       "                <td title=\"Minos upper error\">Minos Error+</td>\n",
       "                <td title=\"Lower limit of the parameter\">Limit-</td>\n",
       "                <td title=\"Upper limit of the parameter\">Limit+</td>\n",
       "                <td title=\"Is the parameter fixed in the fit\">FIXED</td>\n",
       "            </tr>\n",
       "        \n",
       "            <tr>\n",
       "                <td>1</td>\n",
       "                <td>mu</td>\n",
       "                <td>0.906468</td>\n",
       "                <td>0.0448253</td>\n",
       "                <td>0</td>\n",
       "                <td>0</td>\n",
       "                <td></td>\n",
       "                <td></td>\n",
       "                <td></td>\n",
       "            </tr>\n",
       "            \n",
       "            <tr>\n",
       "                <td>2</td>\n",
       "                <td>sigma</td>\n",
       "                <td>3.95905</td>\n",
       "                <td>0.0411286</td>\n",
       "                <td>0</td>\n",
       "                <td>0</td>\n",
       "                <td></td>\n",
       "                <td></td>\n",
       "                <td></td>\n",
       "            </tr>\n",
       "            \n",
       "            <tr>\n",
       "                <td>3</td>\n",
       "                <td>N</td>\n",
       "                <td>9969.72</td>\n",
       "                <td>103.372</td>\n",
       "                <td>0</td>\n",
       "                <td>0</td>\n",
       "                <td></td>\n",
       "                <td></td>\n",
       "                <td></td>\n",
       "            </tr>\n",
       "            \n",
       "            </table>\n",
       "        \n",
       "            <pre id=\"RXBCaiztpV\" style=\"display:none;\">\n",
       "            <textarea rows=\"12\" cols=\"50\" onclick=\"this.select()\" readonly>\\begin{tabular}{|c|r|r|r|r|r|r|r|c|}\n",
       "\\hline\n",
       " & Name & Value & Para Error & Error+ & Error- & Limit+ & Limit- & FIXED\\\\\n",
       "\\hline\n",
       "1 & $\\mu$ & 9.065e-01 & 4.483e-02 &  &  &  &  & \\\\\n",
       "\\hline\n",
       "2 & $\\sigma$ & 3.959e+00 & 4.113e-02 &  &  &  &  & \\\\\n",
       "\\hline\n",
       "3 & N & 9.970e+03 & 1.034e+02 &  &  &  &  & \\\\\n",
       "\\hline\n",
       "\\end{tabular}</textarea>\n",
       "            </pre>\n",
       "            "
      ]
     },
     "metadata": {},
     "output_type": "display_data"
    },
    {
     "data": {
      "text/html": [
       "<hr>"
      ]
     },
     "metadata": {},
     "output_type": "display_data"
    },
    {
     "data": {
      "text/html": [
       "\n",
       "            <table>\n",
       "                <tr>\n",
       "                    <td><a onclick=\"$('#tZguDsSaWE').toggle()\" href=\"#\">+</a></td>\n",
       "        \n",
       "            <td>\n",
       "            <div style=\"width:20px;position:relative; width: -moz-fit-content;\">\n",
       "            <div style=\"display:inline-block;-webkit-writing-mode:vertical-rl;-moz-writing-mode: vertical-rl;writing-mode: vertical-rl;\">\n",
       "            mu\n",
       "            </div>\n",
       "            </div>\n",
       "            </td>\n",
       "            \n",
       "            <td>\n",
       "            <div style=\"width:20px;position:relative; width: -moz-fit-content;\">\n",
       "            <div style=\"display:inline-block;-webkit-writing-mode:vertical-rl;-moz-writing-mode: vertical-rl;writing-mode: vertical-rl;\">\n",
       "            sigma\n",
       "            </div>\n",
       "            </div>\n",
       "            </td>\n",
       "            \n",
       "            <td>\n",
       "            <div style=\"width:20px;position:relative; width: -moz-fit-content;\">\n",
       "            <div style=\"display:inline-block;-webkit-writing-mode:vertical-rl;-moz-writing-mode: vertical-rl;writing-mode: vertical-rl;\">\n",
       "            N\n",
       "            </div>\n",
       "            </div>\n",
       "            </td>\n",
       "            \n",
       "                </tr>\n",
       "                \n",
       "            <tr>\n",
       "                <td>mu</td>\n",
       "            \n",
       "                <td style=\"background-color:rgb(255,117,117)\">\n",
       "                1.00\n",
       "                </td>\n",
       "                \n",
       "                <td style=\"background-color:rgb(172,240,179)\">\n",
       "                -0.10\n",
       "                </td>\n",
       "                \n",
       "                <td style=\"background-color:rgb(167,247,183)\">\n",
       "                -0.05\n",
       "                </td>\n",
       "                \n",
       "            </tr>\n",
       "            \n",
       "            <tr>\n",
       "                <td>sigma</td>\n",
       "            \n",
       "                <td style=\"background-color:rgb(172,240,179)\">\n",
       "                -0.10\n",
       "                </td>\n",
       "                \n",
       "                <td style=\"background-color:rgb(255,117,117)\">\n",
       "                1.00\n",
       "                </td>\n",
       "                \n",
       "                <td style=\"background-color:rgb(180,229,173)\">\n",
       "                0.18\n",
       "                </td>\n",
       "                \n",
       "            </tr>\n",
       "            \n",
       "            <tr>\n",
       "                <td>N</td>\n",
       "            \n",
       "                <td style=\"background-color:rgb(167,247,183)\">\n",
       "                -0.05\n",
       "                </td>\n",
       "                \n",
       "                <td style=\"background-color:rgb(180,229,173)\">\n",
       "                0.18\n",
       "                </td>\n",
       "                \n",
       "                <td style=\"background-color:rgb(255,117,117)\">\n",
       "                1.00\n",
       "                </td>\n",
       "                \n",
       "            </tr>\n",
       "            </table>\n",
       "\n",
       "            <pre id=\"tZguDsSaWE\" style=\"display:none;\">\n",
       "            <textarea rows=\"15\" cols=\"50\" onclick=\"this.select()\" readonly>%\\usepackage[table]{xcolor} % include this for color\n",
       "%\\usepackage{rotating} % include this for rotate header\n",
       "%\\documentclass[xcolor=table]{beamer} % for beamer\n",
       "\\begin{tabular}{|c|c|c|c|}\n",
       "\\hline\n",
       "\\rotatebox{90}{} & \\rotatebox{90}{$\\mu$} & \\rotatebox{90}{$\\sigma$} & \\rotatebox{90}{N}\\\\\n",
       "\\hline\n",
       "$\\mu$ & \\cellcolor[RGB]{255,117,117} 1.00 & \\cellcolor[RGB]{172,240,179} -0.10 & \\cellcolor[RGB]{167,247,183} -0.05\\\\\n",
       "\\hline\n",
       "$\\sigma$ & \\cellcolor[RGB]{172,240,179} -0.10 & \\cellcolor[RGB]{255,117,117} 1.00 & \\cellcolor[RGB]{180,229,173} 0.18\\\\\n",
       "\\hline\n",
       "N & \\cellcolor[RGB]{167,247,183} -0.05 & \\cellcolor[RGB]{180,229,173} 0.18 & \\cellcolor[RGB]{255,117,117} 1.00\\\\\n",
       "\\hline\n",
       "\\end{tabular}</textarea>\n",
       "            </pre>\n",
       "            "
      ]
     },
     "metadata": {},
     "output_type": "display_data"
    },
    {
     "data": {
      "image/png": "[encoded data removed]",
      "text/plain": [
       "<matplotlib.figure.Figure at 0x10d2ef310>"
      ]
     },
     "metadata": {},
     "output_type": "display_data"
    }
   ],
   "source": [
    "# Now let's look at the results\n",
    "minuit.print_fmin()\n",
    "minuit.print_matrix()\n",
    "chi2.draw(minuit);"
   ]
  },
  {
   "cell_type": "markdown",
   "metadata": {},
   "source": [
    "## Fast unbinned likelihood fit Cython\n",
    "\n",
    "Unbinned likelihood is computationally very very expensive if you have a lot of data.\n",
    "It's now a good time that we talk about how to speed things up with [Cython](http://cython.org)."
   ]
  },
  {
   "cell_type": "code",
   "execution_count": 10,
   "metadata": {
    "collapsed": false
   },
   "outputs": [
    {
     "data": {
      "image/png": "[encoded data removed]",
      "text/plain": [
       "<matplotlib.figure.Figure at 0x10ec1fc90>"
      ]
     },
     "metadata": {},
     "output_type": "display_data"
    }
   ],
   "source": [
    "# We will use the same data as in the previous example\n",
    "np.random.seed(0)\n",
    "data = np.random.randn(10000) * 4 + 1\n",
    "# sigma = 4 and mean = 1\n",
    "plt.hist(data, bins=100, histtype='step');"
   ]
  },
  {
   "cell_type": "code",
   "execution_count": 5,
   "metadata": {
    "collapsed": false
   },
   "outputs": [
    {
     "name": "stdout",
     "output_type": "stream",
     "text": [
      "The Cython extension is already loaded. To reload it, use:\n",
      "  %reload_ext Cython\n"
     ]
    }
   ],
   "source": [
    "# We want to speed things up with Cython\n",
    "%load_ext Cython"
   ]
  },
  {
   "cell_type": "code",
   "execution_count": 6,
   "metadata": {
    "collapsed": false
   },
   "outputs": [],
   "source": [
    "%%cython\n",
    "# Same gaussian distribution but now written in Cython\n",
    "# The %%cython IPython does the following:\n",
    "# * Call Cython to generate C code for a Python C extension.\n",
    "# * Compile it into a Python C extension (a shared library)\n",
    "# * Load it into the current namespace\n",
    "# If you don't understand these things, don't worry, it basically means:\n",
    "# * Get full-metal speed easily\n",
    "cimport cython\n",
    "from libc.math cimport exp, M_PI, sqrt\n",
    "@cython.binding(True) # IMPORTANT: this tells Cython to dump the function signature\n",
    "def gauss_pdf_cython(double x, double mu, double sigma):\n",
    "    return 1 / sqrt(2 * M_PI) / sigma * exp(-(x - mu) ** 2 / 2. / sigma ** 2)"
   ]
  },
  {
   "cell_type": "code",
   "execution_count": 11,
   "metadata": {
    "collapsed": false
   },
   "outputs": [],
   "source": [
    "# Define the unbinned likelihood cost function \n",
    "unbinned_likelihood = probfit.UnbinnedLH(gauss_pdf_cython, data)"
   ]
  },
  {
   "cell_type": "code",
   "execution_count": 12,
   "metadata": {
    "collapsed": false
   },
   "outputs": [
    {
     "data": {
      "image/png": "[encoded data removed]",
      "text/plain": [
       "<matplotlib.figure.Figure at 0x10ee215d0>"
      ]
     },
     "metadata": {},
     "output_type": "display_data"
    },
    {
     "data": {
      "text/html": [
       "<hr>"
      ]
     },
     "metadata": {},
     "output_type": "display_data"
    },
    {
     "data": {
      "text/html": [
       "\n",
       "        <table>\n",
       "            <tr>\n",
       "                <td title=\"Minimum value of function\">FCN = 27927.113951</td>\n",
       "                <td title=\"Total number of call to FCN so far\">TOTAL NCALL = 61</td>\n",
       "                <td title=\"Number of call in last migrad\">NCALLS = 61</td>\n",
       "            </tr>\n",
       "            <tr>\n",
       "                <td title=\"Estimated distance to minimum\">EDM = 3.94434184481e-06</td>\n",
       "                <td title=\"Maximum EDM definition of convergence\">GOAL EDM = 5e-06</td>\n",
       "                <td title=\"Error def. Amount of increase in FCN to be defined as 1 standard deviation\">\n",
       "                UP = 0.5</td>\n",
       "            </tr>\n",
       "        </table>\n",
       "        \n",
       "        <table>\n",
       "            <tr>\n",
       "                <td align=\"center\" title=\"Validity of the migrad call\">Valid</td>\n",
       "                <td align=\"center\" title=\"Validity of parameters\">Valid Param</td>\n",
       "                <td align=\"center\" title=\"Is Covariance matrix accurate?\">Accurate Covar</td>\n",
       "                <td align=\"center\" title=\"Positive definiteness of covariance matrix\">PosDef</td>\n",
       "                <td align=\"center\" title=\"Was covariance matrix made posdef by adding diagonal element\">Made PosDef</td>\n",
       "            </tr>\n",
       "            <tr>\n",
       "                <td align=\"center\" style=\"background-color:#92CCA6\">True</td>\n",
       "                <td align=\"center\" style=\"background-color:#92CCA6\">True</td>\n",
       "                <td align=\"center\" style=\"background-color:#92CCA6\">True</td>\n",
       "                <td align=\"center\" style=\"background-color:#92CCA6\">True</td>\n",
       "                <td align=\"center\" style=\"background-color:#92CCA6\">False</td>\n",
       "            </tr>\n",
       "            <tr>\n",
       "                <td align=\"center\" title=\"Was last hesse call fail?\">Hesse Fail</td>\n",
       "                <td align=\"center\" title=\"Validity of covariance\">HasCov</td>\n",
       "                <td align=\"center\" title=\"Is EDM above goal EDM?\">Above EDM</td>\n",
       "                <td align=\"center\"></td>\n",
       "                <td align=\"center\" title=\"Did last migrad call reach max call limit?\">Reach calllim</td>\n",
       "            </tr>\n",
       "            <tr>\n",
       "                <td align=\"center\" style=\"background-color:#92CCA6\">False</td>\n",
       "                <td align=\"center\" style=\"background-color:#92CCA6\">True</td>\n",
       "                <td align=\"center\" style=\"background-color:#92CCA6\">False</td>\n",
       "                <td align=\"center\"></td>\n",
       "                <td align=\"center\" style=\"background-color:#92CCA6\">False</td>\n",
       "            </tr>\n",
       "        </table>\n",
       "        "
      ]
     },
     "metadata": {},
     "output_type": "display_data"
    },
    {
     "data": {
      "text/html": [
       "\n",
       "        <table>\n",
       "            <tr>\n",
       "                <td><a href=\"#\" onclick=\"$('#fweJxPGbWo').toggle()\">+</a></td>\n",
       "                <td title=\"Variable name\">Name</td>\n",
       "                <td title=\"Value of parameter\">Value</td>\n",
       "                <td title=\"Parabolic error\">Parab Error</td>\n",
       "                <td title=\"Minos lower error\">Minos Error-</td>\n",
       "                <td title=\"Minos upper error\">Minos Error+</td>\n",
       "                <td title=\"Lower limit of the parameter\">Limit-</td>\n",
       "                <td title=\"Upper limit of the parameter\">Limit+</td>\n",
       "                <td title=\"Is the parameter fixed in the fit\">FIXED</td>\n",
       "            </tr>\n",
       "        \n",
       "            <tr>\n",
       "                <td>1</td>\n",
       "                <td>mu</td>\n",
       "                <td>0.926222</td>\n",
       "                <td>0.039503</td>\n",
       "                <td>0</td>\n",
       "                <td>0</td>\n",
       "                <td></td>\n",
       "                <td></td>\n",
       "                <td></td>\n",
       "            </tr>\n",
       "            \n",
       "            <tr>\n",
       "                <td>2</td>\n",
       "                <td>sigma</td>\n",
       "                <td>3.9503</td>\n",
       "                <td>0.0279336</td>\n",
       "                <td>0</td>\n",
       "                <td>0</td>\n",
       "                <td></td>\n",
       "                <td></td>\n",
       "                <td></td>\n",
       "            </tr>\n",
       "            \n",
       "            </table>\n",
       "        \n",
       "            <pre id=\"fweJxPGbWo\" style=\"display:none;\">\n",
       "            <textarea rows=\"10\" cols=\"50\" onclick=\"this.select()\" readonly>\\begin{tabular}{|c|r|r|r|r|r|r|r|c|}\n",
       "\\hline\n",
       " & Name & Value & Para Error & Error+ & Error- & Limit+ & Limit- & FIXED\\\\\n",
       "\\hline\n",
       "1 & $\\mu$ & 9.262e-01 & 3.950e-02 &  &  &  &  & \\\\\n",
       "\\hline\n",
       "2 & $\\sigma$ & 3.950e+00 & 2.793e-02 &  &  &  &  & \\\\\n",
       "\\hline\n",
       "\\end{tabular}</textarea>\n",
       "            </pre>\n",
       "            "
      ]
     },
     "metadata": {},
     "output_type": "display_data"
    },
    {
     "data": {
      "text/html": [
       "<hr>"
      ]
     },
     "metadata": {},
     "output_type": "display_data"
    },
    {
     "data": {
      "text/html": [
       "\n",
       "            <table>\n",
       "                <tr>\n",
       "                    <td><a onclick=\"$('#oWiUXzrwVF').toggle()\" href=\"#\">+</a></td>\n",
       "        \n",
       "            <td>\n",
       "            <div style=\"width:20px;position:relative; width: -moz-fit-content;\">\n",
       "            <div style=\"display:inline-block;-webkit-writing-mode:vertical-rl;-moz-writing-mode: vertical-rl;writing-mode: vertical-rl;\">\n",
       "            mu\n",
       "            </div>\n",
       "            </div>\n",
       "            </td>\n",
       "            \n",
       "            <td>\n",
       "            <div style=\"width:20px;position:relative; width: -moz-fit-content;\">\n",
       "            <div style=\"display:inline-block;-webkit-writing-mode:vertical-rl;-moz-writing-mode: vertical-rl;writing-mode: vertical-rl;\">\n",
       "            sigma\n",
       "            </div>\n",
       "            </div>\n",
       "            </td>\n",
       "            \n",
       "                </tr>\n",
       "                \n",
       "            <tr>\n",
       "                <td>mu</td>\n",
       "            \n",
       "                <td style=\"background-color:rgb(255,117,117)\">\n",
       "                1.00\n",
       "                </td>\n",
       "                \n",
       "                <td style=\"background-color:rgb(163,254,186)\">\n",
       "                0.00\n",
       "                </td>\n",
       "                \n",
       "            </tr>\n",
       "            \n",
       "            <tr>\n",
       "                <td>sigma</td>\n",
       "            \n",
       "                <td style=\"background-color:rgb(163,254,186)\">\n",
       "                0.00\n",
       "                </td>\n",
       "                \n",
       "                <td style=\"background-color:rgb(255,117,117)\">\n",
       "                1.00\n",
       "                </td>\n",
       "                \n",
       "            </tr>\n",
       "            </table>\n",
       "\n",
       "            <pre id=\"oWiUXzrwVF\" style=\"display:none;\">\n",
       "            <textarea rows=\"13\" cols=\"50\" onclick=\"this.select()\" readonly>%\\usepackage[table]{xcolor} % include this for color\n",
       "%\\usepackage{rotating} % include this for rotate header\n",
       "%\\documentclass[xcolor=table]{beamer} % for beamer\n",
       "\\begin{tabular}{|c|c|c|}\n",
       "\\hline\n",
       "\\rotatebox{90}{} & \\rotatebox{90}{$\\mu$} & \\rotatebox{90}{$\\sigma$}\\\\\n",
       "\\hline\n",
       "$\\mu$ & \\cellcolor[RGB]{255,117,117} 1.00 & \\cellcolor[RGB]{163,254,186} 0.00\\\\\n",
       "\\hline\n",
       "$\\sigma$ & \\cellcolor[RGB]{163,254,186} 0.00 & \\cellcolor[RGB]{255,117,117} 1.00\\\\\n",
       "\\hline\n",
       "\\end{tabular}</textarea>\n",
       "            </pre>\n",
       "            "
      ]
     },
     "metadata": {},
     "output_type": "display_data"
    }
   ],
   "source": [
    "minuit = iminuit.Minuit(unbinned_likelihood, sigma=2, pedantic=False, print_level=0)\n",
    "# Remember: minuit.errordef is automatically set to 0.5\n",
    "# as required for likelihood fits (this was explained above)\n",
    "minuit.migrad() # yes: amazingly fast\n",
    "unbinned_likelihood.show(minuit)\n",
    "minuit.print_fmin()\n",
    "minuit.print_matrix() "
   ]
  },
  {
   "cell_type": "code",
   "execution_count": 13,
   "metadata": {
    "collapsed": false
   },
   "outputs": [
    {
     "data": {
      "image/png": "[encoded data removed]",
      "text/plain": [
       "<matplotlib.figure.Figure at 0x10a668c90>"
      ]
     },
     "metadata": {},
     "output_type": "display_data"
    }
   ],
   "source": [
    "# Remember how slow draw_mnprofile() was in the last example?\n",
    "# Now it's super fast (even though the unbinned\n",
    "# likelihood computation is more compute-intensive).\n",
    "minuit.draw_mnprofile('mu');"
   ]
  },
  {
   "cell_type": "markdown",
   "metadata": {},
   "source": [
    "But you really don't have to write your own gaussian, there are tons of builtin functions written in Cython for you."
   ]
  },
  {
   "cell_type": "code",
   "execution_count": 14,
   "metadata": {
    "collapsed": false
   },
   "outputs": [
    {
     "name": "stdout",
     "output_type": "stream",
     "text": [
      "['HistogramPdf', 'MinimalFuncCode', 'Polynomial', '_Linear', '__builtins__', '__doc__', '__file__', '__name__', '__package__', '__pyx_capi__', '__test__', 'argus', 'cauchy', 'cruijff', 'crystalball', 'describe', 'doublegaussian', 'gaussian', 'linear', 'novosibirsk', 'np', 'poly2', 'poly3', 'rtv_breitwigner', 'ugaussian']\n",
      "[u'x', u'mean', u'sigma']\n",
      "<type 'builtin_function_or_method'>\n"
     ]
    }
   ],
   "source": [
    "# Here's how you can list them\n",
    "import probfit.pdf\n",
    "print(dir(probfit.pdf))\n",
    "print(iminuit.describe(probfit.pdf.gaussian))\n",
    "print(type(probfit.pdf.gaussian))\n",
    "# But actually they are always all imported into the main probfit\n",
    "# namespace, so we'll keep using the simpler probfit.gaussian instead of\n",
    "# probfit.pdf.gaussian here."
   ]
  },
  {
   "cell_type": "code",
   "execution_count": 15,
   "metadata": {
    "collapsed": false
   },
   "outputs": [
    {
     "data": {
      "text/html": [
       "<hr>"
      ]
     },
     "metadata": {},
     "output_type": "display_data"
    },
    {
     "data": {
      "text/html": [
       "\n",
       "        <table>\n",
       "            <tr>\n",
       "                <td title=\"Minimum value of function\">FCN = 27927.113951</td>\n",
       "                <td title=\"Total number of call to FCN so far\">TOTAL NCALL = 61</td>\n",
       "                <td title=\"Number of call in last migrad\">NCALLS = 61</td>\n",
       "            </tr>\n",
       "            <tr>\n",
       "                <td title=\"Estimated distance to minimum\">EDM = 3.94434240024e-06</td>\n",
       "                <td title=\"Maximum EDM definition of convergence\">GOAL EDM = 5e-06</td>\n",
       "                <td title=\"Error def. Amount of increase in FCN to be defined as 1 standard deviation\">\n",
       "                UP = 0.5</td>\n",
       "            </tr>\n",
       "        </table>\n",
       "        \n",
       "        <table>\n",
       "            <tr>\n",
       "                <td align=\"center\" title=\"Validity of the migrad call\">Valid</td>\n",
       "                <td align=\"center\" title=\"Validity of parameters\">Valid Param</td>\n",
       "                <td align=\"center\" title=\"Is Covariance matrix accurate?\">Accurate Covar</td>\n",
       "                <td align=\"center\" title=\"Positive definiteness of covariance matrix\">PosDef</td>\n",
       "                <td align=\"center\" title=\"Was covariance matrix made posdef by adding diagonal element\">Made PosDef</td>\n",
       "            </tr>\n",
       "            <tr>\n",
       "                <td align=\"center\" style=\"background-color:#92CCA6\">True</td>\n",
       "                <td align=\"center\" style=\"background-color:#92CCA6\">True</td>\n",
       "                <td align=\"center\" style=\"background-color:#92CCA6\">True</td>\n",
       "                <td align=\"center\" style=\"background-color:#92CCA6\">True</td>\n",
       "                <td align=\"center\" style=\"background-color:#92CCA6\">False</td>\n",
       "            </tr>\n",
       "            <tr>\n",
       "                <td align=\"center\" title=\"Was last hesse call fail?\">Hesse Fail</td>\n",
       "                <td align=\"center\" title=\"Validity of covariance\">HasCov</td>\n",
       "                <td align=\"center\" title=\"Is EDM above goal EDM?\">Above EDM</td>\n",
       "                <td align=\"center\"></td>\n",
       "                <td align=\"center\" title=\"Did last migrad call reach max call limit?\">Reach calllim</td>\n",
       "            </tr>\n",
       "            <tr>\n",
       "                <td align=\"center\" style=\"background-color:#92CCA6\">False</td>\n",
       "                <td align=\"center\" style=\"background-color:#92CCA6\">True</td>\n",
       "                <td align=\"center\" style=\"background-color:#92CCA6\">False</td>\n",
       "                <td align=\"center\"></td>\n",
       "                <td align=\"center\" style=\"background-color:#92CCA6\">False</td>\n",
       "            </tr>\n",
       "        </table>\n",
       "        "
      ]
     },
     "metadata": {},
     "output_type": "display_data"
    },
    {
     "data": {
      "text/html": [
       "\n",
       "        <table>\n",
       "            <tr>\n",
       "                <td><a href=\"#\" onclick=\"$('#wjhZPFcOLp').toggle()\">+</a></td>\n",
       "                <td title=\"Variable name\">Name</td>\n",
       "                <td title=\"Value of parameter\">Value</td>\n",
       "                <td title=\"Parabolic error\">Parab Error</td>\n",
       "                <td title=\"Minos lower error\">Minos Error-</td>\n",
       "                <td title=\"Minos upper error\">Minos Error+</td>\n",
       "                <td title=\"Lower limit of the parameter\">Limit-</td>\n",
       "                <td title=\"Upper limit of the parameter\">Limit+</td>\n",
       "                <td title=\"Is the parameter fixed in the fit\">FIXED</td>\n",
       "            </tr>\n",
       "        \n",
       "            <tr>\n",
       "                <td>1</td>\n",
       "                <td>mean</td>\n",
       "                <td>0.926222</td>\n",
       "                <td>0.039503</td>\n",
       "                <td>0</td>\n",
       "                <td>0</td>\n",
       "                <td></td>\n",
       "                <td></td>\n",
       "                <td></td>\n",
       "            </tr>\n",
       "            \n",
       "            <tr>\n",
       "                <td>2</td>\n",
       "                <td>sigma</td>\n",
       "                <td>3.9503</td>\n",
       "                <td>0.0279336</td>\n",
       "                <td>0</td>\n",
       "                <td>0</td>\n",
       "                <td></td>\n",
       "                <td></td>\n",
       "                <td></td>\n",
       "            </tr>\n",
       "            \n",
       "            </table>\n",
       "        \n",
       "            <pre id=\"wjhZPFcOLp\" style=\"display:none;\">\n",
       "            <textarea rows=\"10\" cols=\"50\" onclick=\"this.select()\" readonly>\\begin{tabular}{|c|r|r|r|r|r|r|r|c|}\n",
       "\\hline\n",
       " & Name & Value & Para Error & Error+ & Error- & Limit+ & Limit- & FIXED\\\\\n",
       "\\hline\n",
       "1 & mean & 9.262e-01 & 3.950e-02 &  &  &  &  & \\\\\n",
       "\\hline\n",
       "2 & $\\sigma$ & 3.950e+00 & 2.793e-02 &  &  &  &  & \\\\\n",
       "\\hline\n",
       "\\end{tabular}</textarea>\n",
       "            </pre>\n",
       "            "
      ]
     },
     "metadata": {},
     "output_type": "display_data"
    },
    {
     "data": {
      "text/html": [
       "<hr>"
      ]
     },
     "metadata": {},
     "output_type": "display_data"
    },
    {
     "data": {
      "text/plain": [
       "((array([-13.96040255, -13.65873212, -13.35706168, -13.05539125,\n",
       "         -12.75372082, -12.45205038, -12.15037995, -11.84870951,\n",
       "         -11.54703908, -11.24536864, -10.94369821, -10.64202778,\n",
       "         -10.34035734, -10.03868691,  -9.73701647,  -9.43534604,\n",
       "          -9.13367561,  -8.83200517,  -8.53033474,  -8.2286643 ,\n",
       "          -7.92699387,  -7.62532344,  -7.323653  ,  -7.02198257,\n",
       "          -6.72031213,  -6.4186417 ,  -6.11697126,  -5.81530083,\n",
       "          -5.5136304 ,  -5.21195996,  -4.91028953,  -4.60861909,\n",
       "          -4.30694866,  -4.00527823,  -3.70360779,  -3.40193736,\n",
       "          -3.10026692,  -2.79859649,  -2.49692606,  -2.19525562,\n",
       "          -1.89358519,  -1.59191475,  -1.29024432,  -0.98857388,\n",
       "          -0.68690345,  -0.38523302,  -0.08356258,   0.21810785,\n",
       "           0.51977829,   0.82144872,   1.12311915,   1.42478959,\n",
       "           1.72646002,   2.02813046,   2.32980089,   2.63147132,\n",
       "           2.93314176,   3.23481219,   3.53648263,   3.83815306,\n",
       "           4.1398235 ,   4.44149393,   4.74316436,   5.0448348 ,\n",
       "           5.34650523,   5.64817567,   5.9498461 ,   6.25151653,\n",
       "           6.55318697,   6.8548574 ,   7.15652784,   7.45819827,\n",
       "           7.7598687 ,   8.06153914,   8.36320957,   8.66488001,\n",
       "           8.96655044,   9.26822088,   9.56989131,   9.87156174,\n",
       "          10.17323218,  10.47490261,  10.77657305,  11.07824348,\n",
       "          11.37991391,  11.68158435,  11.98325478,  12.28492522,\n",
       "          12.58659565,  12.88826608,  13.18993652,  13.49160695,\n",
       "          13.79327739,  14.09494782,  14.39661826,  14.69828869,\n",
       "          14.99995912,  15.30162956,  15.60329999,  15.90497043,  16.20664086]),\n",
       "  array([  1,   0,   0,   0,   1,   0,   0,   0,   3,   5,   5,   3,   7,\n",
       "           7,   9,  19,   5,  12,  22,  21,  30,  32,  30,  39,  41,  57,\n",
       "          70,  88,  88, 104, 120, 130, 135, 141, 139, 167, 202, 208, 228,\n",
       "         240, 220, 234, 273, 254, 299, 289, 285, 307, 342, 330, 295, 300,\n",
       "         323, 277, 254, 283, 250, 241, 242, 223, 205, 204, 177, 177, 137,\n",
       "         133, 128, 118, 102,  98,  82,  73,  76,  60,  44,  38,  38,  26,\n",
       "          26,  24,  17,  15,  16,  11,  16,   5,   3,   5,   5,   4,   1,\n",
       "           1,   1,   2,   0,   1,   0,   0,   0,   1])),\n",
       " (array([  1.        ,   0.        ,   0.        ,   0.        ,\n",
       "           1.        ,   0.        ,   0.        ,   0.        ,\n",
       "           1.73205081,   2.23606798,   2.23606798,   1.73205081,\n",
       "           2.64575131,   2.64575131,   3.        ,   4.35889894,\n",
       "           2.23606798,   3.46410162,   4.69041576,   4.58257569,\n",
       "           5.47722558,   5.65685425,   5.47722558,   6.244998  ,\n",
       "           6.40312424,   7.54983444,   8.36660027,   9.38083152,\n",
       "           9.38083152,  10.19803903,  10.95445115,  11.40175425,\n",
       "          11.61895004,  11.87434209,  11.78982612,  12.92284798,\n",
       "          14.2126704 ,  14.4222051 ,  15.09966887,  15.49193338,\n",
       "          14.83239697,  15.29705854,  16.52271164,  15.93737745,\n",
       "          17.29161647,  17.        ,  16.88194302,  17.52141547,\n",
       "          18.49324201,  18.16590212,  17.17556404,  17.32050808,\n",
       "          17.97220076,  16.64331698,  15.93737745,  16.82260384,\n",
       "          15.8113883 ,  15.5241747 ,  15.55634919,  14.93318452,\n",
       "          14.31782106,  14.28285686,  13.3041347 ,  13.3041347 ,\n",
       "          11.70469991,  11.53256259,  11.3137085 ,  10.86278049,\n",
       "          10.09950494,   9.89949494,   9.05538514,   8.54400375,\n",
       "           8.71779789,   7.74596669,   6.63324958,   6.164414  ,\n",
       "           6.164414  ,   5.09901951,   5.09901951,   4.89897949,\n",
       "           4.12310563,   3.87298335,   4.        ,   3.31662479,\n",
       "           4.        ,   2.23606798,   1.73205081,   2.23606798,\n",
       "           2.23606798,   2.        ,   1.        ,   1.        ,\n",
       "           1.        ,   1.41421356,   0.        ,   1.        ,\n",
       "           0.        ,   0.        ,   0.        ,   1.        ]),\n",
       "  array([  1.        ,   0.        ,   0.        ,   0.        ,\n",
       "           1.        ,   0.        ,   0.        ,   0.        ,\n",
       "           1.73205081,   2.23606798,   2.23606798,   1.73205081,\n",
       "           2.64575131,   2.64575131,   3.        ,   4.35889894,\n",
       "           2.23606798,   3.46410162,   4.69041576,   4.58257569,\n",
       "           5.47722558,   5.65685425,   5.47722558,   6.244998  ,\n",
       "           6.40312424,   7.54983444,   8.36660027,   9.38083152,\n",
       "           9.38083152,  10.19803903,  10.95445115,  11.40175425,\n",
       "          11.61895004,  11.87434209,  11.78982612,  12.92284798,\n",
       "          14.2126704 ,  14.4222051 ,  15.09966887,  15.49193338,\n",
       "          14.83239697,  15.29705854,  16.52271164,  15.93737745,\n",
       "          17.29161647,  17.        ,  16.88194302,  17.52141547,\n",
       "          18.49324201,  18.16590212,  17.17556404,  17.32050808,\n",
       "          17.97220076,  16.64331698,  15.93737745,  16.82260384,\n",
       "          15.8113883 ,  15.5241747 ,  15.55634919,  14.93318452,\n",
       "          14.31782106,  14.28285686,  13.3041347 ,  13.3041347 ,\n",
       "          11.70469991,  11.53256259,  11.3137085 ,  10.86278049,\n",
       "          10.09950494,   9.89949494,   9.05538514,   8.54400375,\n",
       "           8.71779789,   7.74596669,   6.63324958,   6.164414  ,\n",
       "           6.164414  ,   5.09901951,   5.09901951,   4.89897949,\n",
       "           4.12310563,   3.87298335,   4.        ,   3.31662479,\n",
       "           4.        ,   2.23606798,   1.73205081,   2.23606798,\n",
       "           2.23606798,   2.        ,   1.        ,   1.        ,\n",
       "           1.        ,   1.41421356,   0.        ,   1.        ,\n",
       "           0.        ,   0.        ,   0.        ,   1.        ])),\n",
       " (array([ -1.38849849e+01,  -1.37341497e+01,  -1.35833145e+01,\n",
       "          -1.34324793e+01,  -1.32816441e+01,  -1.31308089e+01,\n",
       "          -1.29799736e+01,  -1.28291384e+01,  -1.26783032e+01,\n",
       "          -1.25274680e+01,  -1.23766328e+01,  -1.22257976e+01,\n",
       "          -1.20749623e+01,  -1.19241271e+01,  -1.17732919e+01,\n",
       "          -1.16224567e+01,  -1.14716215e+01,  -1.13207863e+01,\n",
       "          -1.11699510e+01,  -1.10191158e+01,  -1.08682806e+01,\n",
       "          -1.07174454e+01,  -1.05666102e+01,  -1.04157750e+01,\n",
       "          -1.02649397e+01,  -1.01141045e+01,  -9.96326930e+00,\n",
       "          -9.81243408e+00,  -9.66159887e+00,  -9.51076365e+00,\n",
       "          -9.35992843e+00,  -9.20909321e+00,  -9.05825800e+00,\n",
       "          -8.90742278e+00,  -8.75658756e+00,  -8.60575235e+00,\n",
       "          -8.45491713e+00,  -8.30408191e+00,  -8.15324670e+00,\n",
       "          -8.00241148e+00,  -7.85157626e+00,  -7.70074104e+00,\n",
       "          -7.54990583e+00,  -7.39907061e+00,  -7.24823539e+00,\n",
       "          -7.09740018e+00,  -6.94656496e+00,  -6.79572974e+00,\n",
       "          -6.64489452e+00,  -6.49405931e+00,  -6.34322409e+00,\n",
       "          -6.19238887e+00,  -6.04155366e+00,  -5.89071844e+00,\n",
       "          -5.73988322e+00,  -5.58904801e+00,  -5.43821279e+00,\n",
       "          -5.28737757e+00,  -5.13654235e+00,  -4.98570714e+00,\n",
       "          -4.83487192e+00,  -4.68403670e+00,  -4.53320149e+00,\n",
       "          -4.38236627e+00,  -4.23153105e+00,  -4.08069583e+00,\n",
       "          -3.92986062e+00,  -3.77902540e+00,  -3.62819018e+00,\n",
       "          -3.47735497e+00,  -3.32651975e+00,  -3.17568453e+00,\n",
       "          -3.02484932e+00,  -2.87401410e+00,  -2.72317888e+00,\n",
       "          -2.57234366e+00,  -2.42150845e+00,  -2.27067323e+00,\n",
       "          -2.11983801e+00,  -1.96900280e+00,  -1.81816758e+00,\n",
       "          -1.66733236e+00,  -1.51649714e+00,  -1.36566193e+00,\n",
       "          -1.21482671e+00,  -1.06399149e+00,  -9.13156276e-01,\n",
       "          -7.62321059e-01,  -6.11485842e-01,  -4.60650625e-01,\n",
       "          -3.09815408e-01,  -1.58980191e-01,  -8.14497391e-03,\n",
       "           1.42690243e-01,   2.93525460e-01,   4.44360677e-01,\n",
       "           5.95195894e-01,   7.46031111e-01,   8.96866328e-01,\n",
       "           1.04770155e+00,   1.19853676e+00,   1.34937198e+00,\n",
       "           1.50020720e+00,   1.65104241e+00,   1.80187763e+00,\n",
       "           1.95271285e+00,   2.10354806e+00,   2.25438328e+00,\n",
       "           2.40521850e+00,   2.55605372e+00,   2.70688893e+00,\n",
       "           2.85772415e+00,   3.00855937e+00,   3.15939458e+00,\n",
       "           3.31022980e+00,   3.46106502e+00,   3.61190024e+00,\n",
       "           3.76273545e+00,   3.91357067e+00,   4.06440589e+00,\n",
       "           4.21524110e+00,   4.36607632e+00,   4.51691154e+00,\n",
       "           4.66774675e+00,   4.81858197e+00,   4.96941719e+00,\n",
       "           5.12025241e+00,   5.27108762e+00,   5.42192284e+00,\n",
       "           5.57275806e+00,   5.72359327e+00,   5.87442849e+00,\n",
       "           6.02526371e+00,   6.17609893e+00,   6.32693414e+00,\n",
       "           6.47776936e+00,   6.62860458e+00,   6.77943979e+00,\n",
       "           6.93027501e+00,   7.08111023e+00,   7.23194544e+00,\n",
       "           7.38278066e+00,   7.53361588e+00,   7.68445110e+00,\n",
       "           7.83528631e+00,   7.98612153e+00,   8.13695675e+00,\n",
       "           8.28779196e+00,   8.43862718e+00,   8.58946240e+00,\n",
       "           8.74029762e+00,   8.89113283e+00,   9.04196805e+00,\n",
       "           9.19280327e+00,   9.34363848e+00,   9.49447370e+00,\n",
       "           9.64530892e+00,   9.79614413e+00,   9.94697935e+00,\n",
       "           1.00978146e+01,   1.02486498e+01,   1.03994850e+01,\n",
       "           1.05503202e+01,   1.07011554e+01,   1.08519907e+01,\n",
       "           1.10028259e+01,   1.11536611e+01,   1.13044963e+01,\n",
       "           1.14553315e+01,   1.16061667e+01,   1.17570020e+01,\n",
       "           1.19078372e+01,   1.20586724e+01,   1.22095076e+01,\n",
       "           1.23603428e+01,   1.25111780e+01,   1.26620133e+01,\n",
       "           1.28128485e+01,   1.29636837e+01,   1.31145189e+01,\n",
       "           1.32653541e+01,   1.34161893e+01,   1.35670246e+01,\n",
       "           1.37178598e+01,   1.38686950e+01,   1.40195302e+01,\n",
       "           1.41703654e+01,   1.43212006e+01,   1.44720359e+01,\n",
       "           1.46228711e+01,   1.47737063e+01,   1.49245415e+01,\n",
       "           1.50753767e+01,   1.52262119e+01,   1.53770472e+01,\n",
       "           1.55278824e+01,   1.56787176e+01,   1.58295528e+01,\n",
       "           1.59803880e+01,   1.61312233e+01]),\n",
       "  array([  2.69882406e-01,   3.11195456e-01,   3.58309840e-01,\n",
       "           4.11956196e-01,   4.72944479e-01,   5.42170766e-01,\n",
       "           6.20624404e-01,   7.09395481e-01,   8.09682591e-01,\n",
       "           9.22800885e-01,   1.05019034e+00,   1.19342423e+00,\n",
       "           1.35421774e+00,   1.53443665e+00,   1.73610603e+00,\n",
       "           1.96141883e+00,   2.21274441e+00,   2.49263668e+00,\n",
       "           2.80384193e+00,   3.14930619e+00,   3.53218192e+00,\n",
       "           3.95583396e+00,   4.42384461e+00,   4.94001750e+00,\n",
       "           5.50838045e+00,   6.13318669e+00,   6.81891468e+00,\n",
       "           7.57026609e+00,   8.39216181e+00,   9.28973594e+00,\n",
       "           1.02683274e+01,   1.13334689e+01,   1.24908740e+01,\n",
       "           1.37464200e+01,   1.51061297e+01,   1.65761484e+01,\n",
       "           1.81627188e+01,   1.98721523e+01,   2.17107972e+01,\n",
       "           2.36850034e+01,   2.58010837e+01,   2.80652723e+01,\n",
       "           3.04836796e+01,   3.30622444e+01,   3.58066830e+01,\n",
       "           3.87224358e+01,   4.18146109e+01,   4.50879270e+01,\n",
       "           4.85466529e+01,   5.21945470e+01,   5.60347951e+01,\n",
       "           6.00699486e+01,   6.43018619e+01,   6.87316314e+01,\n",
       "           7.33595355e+01,   7.81849762e+01,   8.32064246e+01,\n",
       "           8.84213677e+01,   9.38262615e+01,   9.94164869e+01,\n",
       "           1.05186312e+02,   1.11128860e+02,   1.17236085e+02,\n",
       "           1.23498753e+02,   1.29906431e+02,   1.36447489e+02,\n",
       "           1.43109103e+02,   1.49877275e+02,   1.56736856e+02,\n",
       "           1.63671586e+02,   1.70664136e+02,   1.77696167e+02,\n",
       "           1.84748392e+02,   1.91800657e+02,   1.98832023e+02,\n",
       "           2.05820859e+02,   2.12744949e+02,   2.19581600e+02,\n",
       "           2.26307762e+02,   2.32900151e+02,   2.39335381e+02,\n",
       "           2.45590101e+02,   2.51641129e+02,   2.57465599e+02,\n",
       "           2.63041098e+02,   2.68345813e+02,   2.73358672e+02,\n",
       "           2.78059478e+02,   2.82429051e+02,   2.86449354e+02,\n",
       "           2.90103616e+02,   2.93376453e+02,   2.96253972e+02,\n",
       "           2.98723869e+02,   3.00775519e+02,   3.02400051e+02,\n",
       "           3.03590412e+02,   3.04341418e+02,   3.04649790e+02,\n",
       "           3.04514182e+02,   3.03935185e+02,   3.02915328e+02,\n",
       "           3.01459058e+02,   2.99572705e+02,   2.97264440e+02,\n",
       "           2.94544214e+02,   2.91423687e+02,   2.87916143e+02,\n",
       "           2.84036399e+02,   2.79800701e+02,   2.75226605e+02,\n",
       "           2.70332864e+02,   2.65139292e+02,   2.59666639e+02,\n",
       "           2.53936445e+02,   2.47970907e+02,   2.41792732e+02,\n",
       "           2.35424995e+02,   2.28890998e+02,   2.22214131e+02,\n",
       "           2.15417731e+02,   2.08524956e+02,   2.01558653e+02,\n",
       "           1.94541236e+02,   1.87494576e+02,   1.80439895e+02,\n",
       "           1.73397661e+02,   1.66387510e+02,   1.59428157e+02,\n",
       "           1.52537332e+02,   1.45731717e+02,   1.39026898e+02,\n",
       "           1.32437325e+02,   1.25976281e+02,   1.19655863e+02,\n",
       "           1.13486969e+02,   1.07479300e+02,   1.01641362e+02,\n",
       "           9.59804847e+01,   9.05028422e+01,   8.52134823e+01,\n",
       "           8.01163628e+01,   7.52143924e+01,   7.05094772e+01,\n",
       "           6.60025711e+01,   6.16937301e+01,   5.75821690e+01,\n",
       "           5.36663214e+01,   4.99438998e+01,   4.64119579e+01,\n",
       "           4.30669528e+01,   3.99048071e+01,   3.69209700e+01,\n",
       "           3.41104780e+01,   3.14680133e+01,   2.89879604e+01,\n",
       "           2.66644611e+01,   2.44914658e+01,   2.24627829e+01,\n",
       "           2.05721252e+01,   1.88131524e+01,   1.71795113e+01,\n",
       "           1.56648721e+01,   1.42629617e+01,   1.29675937e+01,\n",
       "           1.17726949e+01,   1.06723289e+01,   9.66071627e+00,\n",
       "           8.73225220e+00,   7.88152085e+00,   7.10330731e+00,\n",
       "           6.39260683e+00,   5.74463185e+00,   5.15481667e+00,\n",
       "           4.61882027e+00,   4.13252718e+00,   3.69204673e+00,\n",
       "           3.29371089e+00,   2.93407073e+00,   2.60989177e+00,\n",
       "           2.31814839e+00,   2.05601739e+00,   1.82087088e+00,\n",
       "           1.61026863e+00,   1.42195002e+00,   1.25382564e+00,\n",
       "           1.10396874e+00,   9.70606563e-01,   8.52111617e-01,\n",
       "           7.46993056e-01,   6.53888139e-01,   5.71553871e-01,\n",
       "           4.98858868e-01,   4.34775476e-01,   3.78372181e-01,\n",
       "           3.28806332e-01,   2.85317207e-01,   2.47219413e-01,\n",
       "           2.13896655e-01,   1.84795857e-01])),\n",
       " [])"
      ]
     },
     "execution_count": 15,
     "metadata": {},
     "output_type": "execute_result"
    },
    {
     "data": {
      "image/png": "[encoded data removed]",
      "text/plain": [
       "<matplotlib.figure.Figure at 0x111d06750>"
      ]
     },
     "metadata": {},
     "output_type": "display_data"
    }
   ],
   "source": [
    "unbinned_likelihood = probfit.UnbinnedLH(probfit.gaussian, data)\n",
    "minuit = iminuit.Minuit(unbinned_likelihood, sigma=2, pedantic=False)\n",
    "# Remember: minuit.errordef is automatically set to 0.5\n",
    "# as required for likelihood fits (this was explained above)\n",
    "minuit.migrad() # yes: amazingly fast\n",
    "unbinned_likelihood.draw(minuit, show_errbars='normal') # control how fit is displayed too;"
   ]
  },
  {
   "cell_type": "code",
   "execution_count": 16,
   "metadata": {
    "collapsed": false
   },
   "outputs": [
    {
     "data": {
      "image/png": "[encoded data removed]",
      "text/plain": [
       "<matplotlib.figure.Figure at 0x10ab01490>"
      ]
     },
     "metadata": {},
     "output_type": "display_data"
    }
   ],
   "source": [
    "# Draw the difference between data and PDF\n",
    "plt.figure(figsize=(13,4))\n",
    "plt.subplot(121)\n",
    "unbinned_likelihood.draw_residual(minuit)\n",
    "plt.subplot(122)\n",
    "unbinned_likelihood.draw_residual(minuit, show_errbars=True, errbar_algo='sumw2', norm=True)"
   ]
  },
  {
   "cell_type": "markdown",
   "metadata": {},
   "source": [
    "##But... We can't normalize everything analytically and how to generate toy sample from PDF\n",
    "\n",
    "When fitting distribution to a PDF, one of the common problem that we run into is normalization.\n",
    "Not all function is analytically integrable on the range of our interest.\n",
    "\n",
    "Let's look at an example: the [Crystal Ball function](http://en.wikipedia.org/wiki/Crystal_Ball_function).\n",
    "It's simply a gaussian with a power law tail ... normally found in energy deposited in crystals ...\n",
    "impossible to normalize analytically and normalization will depend on shape parameters."
   ]
  },
  {
   "cell_type": "code",
   "execution_count": 18,
   "metadata": {
    "collapsed": false
   },
   "outputs": [
    {
     "name": "stdout",
     "output_type": "stream",
     "text": [
      "[u'x', u'alpha', u'n', u'mean', u'sigma']\n"
     ]
    },
    {
     "data": {
      "image/png": "[encoded data removed]",
      "text/plain": [
       "<matplotlib.figure.Figure at 0x10ec05c10>"
      ]
     },
     "metadata": {},
     "output_type": "display_data"
    }
   ],
   "source": [
    "np.random.seed(0)\n",
    "bound = (-1, 2)\n",
    "data = probfit.gen_toy(probfit.crystalball, 10000, bound=bound, alpha=1., n=2., mean=1., sigma=0.3, quiet=False)\n",
    "# quiet=False tells gen_toy to plot out original function\n",
    "# toy histogram and poisson error from both orignal distribution and toy"
   ]
  },
  {
   "cell_type": "code",
   "execution_count": 19,
   "metadata": {
    "collapsed": false
   },
   "outputs": [
    {
     "name": "stdout",
     "output_type": "stream",
     "text": [
      "function: 1.0\n",
      "     pdf: 1.10945669814\n"
     ]
    }
   ],
   "source": [
    "# To fit this function as a distribution we need to normalize\n",
    "# so that is becomes a PDF ober the range we consider here.\n",
    "# We do this with the probfit.Normalized functor, which implements\n",
    "# the trapezoid numerical integration method with a simple cache mechanism\n",
    "normalized_crystalball = probfit.Normalized(probfit.crystalball, bound)\n",
    "# this can also bedone with decorator\n",
    "# @probfit.normalized(bound)\n",
    "# def my_function(x, blah):\n",
    "#    return something\n",
    "pars = 1.0, 1, 2, 1, 0.3\n",
    "print('function: {}'.format(probfit.crystalball(*pars)))\n",
    "print('     pdf: {}'.format(normalized_crystalball(*pars)))"
   ]
  },
  {
   "cell_type": "code",
   "execution_count": 20,
   "metadata": {
    "collapsed": false
   },
   "outputs": [
    {
     "name": "stdout",
     "output_type": "stream",
     "text": [
      "[u'x', u'alpha', u'n', u'mean', u'sigma']\n",
      "[u'x', u'alpha', u'n', u'mean', u'sigma']\n"
     ]
    }
   ],
   "source": [
    "# The normalized version has the same signature as the non-normalized version\n",
    "print(iminuit.describe(probfit.crystalball))\n",
    "print(iminuit.describe(normalized_crystalball))"
   ]
  },
  {
   "cell_type": "code",
   "execution_count": 22,
   "metadata": {
    "collapsed": false
   },
   "outputs": [
    {
     "name": "stderr",
     "output_type": "stream",
     "text": [
      "/Users/anaderi/miniconda/envs/opera/lib/python2.7/site-packages/ipykernel/__main__.py:4: InitialParamWarning: Parameter alpha is floating but does not have initial step size. Assume 1.\n",
      "/Users/anaderi/miniconda/envs/opera/lib/python2.7/site-packages/ipykernel/__main__.py:4: InitialParamWarning: Parameter n is floating but does not have initial step size. Assume 1.\n",
      "/Users/anaderi/miniconda/envs/opera/lib/python2.7/site-packages/ipykernel/__main__.py:4: InitialParamWarning: Parameter mean is floating but does not have initial step size. Assume 1.\n",
      "/Users/anaderi/miniconda/envs/opera/lib/python2.7/site-packages/ipykernel/__main__.py:4: InitialParamWarning: Parameter sigma is floating but does not have initial step size. Assume 1.\n"
     ]
    },
    {
     "data": {
      "text/html": [
       "<hr>"
      ]
     },
     "metadata": {},
     "output_type": "display_data"
    },
    {
     "data": {
      "text/html": [
       "\n",
       "        <table>\n",
       "            <tr>\n",
       "                <td title=\"Minimum value of function\">FCN = 6154.37579109</td>\n",
       "                <td title=\"Total number of call to FCN so far\">TOTAL NCALL = 178</td>\n",
       "                <td title=\"Number of call in last migrad\">NCALLS = 178</td>\n",
       "            </tr>\n",
       "            <tr>\n",
       "                <td title=\"Estimated distance to minimum\">EDM = 1.09346528365e-06</td>\n",
       "                <td title=\"Maximum EDM definition of convergence\">GOAL EDM = 5e-06</td>\n",
       "                <td title=\"Error def. Amount of increase in FCN to be defined as 1 standard deviation\">\n",
       "                UP = 0.5</td>\n",
       "            </tr>\n",
       "        </table>\n",
       "        \n",
       "        <table>\n",
       "            <tr>\n",
       "                <td align=\"center\" title=\"Validity of the migrad call\">Valid</td>\n",
       "                <td align=\"center\" title=\"Validity of parameters\">Valid Param</td>\n",
       "                <td align=\"center\" title=\"Is Covariance matrix accurate?\">Accurate Covar</td>\n",
       "                <td align=\"center\" title=\"Positive definiteness of covariance matrix\">PosDef</td>\n",
       "                <td align=\"center\" title=\"Was covariance matrix made posdef by adding diagonal element\">Made PosDef</td>\n",
       "            </tr>\n",
       "            <tr>\n",
       "                <td align=\"center\" style=\"background-color:#92CCA6\">True</td>\n",
       "                <td align=\"center\" style=\"background-color:#92CCA6\">True</td>\n",
       "                <td align=\"center\" style=\"background-color:#92CCA6\">True</td>\n",
       "                <td align=\"center\" style=\"background-color:#92CCA6\">True</td>\n",
       "                <td align=\"center\" style=\"background-color:#92CCA6\">False</td>\n",
       "            </tr>\n",
       "            <tr>\n",
       "                <td align=\"center\" title=\"Was last hesse call fail?\">Hesse Fail</td>\n",
       "                <td align=\"center\" title=\"Validity of covariance\">HasCov</td>\n",
       "                <td align=\"center\" title=\"Is EDM above goal EDM?\">Above EDM</td>\n",
       "                <td align=\"center\"></td>\n",
       "                <td align=\"center\" title=\"Did last migrad call reach max call limit?\">Reach calllim</td>\n",
       "            </tr>\n",
       "            <tr>\n",
       "                <td align=\"center\" style=\"background-color:#92CCA6\">False</td>\n",
       "                <td align=\"center\" style=\"background-color:#92CCA6\">True</td>\n",
       "                <td align=\"center\" style=\"background-color:#92CCA6\">False</td>\n",
       "                <td align=\"center\"></td>\n",
       "                <td align=\"center\" style=\"background-color:#92CCA6\">False</td>\n",
       "            </tr>\n",
       "        </table>\n",
       "        "
      ]
     },
     "metadata": {},
     "output_type": "display_data"
    },
    {
     "data": {
      "text/html": [
       "\n",
       "        <table>\n",
       "            <tr>\n",
       "                <td><a href=\"#\" onclick=\"$('#LLjFoOIkdc').toggle()\">+</a></td>\n",
       "                <td title=\"Variable name\">Name</td>\n",
       "                <td title=\"Value of parameter\">Value</td>\n",
       "                <td title=\"Parabolic error\">Parab Error</td>\n",
       "                <td title=\"Minos lower error\">Minos Error-</td>\n",
       "                <td title=\"Minos upper error\">Minos Error+</td>\n",
       "                <td title=\"Lower limit of the parameter\">Limit-</td>\n",
       "                <td title=\"Upper limit of the parameter\">Limit+</td>\n",
       "                <td title=\"Is the parameter fixed in the fit\">FIXED</td>\n",
       "            </tr>\n",
       "        \n",
       "            <tr>\n",
       "                <td>1</td>\n",
       "                <td>alpha</td>\n",
       "                <td>1.01296</td>\n",
       "                <td>0.0532174</td>\n",
       "                <td>0</td>\n",
       "                <td>0</td>\n",
       "                <td></td>\n",
       "                <td></td>\n",
       "                <td></td>\n",
       "            </tr>\n",
       "            \n",
       "            <tr>\n",
       "                <td>2</td>\n",
       "                <td>n</td>\n",
       "                <td>1.81276</td>\n",
       "                <td>0.217714</td>\n",
       "                <td>0</td>\n",
       "                <td>0</td>\n",
       "                <td></td>\n",
       "                <td></td>\n",
       "                <td></td>\n",
       "            </tr>\n",
       "            \n",
       "            <tr>\n",
       "                <td>3</td>\n",
       "                <td>mean</td>\n",
       "                <td>0.998247</td>\n",
       "                <td>0.00558393</td>\n",
       "                <td>0</td>\n",
       "                <td>0</td>\n",
       "                <td></td>\n",
       "                <td></td>\n",
       "                <td></td>\n",
       "            </tr>\n",
       "            \n",
       "            <tr>\n",
       "                <td>4</td>\n",
       "                <td>sigma</td>\n",
       "                <td>0.299661</td>\n",
       "                <td>0.00419534</td>\n",
       "                <td>0</td>\n",
       "                <td>0</td>\n",
       "                <td></td>\n",
       "                <td></td>\n",
       "                <td></td>\n",
       "            </tr>\n",
       "            \n",
       "            </table>\n",
       "        \n",
       "            <pre id=\"LLjFoOIkdc\" style=\"display:none;\">\n",
       "            <textarea rows=\"14\" cols=\"50\" onclick=\"this.select()\" readonly>\\begin{tabular}{|c|r|r|r|r|r|r|r|c|}\n",
       "\\hline\n",
       " & Name & Value & Para Error & Error+ & Error- & Limit+ & Limit- & FIXED\\\\\n",
       "\\hline\n",
       "1 & $\\alpha$ & 1.013e+00 & 5.322e-02 &  &  &  &  & \\\\\n",
       "\\hline\n",
       "2 & n & 1.813e+00 & 2.177e-01 &  &  &  &  & \\\\\n",
       "\\hline\n",
       "3 & mean & 9.982e-01 & 5.584e-03 &  &  &  &  & \\\\\n",
       "\\hline\n",
       "4 & $\\sigma$ & 2.997e-01 & 4.195e-03 &  &  &  &  & \\\\\n",
       "\\hline\n",
       "\\end{tabular}</textarea>\n",
       "            </pre>\n",
       "            "
      ]
     },
     "metadata": {},
     "output_type": "display_data"
    },
    {
     "data": {
      "text/html": [
       "<hr>"
      ]
     },
     "metadata": {},
     "output_type": "display_data"
    },
    {
     "data": {
      "image/png": "[encoded data removed]",
      "text/plain": [
       "<matplotlib.figure.Figure at 0x10ac4d150>"
      ]
     },
     "metadata": {},
     "output_type": "display_data"
    }
   ],
   "source": [
    "# We can fit the normalized function in the usual way ...\n",
    "unbinned_likelihood = probfit.UnbinnedLH(normalized_crystalball, data)\n",
    "start_pars = dict(alpha=1, n=2.1, mean=1.2, sigma=0.3)\n",
    "minuit = iminuit.Minuit(unbinned_likelihood, **start_pars)\n",
    "# Remember: minuit.errordef is automatically set to 0.5\n",
    "# as required for likelihood fits (this was explained above)\n",
    "minuit.migrad() # yes: amazingly fast Normalize is written in Cython\n",
    "unbinned_likelihood.show(minuit);\n",
    "# The Crystal Ball function is notorious for its sensitivity on the 'n' parameter\n",
    "# probfit give you a heads up where it might have float overflow;"
   ]
  },
  {
   "cell_type": "markdown",
   "metadata": {},
   "source": [
    "## But what if I know the analytical integral formula for my distribution?\n",
    "\n",
    "`probfit` checks for a method called `integrate` with the signature `integrate(bound, nint, *arg)` to\n",
    "compute definite integrals for given `bound` and `nint` (pieces of integral this is normally ignored)\n",
    "and the rest will be passed as positional argument.\n",
    "\n",
    "For some `probfit` built-in distributions analytical formulae have been implemented."
   ]
  },
  {
   "cell_type": "code",
   "execution_count": 23,
   "metadata": {
    "collapsed": false
   },
   "outputs": [
    {
     "name": "stdout",
     "output_type": "stream",
     "text": [
      "2.5\n",
      "5.0\n"
     ]
    }
   ],
   "source": [
    "def line(x, m, c):\n",
    "    return m * x + c\n",
    "\n",
    "# compute integral of line from x=(0,1) using 10 intevals with m=1. and c=2.\n",
    "# all probfit internal use this\n",
    "# no integrate method available probfit use simpson3/8\n",
    "print(probfit.integrate1d(line, (0, 1), 10, (1., 2.)))\n",
    "\n",
    "# Let us illustrate the point by forcing it to have integral that's off by\n",
    "# factor of two\n",
    "def wrong_line_integrate(bound, nint, m, c):\n",
    "    a, b = bound\n",
    "    # I know this is wrong:\n",
    "    return 2 * (m * (b ** 2 / 2. - a ** 2 / 2.) + c * (b - a))\n",
    "\n",
    "line.integrate = wrong_line_integrate\n",
    "# line.integrate = lambda bound, nint, m, c: blah blah # this works too\n",
    "print(probfit.integrate1d(line, (0, 1), 10, (1., 2.)))"
   ]
  },
  {
   "cell_type": "markdown",
   "metadata": {},
   "source": [
    "## What if things go wrong?"
   ]
  },
  {
   "cell_type": "markdown",
   "metadata": {},
   "source": [
    "In this section we show you what happens when your distribution doesn't fit and how you can make it.\n",
    "\n",
    "We again use the Crystal Ball distribution as an example, which is notoriously sensitive to initial parameter values."
   ]
  },
  {
   "cell_type": "code",
   "execution_count": 41,
   "metadata": {
    "collapsed": false
   },
   "outputs": [
    {
     "name": "stderr",
     "output_type": "stream",
     "text": [
      "-c:3: InitialParamWarning: Parameter alpha does not have initial value. Assume 0.\n",
      "-c:3: InitialParamWarning: Parameter alpha is floating but does not have initial step size. Assume 1.\n",
      "-c:3: InitialParamWarning: Parameter n does not have initial value. Assume 0.\n",
      "-c:3: InitialParamWarning: Parameter n is floating but does not have initial step size. Assume 1.\n",
      "-c:3: InitialParamWarning: Parameter mean does not have initial value. Assume 0.\n",
      "-c:3: InitialParamWarning: Parameter mean is floating but does not have initial step size. Assume 1.\n",
      "-c:3: InitialParamWarning: Parameter sigma does not have initial value. Assume 0.\n",
      "-c:3: InitialParamWarning: Parameter sigma is floating but does not have initial step size. Assume 1.\n"
     ]
    },
    {
     "data": {
      "text/html": [
       "<hr>"
      ]
     },
     "metadata": {},
     "output_type": "display_data"
    },
    {
     "data": {
      "text/html": [
       "\n",
       "        <table>\n",
       "            <tr>\n",
       "                <td title=\"Minimum value of function\">FCN = 10986.1228867</td>\n",
       "                <td title=\"Total number of call to FCN so far\">TOTAL NCALL = 230</td>\n",
       "                <td title=\"Number of call in last migrad\">NCALLS = 230</td>\n",
       "            </tr>\n",
       "            <tr>\n",
       "                <td title=\"Estimated distance to minimum\">EDM = 0.0</td>\n",
       "                <td title=\"Maximum EDM definition of convergence\">GOAL EDM = 5e-06</td>\n",
       "                <td title=\"Error def. Amount of increase in FCN to be defined as 1 standard deviation\">\n",
       "                UP = 0.5</td>\n",
       "            </tr>\n",
       "        </table>\n",
       "        \n",
       "        <table>\n",
       "            <tr>\n",
       "                <td align=\"center\" title=\"Validity of the migrad call\">Valid</td>\n",
       "                <td align=\"center\" title=\"Validity of parameters\">Valid Param</td>\n",
       "                <td align=\"center\" title=\"Is Covariance matrix accurate?\">Accurate Covar</td>\n",
       "                <td align=\"center\" title=\"Positive definiteness of covariance matrix\">PosDef</td>\n",
       "                <td align=\"center\" title=\"Was covariance matrix made posdef by adding diagonal element\">Made PosDef</td>\n",
       "            </tr>\n",
       "            <tr>\n",
       "                <td align=\"center\" style=\"background-color:#FF7878\">False</td>\n",
       "                <td align=\"center\" style=\"background-color:#92CCA6\">True</td>\n",
       "                <td align=\"center\" style=\"background-color:#FF7878\">False</td>\n",
       "                <td align=\"center\" style=\"background-color:#FF7878\">False</td>\n",
       "                <td align=\"center\" style=\"background-color:#92CCA6\">False</td>\n",
       "            </tr>\n",
       "            <tr>\n",
       "                <td align=\"center\" title=\"Was last hesse call fail?\">Hesse Fail</td>\n",
       "                <td align=\"center\" title=\"Validity of covariance\">HasCov</td>\n",
       "                <td align=\"center\" title=\"Is EDM above goal EDM?\">Above EDM</td>\n",
       "                <td align=\"center\"></td>\n",
       "                <td align=\"center\" title=\"Did last migrad call reach max call limit?\">Reach calllim</td>\n",
       "            </tr>\n",
       "            <tr>\n",
       "                <td align=\"center\" style=\"background-color:#FF7878\">True</td>\n",
       "                <td align=\"center\" style=\"background-color:#92CCA6\">True</td>\n",
       "                <td align=\"center\" style=\"background-color:#92CCA6\">False</td>\n",
       "                <td align=\"center\"></td>\n",
       "                <td align=\"center\" style=\"background-color:#92CCA6\">False</td>\n",
       "            </tr>\n",
       "        </table>\n",
       "        "
      ]
     },
     "metadata": {},
     "output_type": "display_data"
    },
    {
     "data": {
      "text/html": [
       "\n",
       "        <table>\n",
       "            <tr>\n",
       "                <td><a href=\"#\" onclick=\"$('#lxHAcKWNeN').toggle()\">+</a></td>\n",
       "                <td title=\"Variable name\">Name</td>\n",
       "                <td title=\"Value of parameter\">Value</td>\n",
       "                <td title=\"Parabolic error\">Parab Error</td>\n",
       "                <td title=\"Minos lower error\">Minos Error-</td>\n",
       "                <td title=\"Minos upper error\">Minos Error+</td>\n",
       "                <td title=\"Lower limit of the parameter\">Limit-</td>\n",
       "                <td title=\"Upper limit of the parameter\">Limit+</td>\n",
       "                <td title=\"Is the parameter fixed in the fit\">FIXED</td>\n",
       "            </tr>\n",
       "        \n",
       "            <tr>\n",
       "                <td>1</td>\n",
       "                <td>alpha</td>\n",
       "                <td>0.000000e+00</td>\n",
       "                <td>1.000000e+00</td>\n",
       "                <td>0.000000e+00</td>\n",
       "                <td>0.000000e+00</td>\n",
       "                <td></td>\n",
       "                <td></td>\n",
       "                <td></td>\n",
       "            </tr>\n",
       "            \n",
       "            <tr>\n",
       "                <td>2</td>\n",
       "                <td>n</td>\n",
       "                <td>0.000000e+00</td>\n",
       "                <td>1.000000e+00</td>\n",
       "                <td>0.000000e+00</td>\n",
       "                <td>0.000000e+00</td>\n",
       "                <td></td>\n",
       "                <td></td>\n",
       "                <td></td>\n",
       "            </tr>\n",
       "            \n",
       "            <tr>\n",
       "                <td>3</td>\n",
       "                <td>mean</td>\n",
       "                <td>0.000000e+00</td>\n",
       "                <td>1.000000e+00</td>\n",
       "                <td>0.000000e+00</td>\n",
       "                <td>0.000000e+00</td>\n",
       "                <td></td>\n",
       "                <td></td>\n",
       "                <td></td>\n",
       "            </tr>\n",
       "            \n",
       "            <tr>\n",
       "                <td>4</td>\n",
       "                <td>sigma</td>\n",
       "                <td>0.000000e+00</td>\n",
       "                <td>1.000000e+00</td>\n",
       "                <td>0.000000e+00</td>\n",
       "                <td>0.000000e+00</td>\n",
       "                <td></td>\n",
       "                <td></td>\n",
       "                <td></td>\n",
       "            </tr>\n",
       "            \n",
       "            </table>\n",
       "        \n",
       "            <pre id=\"lxHAcKWNeN\" style=\"display:none;\">\n",
       "            <textarea rows=\"14\" cols=\"50\" onclick=\"this.select()\" readonly>\\begin{tabular}{|c|r|r|r|r|r|r|r|c|}\n",
       "\\hline\n",
       " & Name & Value & Para Error & Error+ & Error- & Limit+ & Limit- & FIXED\\\\\n",
       "\\hline\n",
       "1 & $\\alpha$ & 0.000e+00 & 1.000e+00 &  &  &  &  & \\\\\n",
       "\\hline\n",
       "2 & n & 0.000e+00 & 1.000e+00 &  &  &  &  & \\\\\n",
       "\\hline\n",
       "3 & mean & 0.000e+00 & 1.000e+00 &  &  &  &  & \\\\\n",
       "\\hline\n",
       "4 & $\\sigma$ & 0.000e+00 & 1.000e+00 &  &  &  &  & \\\\\n",
       "\\hline\n",
       "\\end{tabular}</textarea>\n",
       "            </pre>\n",
       "            "
      ]
     },
     "metadata": {},
     "output_type": "display_data"
    },
    {
     "data": {
      "text/html": [
       "<hr>"
      ]
     },
     "metadata": {},
     "output_type": "display_data"
    }
   ],
   "source": [
    "unbinned_likelihood = probfit.UnbinnedLH(normalized_crystalball, data)\n",
    "# No initial values given -> all parameters have default initial value 0\n",
    "minuit = iminuit.Minuit(unbinned_likelihood)\n",
    "# Remember: minuit.errordef is automatically set to 0.5\n",
    "# as required for likelihood fits (this was explained above)\n",
    "minuit.migrad() # yes: amazingly fast but tons of output on the console\n",
    "# Remember there is a heads up;"
   ]
  },
  {
   "cell_type": "code",
   "execution_count": 42,
   "metadata": {
    "collapsed": false
   },
   "outputs": [
    {
     "data": {
      "image/png": "[encoded data removed]",
      "text/plain": [
       "<matplotlib.figure.Figure at 0x1087c2c90>"
      ]
     },
     "metadata": {},
     "output_type": "display_data"
    }
   ],
   "source": [
    "# This shows that we failed.\n",
    "# The parameters are still at the default initial values\n",
    "unbinned_likelihood.show(minuit);"
   ]
  },
  {
   "cell_type": "code",
   "execution_count": 43,
   "metadata": {
    "collapsed": false
   },
   "outputs": [
    {
     "name": "stdout",
     "output_type": "stream",
     "text": [
      "False\n",
      "False\n"
     ]
    }
   ],
   "source": [
    "# These two status flags tell you if the best-fit parameter values\n",
    "# and the covariance matrix (the parameter errors) are OK.\n",
    "print(minuit.migrad_ok())\n",
    "print(minuit.matrix_accurate())"
   ]
  },
  {
   "cell_type": "markdown",
   "metadata": {},
   "source": [
    "To make MIGRAD converge we need start parameter values that are roughly correct. Remember that above the same fit converged when we used ::\n",
    "\n",
    "    start_pars = dict(alpha=1, n=2.1, mean=1.2, sigma=0.3)\n",
    "    minuit = iminuit.Minuit(unbinned_likelihood, **start_pars)\n",
    "    \n",
    "#### But how can we guess these initial values?\n",
    "\n",
    "This is a hard question that doesn't have one simple answer. Visualizing your data and model helps.\n"
   ]
  },
  {
   "cell_type": "code",
   "execution_count": 44,
   "metadata": {
    "collapsed": false
   },
   "outputs": [
    {
     "name": "stdout",
     "output_type": "stream",
     "text": [
      "{'alpha': 1.0, 'mean': 1.2, 'sigma': 0.3, 'n': 2.1}\n"
     ]
    },
    {
     "data": {
      "image/png": "[encoded data removed]",
      "text/plain": [
       "<matplotlib.figure.Figure at 0x1056613d0>"
      ]
     },
     "metadata": {},
     "output_type": "display_data"
    }
   ],
   "source": [
    "# Try one set of parameters\n",
    "best_try = probfit.try_uml(normalized_crystalball, data, alpha=1., n=2.1, mean=1.2, sigma=0.3)\n",
    "print(best_try)"
   ]
  },
  {
   "cell_type": "code",
   "execution_count": 45,
   "metadata": {
    "collapsed": false
   },
   "outputs": [
    {
     "name": "stdout",
     "output_type": "stream",
     "text": [
      "{'alpha': 1.0, 'mean': 1.1, 'sigma': 0.3, 'n': 2.1}\n"
     ]
    },
    {
     "data": {
      "image/png": "[encoded data removed]",
      "text/plain": [
       "<matplotlib.figure.Figure at 0x1087eb150>"
      ]
     },
     "metadata": {},
     "output_type": "display_data"
    }
   ],
   "source": [
    "# Or try multiple sets of parameters\n",
    "# (too many will just confuse you)\n",
    "best_try = probfit.try_uml(normalized_crystalball, data, alpha=1., n=2.1, mean=[1.2, 1.1], sigma=[0.3, 0.5])\n",
    "# try_uml computes the unbinned likelihood for each set of parameters and returns the best\n",
    "# one as a dictionary.\n",
    "# This is actually a poor-man's optimization algorithm in itself called grid search\n",
    "# which is popular to find good start values for other, faster optimization methods like MIGRAD.\n",
    "print(best_try)"
   ]
  },
  {
   "cell_type": "markdown",
   "metadata": {},
   "source": [
    "## Extended fit: two Gaussians with polynomial background"
   ]
  },
  {
   "cell_type": "markdown",
   "metadata": {},
   "source": [
    "Here we show how to create and fit a model that is the sum of several other models."
   ]
  },
  {
   "cell_type": "code",
   "execution_count": 24,
   "metadata": {
    "collapsed": false
   },
   "outputs": [
    {
     "data": {
      "image/png": "[encoded data removed]",
      "text/plain": [
       "<matplotlib.figure.Figure at 0x1129b2550>"
      ]
     },
     "metadata": {},
     "output_type": "display_data"
    }
   ],
   "source": [
    "# Generate some example data\n",
    "np.random.seed(0)\n",
    "data_peak1 = np.random.randn(3000) * 0.2 + 2\n",
    "data_peak2 = np.random.randn(5000) * 0.1 + 4\n",
    "data_range = (-2, 5)\n",
    "data_bg = probfit.gen_toy(lambda x : 4 + 4 * x + x ** 2, 20000, data_range)\n",
    "data_all = np.concatenate([data_peak1, data_peak2, data_bg])\n",
    "plt.hist((data_peak1, data_peak2, data_bg, data_all),\n",
    "         label=['Signal 1', 'Signal 2', 'Background', 'Total'],\n",
    "         bins=200, histtype='step', range=data_range)\n",
    "plt.legend(loc='upper left');"
   ]
  },
  {
   "cell_type": "code",
   "execution_count": 25,
   "metadata": {
    "collapsed": false
   },
   "outputs": [
    {
     "name": "stdout",
     "output_type": "stream",
     "text": [
      "normalized_poly: ['x', 'c_0', 'c_1', 'c_2', 'NBkg']\n",
      "gauss1:          ['x', 'mu1', 'sigma1', 'N1']\n",
      "gauss2:          ['x', 'mu2', 'sigma2', 'N2']\n",
      "pdf:             ['x', 'c_0', 'c_1', 'c_2', 'NBkg', 'mu1', 'sigma1', 'N1', 'mu2', 'sigma2', 'N2']\n"
     ]
    }
   ],
   "source": [
    "# Using a polynomial to fit a distribution is problematic, because the\n",
    "# polynomial can assume negative values, which results in NaN (not a number)\n",
    "# values in the likelihood function.\n",
    "# To avoid this problem we restrict the fit to the range (0, 5) where\n",
    "# the polynomial is clearly positive.\n",
    "fit_range = (0, 5)\n",
    "normalized_poly = probfit.Normalized(probfit.Polynomial(2), fit_range)\n",
    "normalized_poly = probfit.Extended(normalized_poly, extname='NBkg')\n",
    "\n",
    "gauss1 = probfit.Extended(probfit.rename(probfit.gaussian, ['x', 'mu1', 'sigma1']), extname='N1')\n",
    "gauss2 = probfit.Extended(probfit.rename(probfit.gaussian, ['x', 'mu2', 'sigma2']), extname='N2')\n",
    "\n",
    "# Define an extended PDF consisting of three components\n",
    "pdf = probfit.AddPdf(normalized_poly, gauss1, gauss2)\n",
    "\n",
    "print('normalized_poly: {}'.format(probfit.describe(normalized_poly)))\n",
    "print('gauss1:          {}'.format(probfit.describe(gauss1)))\n",
    "print('gauss2:          {}'.format(probfit.describe(gauss2)))\n",
    "print('pdf:             {}'.format(probfit.describe(pdf)))"
   ]
  },
  {
   "cell_type": "code",
   "execution_count": 26,
   "metadata": {
    "collapsed": false
   },
   "outputs": [
    {
     "data": {
      "image/png": "[encoded data removed]",
      "text/plain": [
       "<matplotlib.figure.Figure at 0x112a64150>"
      ]
     },
     "metadata": {},
     "output_type": "display_data"
    }
   ],
   "source": [
    "# Define the cost function in the usual way ...\n",
    "binned_likelihood = probfit.BinnedLH(pdf, data_all, bins=200, extended=True, bound=fit_range)\n",
    "\n",
    "# This is a quite complex fit (11 free parameters!), so we need good starting values.\n",
    "# Actually we even need to set an initial parameter error\n",
    "# for 'mu1' and 'mu2' to make MIGRAD converge.\n",
    "# The initial parameter error is used as the initial step size in the minimization.\n",
    "pars = dict(mu1=1.9, error_mu1=0.1, sigma1=0.2, N1=3000,\n",
    "            mu2=4.1, error_mu2=0.1, sigma2=0.1, N2=5000,\n",
    "            c_0=4, c_1=4, c_2=1, NBkg=20000)\n",
    "minuit = iminuit.Minuit(binned_likelihood, pedantic=False, print_level=0, **pars)\n",
    "# You can see that the model already roughly matches the data\n",
    "binned_likelihood.draw(minuit, parts=True);"
   ]
  },
  {
   "cell_type": "code",
   "execution_count": 27,
   "metadata": {
    "collapsed": false
   },
   "outputs": [],
   "source": [
    "# This can take a while ... the likelihood is evaluated a few 100 times\n",
    "# (and each time the distributions are evaluated, including the\n",
    "# numerical computation of the normalizing integrals)\n",
    "minuit.migrad();"
   ]
  },
  {
   "cell_type": "code",
   "execution_count": 28,
   "metadata": {
    "collapsed": false
   },
   "outputs": [
    {
     "data": {
      "image/png": "[encoded data removed]",
      "text/plain": [
       "<matplotlib.figure.Figure at 0x112a6e1d0>"
      ]
     },
     "metadata": {},
     "output_type": "display_data"
    },
    {
     "data": {
      "text/html": [
       "<hr>"
      ]
     },
     "metadata": {},
     "output_type": "display_data"
    },
    {
     "data": {
      "text/html": [
       "\n",
       "        <table>\n",
       "            <tr>\n",
       "                <td title=\"Minimum value of function\">FCN = 88.5482069321</td>\n",
       "                <td title=\"Total number of call to FCN so far\">TOTAL NCALL = 331</td>\n",
       "                <td title=\"Number of call in last migrad\">NCALLS = 331</td>\n",
       "            </tr>\n",
       "            <tr>\n",
       "                <td title=\"Estimated distance to minimum\">EDM = 2.50658680291e-06</td>\n",
       "                <td title=\"Maximum EDM definition of convergence\">GOAL EDM = 5e-06</td>\n",
       "                <td title=\"Error def. Amount of increase in FCN to be defined as 1 standard deviation\">\n",
       "                UP = 0.5</td>\n",
       "            </tr>\n",
       "        </table>\n",
       "        \n",
       "        <table>\n",
       "            <tr>\n",
       "                <td align=\"center\" title=\"Validity of the migrad call\">Valid</td>\n",
       "                <td align=\"center\" title=\"Validity of parameters\">Valid Param</td>\n",
       "                <td align=\"center\" title=\"Is Covariance matrix accurate?\">Accurate Covar</td>\n",
       "                <td align=\"center\" title=\"Positive definiteness of covariance matrix\">PosDef</td>\n",
       "                <td align=\"center\" title=\"Was covariance matrix made posdef by adding diagonal element\">Made PosDef</td>\n",
       "            </tr>\n",
       "            <tr>\n",
       "                <td align=\"center\" style=\"background-color:#92CCA6\">True</td>\n",
       "                <td align=\"center\" style=\"background-color:#92CCA6\">True</td>\n",
       "                <td align=\"center\" style=\"background-color:#FF7878\">False</td>\n",
       "                <td align=\"center\" style=\"background-color:#FF7878\">False</td>\n",
       "                <td align=\"center\" style=\"background-color:#FF7878\">True</td>\n",
       "            </tr>\n",
       "            <tr>\n",
       "                <td align=\"center\" title=\"Was last hesse call fail?\">Hesse Fail</td>\n",
       "                <td align=\"center\" title=\"Validity of covariance\">HasCov</td>\n",
       "                <td align=\"center\" title=\"Is EDM above goal EDM?\">Above EDM</td>\n",
       "                <td align=\"center\"></td>\n",
       "                <td align=\"center\" title=\"Did last migrad call reach max call limit?\">Reach calllim</td>\n",
       "            </tr>\n",
       "            <tr>\n",
       "                <td align=\"center\" style=\"background-color:#92CCA6\">False</td>\n",
       "                <td align=\"center\" style=\"background-color:#92CCA6\">True</td>\n",
       "                <td align=\"center\" style=\"background-color:#92CCA6\">False</td>\n",
       "                <td align=\"center\"></td>\n",
       "                <td align=\"center\" style=\"background-color:#92CCA6\">False</td>\n",
       "            </tr>\n",
       "        </table>\n",
       "        "
      ]
     },
     "metadata": {},
     "output_type": "display_data"
    },
    {
     "data": {
      "text/html": [
       "\n",
       "        <table>\n",
       "            <tr>\n",
       "                <td><a href=\"#\" onclick=\"$('#NjMFntenhr').toggle()\">+</a></td>\n",
       "                <td title=\"Variable name\">Name</td>\n",
       "                <td title=\"Value of parameter\">Value</td>\n",
       "                <td title=\"Parabolic error\">Parab Error</td>\n",
       "                <td title=\"Minos lower error\">Minos Error-</td>\n",
       "                <td title=\"Minos upper error\">Minos Error+</td>\n",
       "                <td title=\"Lower limit of the parameter\">Limit-</td>\n",
       "                <td title=\"Upper limit of the parameter\">Limit+</td>\n",
       "                <td title=\"Is the parameter fixed in the fit\">FIXED</td>\n",
       "            </tr>\n",
       "        \n",
       "            <tr>\n",
       "                <td>1</td>\n",
       "                <td>c_0</td>\n",
       "                <td>4.1565</td>\n",
       "                <td>3.27518</td>\n",
       "                <td>0</td>\n",
       "                <td>0</td>\n",
       "                <td></td>\n",
       "                <td></td>\n",
       "                <td></td>\n",
       "            </tr>\n",
       "            \n",
       "            <tr>\n",
       "                <td>2</td>\n",
       "                <td>c_1</td>\n",
       "                <td>3.7613</td>\n",
       "                <td>3.02813</td>\n",
       "                <td>0</td>\n",
       "                <td>0</td>\n",
       "                <td></td>\n",
       "                <td></td>\n",
       "                <td></td>\n",
       "            </tr>\n",
       "            \n",
       "            <tr>\n",
       "                <td>3</td>\n",
       "                <td>c_2</td>\n",
       "                <td>0.972491</td>\n",
       "                <td>0.766978</td>\n",
       "                <td>0</td>\n",
       "                <td>0</td>\n",
       "                <td></td>\n",
       "                <td></td>\n",
       "                <td></td>\n",
       "            </tr>\n",
       "            \n",
       "            <tr>\n",
       "                <td>4</td>\n",
       "                <td>NBkg</td>\n",
       "                <td>19601.2</td>\n",
       "                <td>174.571</td>\n",
       "                <td>0</td>\n",
       "                <td>0</td>\n",
       "                <td></td>\n",
       "                <td></td>\n",
       "                <td></td>\n",
       "            </tr>\n",
       "            \n",
       "            <tr>\n",
       "                <td>5</td>\n",
       "                <td>mu1</td>\n",
       "                <td>1.99082</td>\n",
       "                <td>0.00581367</td>\n",
       "                <td>0</td>\n",
       "                <td>0</td>\n",
       "                <td></td>\n",
       "                <td></td>\n",
       "                <td></td>\n",
       "            </tr>\n",
       "            \n",
       "            <tr>\n",
       "                <td>6</td>\n",
       "                <td>sigma1</td>\n",
       "                <td>0.19211</td>\n",
       "                <td>0.00582561</td>\n",
       "                <td>0</td>\n",
       "                <td>0</td>\n",
       "                <td></td>\n",
       "                <td></td>\n",
       "                <td></td>\n",
       "            </tr>\n",
       "            \n",
       "            <tr>\n",
       "                <td>7</td>\n",
       "                <td>N1</td>\n",
       "                <td>2923.54</td>\n",
       "                <td>91.3543</td>\n",
       "                <td>0</td>\n",
       "                <td>0</td>\n",
       "                <td></td>\n",
       "                <td></td>\n",
       "                <td></td>\n",
       "            </tr>\n",
       "            \n",
       "            <tr>\n",
       "                <td>8</td>\n",
       "                <td>mu2</td>\n",
       "                <td>3.99415</td>\n",
       "                <td>0.00212376</td>\n",
       "                <td>0</td>\n",
       "                <td>0</td>\n",
       "                <td></td>\n",
       "                <td></td>\n",
       "                <td></td>\n",
       "            </tr>\n",
       "            \n",
       "            <tr>\n",
       "                <td>9</td>\n",
       "                <td>sigma2</td>\n",
       "                <td>0.10011</td>\n",
       "                <td>0.00199943</td>\n",
       "                <td>0</td>\n",
       "                <td>0</td>\n",
       "                <td></td>\n",
       "                <td></td>\n",
       "                <td></td>\n",
       "            </tr>\n",
       "            \n",
       "            <tr>\n",
       "                <td>10</td>\n",
       "                <td>N2</td>\n",
       "                <td>4969.16</td>\n",
       "                <td>97.9753</td>\n",
       "                <td>0</td>\n",
       "                <td>0</td>\n",
       "                <td></td>\n",
       "                <td></td>\n",
       "                <td></td>\n",
       "            </tr>\n",
       "            \n",
       "            </table>\n",
       "        \n",
       "            <pre id=\"NjMFntenhr\" style=\"display:none;\">\n",
       "            <textarea rows=\"26\" cols=\"50\" onclick=\"this.select()\" readonly>\\begin{tabular}{|c|r|r|r|r|r|r|r|c|}\n",
       "\\hline\n",
       " & Name & Value & Para Error & Error+ & Error- & Limit+ & Limit- & FIXED\\\\\n",
       "\\hline\n",
       "1 & $c_{0}$ & 4.156e+00 & 3.275e+00 &  &  &  &  & \\\\\n",
       "\\hline\n",
       "2 & $c_{1}$ & 3.761e+00 & 3.028e+00 &  &  &  &  & \\\\\n",
       "\\hline\n",
       "3 & $c_{2}$ & 9.725e-01 & 7.670e-01 &  &  &  &  & \\\\\n",
       "\\hline\n",
       "4 & NBkg & 1.960e+04 & 1.746e+02 &  &  &  &  & \\\\\n",
       "\\hline\n",
       "5 & mu1 & 1.991e+00 & 5.814e-03 &  &  &  &  & \\\\\n",
       "\\hline\n",
       "6 & sigma1 & 1.921e-01 & 5.826e-03 &  &  &  &  & \\\\\n",
       "\\hline\n",
       "7 & N1 & 2.924e+03 & 9.135e+01 &  &  &  &  & \\\\\n",
       "\\hline\n",
       "8 & mu2 & 3.994e+00 & 2.124e-03 &  &  &  &  & \\\\\n",
       "\\hline\n",
       "9 & sigma2 & 1.001e-01 & 1.999e-03 &  &  &  &  & \\\\\n",
       "\\hline\n",
       "10 & N2 & 4.969e+03 & 9.798e+01 &  &  &  &  & \\\\\n",
       "\\hline\n",
       "\\end{tabular}</textarea>\n",
       "            </pre>\n",
       "            "
      ]
     },
     "metadata": {},
     "output_type": "display_data"
    },
    {
     "data": {
      "text/html": [
       "<hr>"
      ]
     },
     "metadata": {},
     "output_type": "display_data"
    },
    {
     "data": {
      "text/html": [
       "\n",
       "            <table>\n",
       "                <tr>\n",
       "                    <td><a onclick=\"$('#bkcxXeriIk').toggle()\" href=\"#\">+</a></td>\n",
       "        \n",
       "            <td>\n",
       "            <div style=\"width:20px;position:relative; width: -moz-fit-content;\">\n",
       "            <div style=\"display:inline-block;-webkit-writing-mode:vertical-rl;-moz-writing-mode: vertical-rl;writing-mode: vertical-rl;\">\n",
       "            c_0\n",
       "            </div>\n",
       "            </div>\n",
       "            </td>\n",
       "            \n",
       "            <td>\n",
       "            <div style=\"width:20px;position:relative; width: -moz-fit-content;\">\n",
       "            <div style=\"display:inline-block;-webkit-writing-mode:vertical-rl;-moz-writing-mode: vertical-rl;writing-mode: vertical-rl;\">\n",
       "            c_1\n",
       "            </div>\n",
       "            </div>\n",
       "            </td>\n",
       "            \n",
       "            <td>\n",
       "            <div style=\"width:20px;position:relative; width: -moz-fit-content;\">\n",
       "            <div style=\"display:inline-block;-webkit-writing-mode:vertical-rl;-moz-writing-mode: vertical-rl;writing-mode: vertical-rl;\">\n",
       "            c_2\n",
       "            </div>\n",
       "            </div>\n",
       "            </td>\n",
       "            \n",
       "            <td>\n",
       "            <div style=\"width:20px;position:relative; width: -moz-fit-content;\">\n",
       "            <div style=\"display:inline-block;-webkit-writing-mode:vertical-rl;-moz-writing-mode: vertical-rl;writing-mode: vertical-rl;\">\n",
       "            NBkg\n",
       "            </div>\n",
       "            </div>\n",
       "            </td>\n",
       "            \n",
       "            <td>\n",
       "            <div style=\"width:20px;position:relative; width: -moz-fit-content;\">\n",
       "            <div style=\"display:inline-block;-webkit-writing-mode:vertical-rl;-moz-writing-mode: vertical-rl;writing-mode: vertical-rl;\">\n",
       "            mu1\n",
       "            </div>\n",
       "            </div>\n",
       "            </td>\n",
       "            \n",
       "            <td>\n",
       "            <div style=\"width:20px;position:relative; width: -moz-fit-content;\">\n",
       "            <div style=\"display:inline-block;-webkit-writing-mode:vertical-rl;-moz-writing-mode: vertical-rl;writing-mode: vertical-rl;\">\n",
       "            sigma1\n",
       "            </div>\n",
       "            </div>\n",
       "            </td>\n",
       "            \n",
       "            <td>\n",
       "            <div style=\"width:20px;position:relative; width: -moz-fit-content;\">\n",
       "            <div style=\"display:inline-block;-webkit-writing-mode:vertical-rl;-moz-writing-mode: vertical-rl;writing-mode: vertical-rl;\">\n",
       "            N1\n",
       "            </div>\n",
       "            </div>\n",
       "            </td>\n",
       "            \n",
       "            <td>\n",
       "            <div style=\"width:20px;position:relative; width: -moz-fit-content;\">\n",
       "            <div style=\"display:inline-block;-webkit-writing-mode:vertical-rl;-moz-writing-mode: vertical-rl;writing-mode: vertical-rl;\">\n",
       "            mu2\n",
       "            </div>\n",
       "            </div>\n",
       "            </td>\n",
       "            \n",
       "            <td>\n",
       "            <div style=\"width:20px;position:relative; width: -moz-fit-content;\">\n",
       "            <div style=\"display:inline-block;-webkit-writing-mode:vertical-rl;-moz-writing-mode: vertical-rl;writing-mode: vertical-rl;\">\n",
       "            sigma2\n",
       "            </div>\n",
       "            </div>\n",
       "            </td>\n",
       "            \n",
       "            <td>\n",
       "            <div style=\"width:20px;position:relative; width: -moz-fit-content;\">\n",
       "            <div style=\"display:inline-block;-webkit-writing-mode:vertical-rl;-moz-writing-mode: vertical-rl;writing-mode: vertical-rl;\">\n",
       "            N2\n",
       "            </div>\n",
       "            </div>\n",
       "            </td>\n",
       "            \n",
       "                </tr>\n",
       "                \n",
       "            <tr>\n",
       "                <td>c_0</td>\n",
       "            \n",
       "                <td style=\"background-color:rgb(255,117,117)\">\n",
       "                1.00\n",
       "                </td>\n",
       "                \n",
       "                <td style=\"background-color:rgb(253,120,118)\">\n",
       "                0.98\n",
       "                </td>\n",
       "                \n",
       "                <td style=\"background-color:rgb(255,117,117)\">\n",
       "                1.00\n",
       "                </td>\n",
       "                \n",
       "                <td style=\"background-color:rgb(163,254,186)\">\n",
       "                0.00\n",
       "                </td>\n",
       "                \n",
       "                <td style=\"background-color:rgb(163,254,186)\">\n",
       "                0.00\n",
       "                </td>\n",
       "                \n",
       "                <td style=\"background-color:rgb(164,253,185)\">\n",
       "                -0.01\n",
       "                </td>\n",
       "                \n",
       "                <td style=\"background-color:rgb(164,253,185)\">\n",
       "                -0.01\n",
       "                </td>\n",
       "                \n",
       "                <td style=\"background-color:rgb(163,254,186)\">\n",
       "                0.00\n",
       "                </td>\n",
       "                \n",
       "                <td style=\"background-color:rgb(163,253,186)\">\n",
       "                0.00\n",
       "                </td>\n",
       "                \n",
       "                <td style=\"background-color:rgb(163,253,186)\">\n",
       "                0.00\n",
       "                </td>\n",
       "                \n",
       "            </tr>\n",
       "            \n",
       "            <tr>\n",
       "                <td>c_1</td>\n",
       "            \n",
       "                <td style=\"background-color:rgb(253,120,118)\">\n",
       "                0.98\n",
       "                </td>\n",
       "                \n",
       "                <td style=\"background-color:rgb(255,117,117)\">\n",
       "                1.00\n",
       "                </td>\n",
       "                \n",
       "                <td style=\"background-color:rgb(252,121,119)\">\n",
       "                0.97\n",
       "                </td>\n",
       "                \n",
       "                <td style=\"background-color:rgb(167,248,183)\">\n",
       "                0.04\n",
       "                </td>\n",
       "                \n",
       "                <td style=\"background-color:rgb(164,253,186)\">\n",
       "                -0.01\n",
       "                </td>\n",
       "                \n",
       "                <td style=\"background-color:rgb(169,245,182)\">\n",
       "                -0.06\n",
       "                </td>\n",
       "                \n",
       "                <td style=\"background-color:rgb(171,242,180)\">\n",
       "                -0.09\n",
       "                </td>\n",
       "                \n",
       "                <td style=\"background-color:rgb(164,253,185)\">\n",
       "                0.01\n",
       "                </td>\n",
       "                \n",
       "                <td style=\"background-color:rgb(163,253,186)\">\n",
       "                0.00\n",
       "                </td>\n",
       "                \n",
       "                <td style=\"background-color:rgb(163,253,186)\">\n",
       "                0.01\n",
       "                </td>\n",
       "                \n",
       "            </tr>\n",
       "            \n",
       "            <tr>\n",
       "                <td>c_2</td>\n",
       "            \n",
       "                <td style=\"background-color:rgb(255,117,117)\">\n",
       "                1.00\n",
       "                </td>\n",
       "                \n",
       "                <td style=\"background-color:rgb(252,121,119)\">\n",
       "                0.97\n",
       "                </td>\n",
       "                \n",
       "                <td style=\"background-color:rgb(255,117,117)\">\n",
       "                1.00\n",
       "                </td>\n",
       "                \n",
       "                <td style=\"background-color:rgb(164,253,185)\">\n",
       "                -0.01\n",
       "                </td>\n",
       "                \n",
       "                <td style=\"background-color:rgb(163,254,186)\">\n",
       "                -0.00\n",
       "                </td>\n",
       "                \n",
       "                <td style=\"background-color:rgb(165,252,185)\">\n",
       "                0.02\n",
       "                </td>\n",
       "                \n",
       "                <td style=\"background-color:rgb(165,251,184)\">\n",
       "                0.02\n",
       "                </td>\n",
       "                \n",
       "                <td style=\"background-color:rgb(163,254,186)\">\n",
       "                -0.00\n",
       "                </td>\n",
       "                \n",
       "                <td style=\"background-color:rgb(163,253,186)\">\n",
       "                -0.01\n",
       "                </td>\n",
       "                \n",
       "                <td style=\"background-color:rgb(164,253,186)\">\n",
       "                -0.01\n",
       "                </td>\n",
       "                \n",
       "            </tr>\n",
       "            \n",
       "            <tr>\n",
       "                <td>NBkg</td>\n",
       "            \n",
       "                <td style=\"background-color:rgb(163,254,186)\">\n",
       "                0.00\n",
       "                </td>\n",
       "                \n",
       "                <td style=\"background-color:rgb(167,248,183)\">\n",
       "                0.04\n",
       "                </td>\n",
       "                \n",
       "                <td style=\"background-color:rgb(164,253,185)\">\n",
       "                -0.01\n",
       "                </td>\n",
       "                \n",
       "                <td style=\"background-color:rgb(255,117,117)\">\n",
       "                1.00\n",
       "                </td>\n",
       "                \n",
       "                <td style=\"background-color:rgb(167,248,183)\">\n",
       "                -0.05\n",
       "                </td>\n",
       "                \n",
       "                <td style=\"background-color:rgb(189,215,166)\">\n",
       "                -0.28\n",
       "                </td>\n",
       "                \n",
       "                <td style=\"background-color:rgb(197,204,161)\">\n",
       "                -0.37\n",
       "                </td>\n",
       "                \n",
       "                <td style=\"background-color:rgb(163,253,186)\">\n",
       "                -0.01\n",
       "                </td>\n",
       "                \n",
       "                <td style=\"background-color:rgb(185,222,170)\">\n",
       "                -0.23\n",
       "                </td>\n",
       "                \n",
       "                <td style=\"background-color:rgb(190,213,166)\">\n",
       "                -0.30\n",
       "                </td>\n",
       "                \n",
       "            </tr>\n",
       "            \n",
       "            <tr>\n",
       "                <td>mu1</td>\n",
       "            \n",
       "                <td style=\"background-color:rgb(163,254,186)\">\n",
       "                0.00\n",
       "                </td>\n",
       "                \n",
       "                <td style=\"background-color:rgb(164,253,186)\">\n",
       "                -0.01\n",
       "                </td>\n",
       "                \n",
       "                <td style=\"background-color:rgb(163,254,186)\">\n",
       "                -0.00\n",
       "                </td>\n",
       "                \n",
       "                <td style=\"background-color:rgb(167,248,183)\">\n",
       "                -0.05\n",
       "                </td>\n",
       "                \n",
       "                <td style=\"background-color:rgb(255,117,117)\">\n",
       "                1.00\n",
       "                </td>\n",
       "                \n",
       "                <td style=\"background-color:rgb(170,243,181)\">\n",
       "                0.08\n",
       "                </td>\n",
       "                \n",
       "                <td style=\"background-color:rgb(169,245,181)\">\n",
       "                0.07\n",
       "                </td>\n",
       "                \n",
       "                <td style=\"background-color:rgb(163,254,186)\">\n",
       "                0.00\n",
       "                </td>\n",
       "                \n",
       "                <td style=\"background-color:rgb(164,252,185)\">\n",
       "                0.02\n",
       "                </td>\n",
       "                \n",
       "                <td style=\"background-color:rgb(165,251,185)\">\n",
       "                0.02\n",
       "                </td>\n",
       "                \n",
       "            </tr>\n",
       "            \n",
       "            <tr>\n",
       "                <td>sigma1</td>\n",
       "            \n",
       "                <td style=\"background-color:rgb(164,253,185)\">\n",
       "                -0.01\n",
       "                </td>\n",
       "                \n",
       "                <td style=\"background-color:rgb(169,245,182)\">\n",
       "                -0.06\n",
       "                </td>\n",
       "                \n",
       "                <td style=\"background-color:rgb(165,252,185)\">\n",
       "                0.02\n",
       "                </td>\n",
       "                \n",
       "                <td style=\"background-color:rgb(189,215,166)\">\n",
       "                -0.28\n",
       "                </td>\n",
       "                \n",
       "                <td style=\"background-color:rgb(170,243,181)\">\n",
       "                0.08\n",
       "                </td>\n",
       "                \n",
       "                <td style=\"background-color:rgb(255,117,117)\">\n",
       "                1.00\n",
       "                </td>\n",
       "                \n",
       "                <td style=\"background-color:rgb(209,185,151)\">\n",
       "                0.50\n",
       "                </td>\n",
       "                \n",
       "                <td style=\"background-color:rgb(164,252,185)\">\n",
       "                -0.02\n",
       "                </td>\n",
       "                \n",
       "                <td style=\"background-color:rgb(166,250,184)\">\n",
       "                0.03\n",
       "                </td>\n",
       "                \n",
       "                <td style=\"background-color:rgb(166,249,183)\">\n",
       "                0.04\n",
       "                </td>\n",
       "                \n",
       "            </tr>\n",
       "            \n",
       "            <tr>\n",
       "                <td>N1</td>\n",
       "            \n",
       "                <td style=\"background-color:rgb(164,253,185)\">\n",
       "                -0.01\n",
       "                </td>\n",
       "                \n",
       "                <td style=\"background-color:rgb(171,242,180)\">\n",
       "                -0.09\n",
       "                </td>\n",
       "                \n",
       "                <td style=\"background-color:rgb(165,251,184)\">\n",
       "                0.02\n",
       "                </td>\n",
       "                \n",
       "                <td style=\"background-color:rgb(197,204,161)\">\n",
       "                -0.37\n",
       "                </td>\n",
       "                \n",
       "                <td style=\"background-color:rgb(169,245,181)\">\n",
       "                0.07\n",
       "                </td>\n",
       "                \n",
       "                <td style=\"background-color:rgb(209,185,151)\">\n",
       "                0.50\n",
       "                </td>\n",
       "                \n",
       "                <td style=\"background-color:rgb(255,117,117)\">\n",
       "                1.00\n",
       "                </td>\n",
       "                \n",
       "                <td style=\"background-color:rgb(165,251,185)\">\n",
       "                -0.02\n",
       "                </td>\n",
       "                \n",
       "                <td style=\"background-color:rgb(166,249,183)\">\n",
       "                0.04\n",
       "                </td>\n",
       "                \n",
       "                <td style=\"background-color:rgb(167,247,183)\">\n",
       "                0.05\n",
       "                </td>\n",
       "                \n",
       "            </tr>\n",
       "            \n",
       "            <tr>\n",
       "                <td>mu2</td>\n",
       "            \n",
       "                <td style=\"background-color:rgb(163,254,186)\">\n",
       "                0.00\n",
       "                </td>\n",
       "                \n",
       "                <td style=\"background-color:rgb(164,253,185)\">\n",
       "                0.01\n",
       "                </td>\n",
       "                \n",
       "                <td style=\"background-color:rgb(163,254,186)\">\n",
       "                -0.00\n",
       "                </td>\n",
       "                \n",
       "                <td style=\"background-color:rgb(163,253,186)\">\n",
       "                -0.01\n",
       "                </td>\n",
       "                \n",
       "                <td style=\"background-color:rgb(163,254,186)\">\n",
       "                0.00\n",
       "                </td>\n",
       "                \n",
       "                <td style=\"background-color:rgb(164,252,185)\">\n",
       "                -0.02\n",
       "                </td>\n",
       "                \n",
       "                <td style=\"background-color:rgb(165,251,185)\">\n",
       "                -0.02\n",
       "                </td>\n",
       "                \n",
       "                <td style=\"background-color:rgb(255,117,117)\">\n",
       "                1.00\n",
       "                </td>\n",
       "                \n",
       "                <td style=\"background-color:rgb(166,249,184)\">\n",
       "                0.03\n",
       "                </td>\n",
       "                \n",
       "                <td style=\"background-color:rgb(166,250,184)\">\n",
       "                0.03\n",
       "                </td>\n",
       "                \n",
       "            </tr>\n",
       "            \n",
       "            <tr>\n",
       "                <td>sigma2</td>\n",
       "            \n",
       "                <td style=\"background-color:rgb(163,253,186)\">\n",
       "                0.00\n",
       "                </td>\n",
       "                \n",
       "                <td style=\"background-color:rgb(163,253,186)\">\n",
       "                0.00\n",
       "                </td>\n",
       "                \n",
       "                <td style=\"background-color:rgb(163,253,186)\">\n",
       "                -0.01\n",
       "                </td>\n",
       "                \n",
       "                <td style=\"background-color:rgb(185,222,170)\">\n",
       "                -0.23\n",
       "                </td>\n",
       "                \n",
       "                <td style=\"background-color:rgb(164,252,185)\">\n",
       "                0.02\n",
       "                </td>\n",
       "                \n",
       "                <td style=\"background-color:rgb(166,250,184)\">\n",
       "                0.03\n",
       "                </td>\n",
       "                \n",
       "                <td style=\"background-color:rgb(166,249,183)\">\n",
       "                0.04\n",
       "                </td>\n",
       "                \n",
       "                <td style=\"background-color:rgb(166,249,184)\">\n",
       "                0.03\n",
       "                </td>\n",
       "                \n",
       "                <td style=\"background-color:rgb(255,117,117)\">\n",
       "                1.00\n",
       "                </td>\n",
       "                \n",
       "                <td style=\"background-color:rgb(198,202,160)\">\n",
       "                0.38\n",
       "                </td>\n",
       "                \n",
       "            </tr>\n",
       "            \n",
       "            <tr>\n",
       "                <td>N2</td>\n",
       "            \n",
       "                <td style=\"background-color:rgb(163,253,186)\">\n",
       "                0.00\n",
       "                </td>\n",
       "                \n",
       "                <td style=\"background-color:rgb(163,253,186)\">\n",
       "                0.01\n",
       "                </td>\n",
       "                \n",
       "                <td style=\"background-color:rgb(164,253,186)\">\n",
       "                -0.01\n",
       "                </td>\n",
       "                \n",
       "                <td style=\"background-color:rgb(190,213,166)\">\n",
       "                -0.30\n",
       "                </td>\n",
       "                \n",
       "                <td style=\"background-color:rgb(165,251,185)\">\n",
       "                0.02\n",
       "                </td>\n",
       "                \n",
       "                <td style=\"background-color:rgb(166,249,183)\">\n",
       "                0.04\n",
       "                </td>\n",
       "                \n",
       "                <td style=\"background-color:rgb(167,247,183)\">\n",
       "                0.05\n",
       "                </td>\n",
       "                \n",
       "                <td style=\"background-color:rgb(166,250,184)\">\n",
       "                0.03\n",
       "                </td>\n",
       "                \n",
       "                <td style=\"background-color:rgb(198,202,160)\">\n",
       "                0.38\n",
       "                </td>\n",
       "                \n",
       "                <td style=\"background-color:rgb(255,117,117)\">\n",
       "                1.00\n",
       "                </td>\n",
       "                \n",
       "            </tr>\n",
       "            </table>\n",
       "\n",
       "            <pre id=\"bkcxXeriIk\" style=\"display:none;\">\n",
       "            <textarea rows=\"29\" cols=\"50\" onclick=\"this.select()\" readonly>%\\usepackage[table]{xcolor} % include this for color\n",
       "%\\usepackage{rotating} % include this for rotate header\n",
       "%\\documentclass[xcolor=table]{beamer} % for beamer\n",
       "\\begin{tabular}{|c|c|c|c|c|c|c|c|c|c|c|}\n",
       "\\hline\n",
       "\\rotatebox{90}{} & \\rotatebox{90}{$c_{0}$} & \\rotatebox{90}{$c_{1}$} & \\rotatebox{90}{$c_{2}$} & \\rotatebox{90}{NBkg} & \\rotatebox{90}{mu1} & \\rotatebox{90}{sigma1} & \\rotatebox{90}{N1} & \\rotatebox{90}{mu2} & \\rotatebox{90}{sigma2} & \\rotatebox{90}{N2}\\\\\n",
       "\\hline\n",
       "$c_{0}$ & \\cellcolor[RGB]{255,117,117} 1.00 & \\cellcolor[RGB]{253,120,118} 0.98 & \\cellcolor[RGB]{255,117,117} 1.00 & \\cellcolor[RGB]{163,254,186} 0.00 & \\cellcolor[RGB]{163,254,186} 0.00 & \\cellcolor[RGB]{164,253,185} -0.01 & \\cellcolor[RGB]{164,253,185} -0.01 & \\cellcolor[RGB]{163,254,186} 0.00 & \\cellcolor[RGB]{163,253,186} 0.00 & \\cellcolor[RGB]{163,253,186} 0.00\\\\\n",
       "\\hline\n",
       "$c_{1}$ & \\cellcolor[RGB]{253,120,118} 0.98 & \\cellcolor[RGB]{255,117,117} 1.00 & \\cellcolor[RGB]{252,121,119} 0.97 & \\cellcolor[RGB]{167,248,183} 0.04 & \\cellcolor[RGB]{164,253,186} -0.01 & \\cellcolor[RGB]{169,245,182} -0.06 & \\cellcolor[RGB]{171,242,180} -0.09 & \\cellcolor[RGB]{164,253,185} 0.01 & \\cellcolor[RGB]{163,253,186} 0.00 & \\cellcolor[RGB]{163,253,186} 0.01\\\\\n",
       "\\hline\n",
       "$c_{2}$ & \\cellcolor[RGB]{255,117,117} 1.00 & \\cellcolor[RGB]{252,121,119} 0.97 & \\cellcolor[RGB]{255,117,117} 1.00 & \\cellcolor[RGB]{164,253,185} -0.01 & \\cellcolor[RGB]{163,254,186} -0.00 & \\cellcolor[RGB]{165,252,185} 0.02 & \\cellcolor[RGB]{165,251,184} 0.02 & \\cellcolor[RGB]{163,254,186} -0.00 & \\cellcolor[RGB]{163,253,186} -0.01 & \\cellcolor[RGB]{164,253,186} -0.01\\\\\n",
       "\\hline\n",
       "NBkg & \\cellcolor[RGB]{163,254,186} 0.00 & \\cellcolor[RGB]{167,248,183} 0.04 & \\cellcolor[RGB]{164,253,185} -0.01 & \\cellcolor[RGB]{255,117,117} 1.00 & \\cellcolor[RGB]{167,248,183} -0.05 & \\cellcolor[RGB]{189,215,166} -0.28 & \\cellcolor[RGB]{197,204,161} -0.37 & \\cellcolor[RGB]{163,253,186} -0.01 & \\cellcolor[RGB]{185,222,170} -0.23 & \\cellcolor[RGB]{190,213,166} -0.30\\\\\n",
       "\\hline\n",
       "mu1 & \\cellcolor[RGB]{163,254,186} 0.00 & \\cellcolor[RGB]{164,253,186} -0.01 & \\cellcolor[RGB]{163,254,186} -0.00 & \\cellcolor[RGB]{167,248,183} -0.05 & \\cellcolor[RGB]{255,117,117} 1.00 & \\cellcolor[RGB]{170,243,181} 0.08 & \\cellcolor[RGB]{169,245,181} 0.07 & \\cellcolor[RGB]{163,254,186} 0.00 & \\cellcolor[RGB]{164,252,185} 0.02 & \\cellcolor[RGB]{165,251,185} 0.02\\\\\n",
       "\\hline\n",
       "sigma1 & \\cellcolor[RGB]{164,253,185} -0.01 & \\cellcolor[RGB]{169,245,182} -0.06 & \\cellcolor[RGB]{165,252,185} 0.02 & \\cellcolor[RGB]{189,215,166} -0.28 & \\cellcolor[RGB]{170,243,181} 0.08 & \\cellcolor[RGB]{255,117,117} 1.00 & \\cellcolor[RGB]{209,185,151} 0.50 & \\cellcolor[RGB]{164,252,185} -0.02 & \\cellcolor[RGB]{166,250,184} 0.03 & \\cellcolor[RGB]{166,249,183} 0.04\\\\\n",
       "\\hline\n",
       "N1 & \\cellcolor[RGB]{164,253,185} -0.01 & \\cellcolor[RGB]{171,242,180} -0.09 & \\cellcolor[RGB]{165,251,184} 0.02 & \\cellcolor[RGB]{197,204,161} -0.37 & \\cellcolor[RGB]{169,245,181} 0.07 & \\cellcolor[RGB]{209,185,151} 0.50 & \\cellcolor[RGB]{255,117,117} 1.00 & \\cellcolor[RGB]{165,251,185} -0.02 & \\cellcolor[RGB]{166,249,183} 0.04 & \\cellcolor[RGB]{167,247,183} 0.05\\\\\n",
       "\\hline\n",
       "mu2 & \\cellcolor[RGB]{163,254,186} 0.00 & \\cellcolor[RGB]{164,253,185} 0.01 & \\cellcolor[RGB]{163,254,186} -0.00 & \\cellcolor[RGB]{163,253,186} -0.01 & \\cellcolor[RGB]{163,254,186} 0.00 & \\cellcolor[RGB]{164,252,185} -0.02 & \\cellcolor[RGB]{165,251,185} -0.02 & \\cellcolor[RGB]{255,117,117} 1.00 & \\cellcolor[RGB]{166,249,184} 0.03 & \\cellcolor[RGB]{166,250,184} 0.03\\\\\n",
       "\\hline\n",
       "sigma2 & \\cellcolor[RGB]{163,253,186} 0.00 & \\cellcolor[RGB]{163,253,186} 0.00 & \\cellcolor[RGB]{163,253,186} -0.01 & \\cellcolor[RGB]{185,222,170} -0.23 & \\cellcolor[RGB]{164,252,185} 0.02 & \\cellcolor[RGB]{166,250,184} 0.03 & \\cellcolor[RGB]{166,249,183} 0.04 & \\cellcolor[RGB]{166,249,184} 0.03 & \\cellcolor[RGB]{255,117,117} 1.00 & \\cellcolor[RGB]{198,202,160} 0.38\\\\\n",
       "\\hline\n",
       "N2 & \\cellcolor[RGB]{163,253,186} 0.00 & \\cellcolor[RGB]{163,253,186} 0.01 & \\cellcolor[RGB]{164,253,186} -0.01 & \\cellcolor[RGB]{190,213,166} -0.30 & \\cellcolor[RGB]{165,251,185} 0.02 & \\cellcolor[RGB]{166,249,183} 0.04 & \\cellcolor[RGB]{167,247,183} 0.05 & \\cellcolor[RGB]{166,250,184} 0.03 & \\cellcolor[RGB]{198,202,160} 0.38 & \\cellcolor[RGB]{255,117,117} 1.00\\\\\n",
       "\\hline\n",
       "\\end{tabular}</textarea>\n",
       "            </pre>\n",
       "            "
      ]
     },
     "metadata": {},
     "output_type": "display_data"
    }
   ],
   "source": [
    "binned_likelihood.show(minuit, parts=True);\n",
    "minuit.print_fmin()\n",
    "minuit.print_matrix()"
   ]
  },
  {
   "cell_type": "markdown",
   "metadata": {},
   "source": [
    "Note the red upper left corner in the correlation matrix above?\n",
    "\n",
    "It shows that the three polynomial parameters `c_0`, `c_1` and `c_2` are highly correlated?\n",
    "The reason is that we put a constraint on the polynomial to be normalized over the fit range:\n",
    "\n",
    "    fit_range = (0, 5)\n",
    "    normalized_poly = probfit.Normalized(probfit.Polynomial(2), fit_range)\n",
    "    normalized_poly = probfit.Extended(normalized_poly, extname='NBkg')\n",
    "\n",
    "To resolve this problem you could simply use a non-normalized and non-extended polynomial to model the background. We won't do this here, though ..."
   ]
  },
  {
   "cell_type": "markdown",
   "metadata": {},
   "source": [
    "## Custom Drawing\n",
    "\n",
    "The `draw()` and `show()` method we provide is intended to just give you a quick look at your fit.\n",
    "\n",
    "To make a custom drawing you can use the return value of `draw()` and `show()`."
   ]
  },
  {
   "cell_type": "code",
   "execution_count": 29,
   "metadata": {
    "collapsed": false
   },
   "outputs": [
    {
     "data": {
      "image/png": "[encoded data removed]",
      "text/plain": [
       "<matplotlib.figure.Figure at 0x1139bbf50>"
      ]
     },
     "metadata": {},
     "output_type": "display_data"
    }
   ],
   "source": [
    "# You should copy & paste the return tuple from the `draw` docstring ...\n",
    "((data_edges, datay), (errorp, errorm), (total_pdf_x, total_pdf_y), parts) = binned_likelihood.draw(minuit, parts=True);\n",
    "# ... now we have everything to make our own plot"
   ]
  },
  {
   "cell_type": "code",
   "execution_count": 30,
   "metadata": {
    "collapsed": false
   },
   "outputs": [
    {
     "data": {
      "image/png": "[encoded data removed]",
      "text/plain": [
       "<matplotlib.figure.Figure at 0x112f68b10>"
      ]
     },
     "metadata": {},
     "output_type": "display_data"
    }
   ],
   "source": [
    "# Now make the plot as pretty as you like, e.g. with matplotlib.\n",
    "plt.figure(figsize=(8, 5))\n",
    "plt.errorbar(probfit.mid(data_edges), datay, errorp, fmt='.', capsize=0, color='Gray', label='Data')\n",
    "plt.plot(total_pdf_x, total_pdf_y, color='blue', lw=2, label='Total Model')\n",
    "colors = ['orange', 'purple', 'DarkGreen']\n",
    "labels = ['Background', 'Signal 1', 'Signal 2']\n",
    "for color, label, part in zip(colors, labels, parts):\n",
    "    x, y = part\n",
    "    plt.plot(x, y, ls='--', color=color, label=label)\n",
    "plt.grid(True)\n",
    "plt.legend(loc='upper left');"
   ]
  },
  {
   "cell_type": "markdown",
   "metadata": {},
   "source": [
    "## Simultaneous fit to several data sets\n",
    "\n",
    "Sometimes, what we want to fit is the sum of likelihood /chi^2 of two PDFs for two different datasets that share some parameters.\n",
    "\n",
    "In this example, we will fit two Gaussian distributions where we know that the widths are the same\n",
    "but the peaks are at different places."
   ]
  },
  {
   "cell_type": "code",
   "execution_count": 53,
   "metadata": {
    "collapsed": false
   },
   "outputs": [
    {
     "data": {
      "image/png": "[encoded data removed]",
      "text/plain": [
       "<matplotlib.figure.Figure at 0x108b686d0>"
      ]
     },
     "metadata": {},
     "output_type": "display_data"
    }
   ],
   "source": [
    "# Generate some example data\n",
    "np.random.seed(0)\n",
    "data1 = np.random.randn(10000) + 3 # mean =  3, sigma = 1\n",
    "data2 = np.random.randn(10000) - 2 # mean = -2, sigma = 1\n",
    "plt.figure(figsize=(12,4))\n",
    "plt.subplot(121)\n",
    "plt.hist(data1, bins=100, range=(-7, 7), histtype='step', label='data1')\n",
    "plt.legend()\n",
    "plt.subplot(122)\n",
    "plt.hist(data2, bins=100, range=(-7, 7), histtype='step', label='data2')\n",
    "plt.legend();"
   ]
  },
  {
   "cell_type": "code",
   "execution_count": 54,
   "metadata": {
    "collapsed": false
   },
   "outputs": [
    {
     "name": "stdout",
     "output_type": "stream",
     "text": [
      "['mean2', 'sigma']\n",
      "['mean', 'sigma']\n",
      "['mean2', 'sigma', 'mean']\n"
     ]
    }
   ],
   "source": [
    "# There is nothing special about built-in cost function\n",
    "# except some utility function like draw and show\n",
    "likelihood1 = probfit.UnbinnedLH(probfit.rename(probfit.gaussian, ('x', 'mean2', 'sigma')), data1)\n",
    "likelihood2 = probfit.UnbinnedLH(probfit.gaussian, data2)\n",
    "simultaneous_likelihood = probfit.SimultaneousFit(likelihood1, likelihood2)\n",
    "print(probfit.describe(likelihood1))\n",
    "print(probfit.describe(likelihood2))\n",
    "# Note that the simultaneous likelihood has only 3 parameters, because the\n",
    "# 'sigma' parameter is tied (i.e. linked to always be the same).\n",
    "print(probfit.describe(simultaneous_likelihood))"
   ]
  },
  {
   "cell_type": "code",
   "execution_count": 55,
   "metadata": {
    "collapsed": false
   },
   "outputs": [],
   "source": [
    "# Ah, the beauty of Minuit ... it doesn't care what your cost funtion is ...\n",
    "# you can use it to fit (i.e. compute optimal parameters and parameter errors) anything.\n",
    "minuit = iminuit.Minuit(simultaneous_likelihood, sigma=0.5, pedantic=False, print_level=0)\n",
    "# Well, there's one thing we have to tell Minuit so that it can compute parameter errors,\n",
    "# and that is the value of `errordef`, a.k.a. `up` (explained above).\n",
    "# This is a likelihood fit, so we need `errordef = 0.5` and not the default `errordef = 1`:\n",
    "minuit.errordef = 0.5"
   ]
  },
  {
   "cell_type": "code",
   "execution_count": 56,
   "metadata": {
    "collapsed": false
   },
   "outputs": [
    {
     "data": {
      "text/html": [
       "<hr>"
      ]
     },
     "metadata": {},
     "output_type": "display_data"
    },
    {
     "data": {
      "text/html": [
       "\n",
       "        <table>\n",
       "            <tr>\n",
       "                <td title=\"Minimum value of function\">FCN = 28184.0142876</td>\n",
       "                <td title=\"Total number of call to FCN so far\">TOTAL NCALL = 97</td>\n",
       "                <td title=\"Number of call in last migrad\">NCALLS = 97</td>\n",
       "            </tr>\n",
       "            <tr>\n",
       "                <td title=\"Estimated distance to minimum\">EDM = 2.24660525589e-09</td>\n",
       "                <td title=\"Maximum EDM definition of convergence\">GOAL EDM = 5e-06</td>\n",
       "                <td title=\"Error def. Amount of increase in FCN to be defined as 1 standard deviation\">\n",
       "                UP = 0.5</td>\n",
       "            </tr>\n",
       "        </table>\n",
       "        \n",
       "        <table>\n",
       "            <tr>\n",
       "                <td align=\"center\" title=\"Validity of the migrad call\">Valid</td>\n",
       "                <td align=\"center\" title=\"Validity of parameters\">Valid Param</td>\n",
       "                <td align=\"center\" title=\"Is Covariance matrix accurate?\">Accurate Covar</td>\n",
       "                <td align=\"center\" title=\"Positive definiteness of covariance matrix\">PosDef</td>\n",
       "                <td align=\"center\" title=\"Was covariance matrix made posdef by adding diagonal element\">Made PosDef</td>\n",
       "            </tr>\n",
       "            <tr>\n",
       "                <td align=\"center\" style=\"background-color:#92CCA6\">True</td>\n",
       "                <td align=\"center\" style=\"background-color:#92CCA6\">True</td>\n",
       "                <td align=\"center\" style=\"background-color:#92CCA6\">True</td>\n",
       "                <td align=\"center\" style=\"background-color:#92CCA6\">True</td>\n",
       "                <td align=\"center\" style=\"background-color:#92CCA6\">False</td>\n",
       "            </tr>\n",
       "            <tr>\n",
       "                <td align=\"center\" title=\"Was last hesse call fail?\">Hesse Fail</td>\n",
       "                <td align=\"center\" title=\"Validity of covariance\">HasCov</td>\n",
       "                <td align=\"center\" title=\"Is EDM above goal EDM?\">Above EDM</td>\n",
       "                <td align=\"center\"></td>\n",
       "                <td align=\"center\" title=\"Did last migrad call reach max call limit?\">Reach calllim</td>\n",
       "            </tr>\n",
       "            <tr>\n",
       "                <td align=\"center\" style=\"background-color:#92CCA6\">False</td>\n",
       "                <td align=\"center\" style=\"background-color:#92CCA6\">True</td>\n",
       "                <td align=\"center\" style=\"background-color:#92CCA6\">False</td>\n",
       "                <td align=\"center\"></td>\n",
       "                <td align=\"center\" style=\"background-color:#92CCA6\">False</td>\n",
       "            </tr>\n",
       "        </table>\n",
       "        "
      ]
     },
     "metadata": {},
     "output_type": "display_data"
    },
    {
     "data": {
      "text/html": [
       "\n",
       "        <table>\n",
       "            <tr>\n",
       "                <td><a href=\"#\" onclick=\"$('#iGsKVySUxS').toggle()\">+</a></td>\n",
       "                <td title=\"Variable name\">Name</td>\n",
       "                <td title=\"Value of parameter\">Value</td>\n",
       "                <td title=\"Parabolic error\">Parab Error</td>\n",
       "                <td title=\"Minos lower error\">Minos Error-</td>\n",
       "                <td title=\"Minos upper error\">Minos Error+</td>\n",
       "                <td title=\"Lower limit of the parameter\">Limit-</td>\n",
       "                <td title=\"Upper limit of the parameter\">Limit+</td>\n",
       "                <td title=\"Is the parameter fixed in the fit\">FIXED</td>\n",
       "            </tr>\n",
       "        \n",
       "            <tr>\n",
       "                <td>1</td>\n",
       "                <td>mean2</td>\n",
       "                <td>2.981566e+00</td>\n",
       "                <td>9.903099e-03</td>\n",
       "                <td>0.000000e+00</td>\n",
       "                <td>0.000000e+00</td>\n",
       "                <td></td>\n",
       "                <td></td>\n",
       "                <td></td>\n",
       "            </tr>\n",
       "            \n",
       "            <tr>\n",
       "                <td>2</td>\n",
       "                <td>sigma</td>\n",
       "                <td>9.903098e-01</td>\n",
       "                <td>4.951551e-03</td>\n",
       "                <td>0.000000e+00</td>\n",
       "                <td>0.000000e+00</td>\n",
       "                <td></td>\n",
       "                <td></td>\n",
       "                <td></td>\n",
       "            </tr>\n",
       "            \n",
       "            <tr>\n",
       "                <td>3</td>\n",
       "                <td>mean</td>\n",
       "                <td>-1.989012e+00</td>\n",
       "                <td>9.903099e-03</td>\n",
       "                <td>0.000000e+00</td>\n",
       "                <td>0.000000e+00</td>\n",
       "                <td></td>\n",
       "                <td></td>\n",
       "                <td></td>\n",
       "            </tr>\n",
       "            \n",
       "            </table>\n",
       "        \n",
       "            <pre id=\"iGsKVySUxS\" style=\"display:none;\">\n",
       "            <textarea rows=\"12\" cols=\"50\" onclick=\"this.select()\" readonly>\\begin{tabular}{|c|r|r|r|r|r|r|r|c|}\n",
       "\\hline\n",
       " & Name & Value & Para Error & Error+ & Error- & Limit+ & Limit- & FIXED\\\\\n",
       "\\hline\n",
       "1 & mean2 & 2.982e+00 & 9.903e-03 &  &  &  &  & \\\\\n",
       "\\hline\n",
       "2 & $\\sigma$ & 9.903e-01 & 4.952e-03 &  &  &  &  & \\\\\n",
       "\\hline\n",
       "3 & mean & -1.989e+00 & 9.903e-03 &  &  &  &  & \\\\\n",
       "\\hline\n",
       "\\end{tabular}</textarea>\n",
       "            </pre>\n",
       "            "
      ]
     },
     "metadata": {},
     "output_type": "display_data"
    },
    {
     "data": {
      "text/html": [
       "<hr>"
      ]
     },
     "metadata": {},
     "output_type": "display_data"
    },
    {
     "data": {
      "text/html": [
       "\n",
       "            <table>\n",
       "                <tr>\n",
       "                    <td><a onclick=\"$('#ksThmHphBC').toggle()\" href=\"#\">+</a></td>\n",
       "        \n",
       "            <td>\n",
       "            <div style=\"width:20px;position:relative; width: -moz-fit-content;\">\n",
       "            <div style=\"display:inline-block;-webkit-writing-mode:vertical-rl;-moz-writing-mode: vertical-rl;writing-mode: vertical-rl;\">\n",
       "            mean2\n",
       "            </div>\n",
       "            </div>\n",
       "            </td>\n",
       "            \n",
       "            <td>\n",
       "            <div style=\"width:20px;position:relative; width: -moz-fit-content;\">\n",
       "            <div style=\"display:inline-block;-webkit-writing-mode:vertical-rl;-moz-writing-mode: vertical-rl;writing-mode: vertical-rl;\">\n",
       "            sigma\n",
       "            </div>\n",
       "            </div>\n",
       "            </td>\n",
       "            \n",
       "            <td>\n",
       "            <div style=\"width:20px;position:relative; width: -moz-fit-content;\">\n",
       "            <div style=\"display:inline-block;-webkit-writing-mode:vertical-rl;-moz-writing-mode: vertical-rl;writing-mode: vertical-rl;\">\n",
       "            mean\n",
       "            </div>\n",
       "            </div>\n",
       "            </td>\n",
       "            \n",
       "                </tr>\n",
       "                \n",
       "            <tr>\n",
       "                <td>mean2</td>\n",
       "            \n",
       "                <td style=\"background-color:rgb(255,117,117)\">\n",
       "                1.00\n",
       "                </td>\n",
       "                \n",
       "                <td style=\"background-color:rgb(163,254,186)\">\n",
       "                0.00\n",
       "                </td>\n",
       "                \n",
       "                <td style=\"background-color:rgb(163,254,186)\">\n",
       "                0.00\n",
       "                </td>\n",
       "                \n",
       "            </tr>\n",
       "            \n",
       "            <tr>\n",
       "                <td>sigma</td>\n",
       "            \n",
       "                <td style=\"background-color:rgb(163,254,186)\">\n",
       "                0.00\n",
       "                </td>\n",
       "                \n",
       "                <td style=\"background-color:rgb(255,117,117)\">\n",
       "                1.00\n",
       "                </td>\n",
       "                \n",
       "                <td style=\"background-color:rgb(163,254,186)\">\n",
       "                0.00\n",
       "                </td>\n",
       "                \n",
       "            </tr>\n",
       "            \n",
       "            <tr>\n",
       "                <td>mean</td>\n",
       "            \n",
       "                <td style=\"background-color:rgb(163,254,186)\">\n",
       "                0.00\n",
       "                </td>\n",
       "                \n",
       "                <td style=\"background-color:rgb(163,254,186)\">\n",
       "                0.00\n",
       "                </td>\n",
       "                \n",
       "                <td style=\"background-color:rgb(255,117,117)\">\n",
       "                1.00\n",
       "                </td>\n",
       "                \n",
       "            </tr>\n",
       "            </table>\n",
       "\n",
       "            <pre id=\"ksThmHphBC\" style=\"display:none;\">\n",
       "            <textarea rows=\"15\" cols=\"50\" onclick=\"this.select()\" readonly>%\\usepackage[table]{xcolor} % include this for color\n",
       "%\\usepackage{rotating} % include this for rotate header\n",
       "%\\documentclass[xcolor=table]{beamer} % for beamer\n",
       "\\begin{tabular}{|c|c|c|c|}\n",
       "\\hline\n",
       "\\rotatebox{90}{} & \\rotatebox{90}{mean2} & \\rotatebox{90}{$\\sigma$} & \\rotatebox{90}{mean}\\\\\n",
       "\\hline\n",
       "mean2 & \\cellcolor[RGB]{255,117,117} 1.00 & \\cellcolor[RGB]{163,254,186} 0.00 & \\cellcolor[RGB]{163,254,186} 0.00\\\\\n",
       "\\hline\n",
       "$\\sigma$ & \\cellcolor[RGB]{163,254,186} 0.00 & \\cellcolor[RGB]{255,117,117} 1.00 & \\cellcolor[RGB]{163,254,186} 0.00\\\\\n",
       "\\hline\n",
       "mean & \\cellcolor[RGB]{163,254,186} 0.00 & \\cellcolor[RGB]{163,254,186} 0.00 & \\cellcolor[RGB]{255,117,117} 1.00\\\\\n",
       "\\hline\n",
       "\\end{tabular}</textarea>\n",
       "            </pre>\n",
       "            "
      ]
     },
     "metadata": {},
     "output_type": "display_data"
    }
   ],
   "source": [
    "# Run the fit and print the results\n",
    "minuit.migrad();\n",
    "minuit.print_fmin()\n",
    "minuit.print_matrix()"
   ]
  },
  {
   "cell_type": "code",
   "execution_count": 57,
   "metadata": {
    "collapsed": false
   },
   "outputs": [
    {
     "data": {
      "image/png": "[encoded data removed]",
      "text/plain": [
       "<matplotlib.figure.Figure at 0x1087dfe50>"
      ]
     },
     "metadata": {},
     "output_type": "display_data"
    }
   ],
   "source": [
    "simultaneous_likelihood.draw(minuit);"
   ]
  },
  {
   "cell_type": "markdown",
   "metadata": {},
   "source": [
    "## Blinding parameters\n",
    "\n",
    "Often, an analyst would like to avoid looking at the result of the fitted parameter(s) before he/she finalized the analysis in order to avoid biases due to the prejudice of the analyst. Probfit provids a transformation function that hides the true value(s) of the parameter(s). The transformation function requires a string to set the seed of the random number generator, and a scale to smear the parameter(s) using a Gaussian."
   ]
  },
  {
   "cell_type": "code",
   "execution_count": 3,
   "metadata": {
    "collapsed": false
   },
   "outputs": [],
   "source": [
    "from probfit import UnbinnedLH, BlindFunc, rename, AddPdfNorm\n",
    "from probfit import gaussian\n",
    "from iminuit import Minuit, describe\n",
    "from probfit import gen_toy"
   ]
  },
  {
   "cell_type": "code",
   "execution_count": 4,
   "metadata": {
    "collapsed": false
   },
   "outputs": [
    {
     "data": {
      "text/plain": [
       "['x', 'm0', 's0', 'm1', 's1', 'f_0']"
      ]
     },
     "execution_count": 4,
     "metadata": {},
     "output_type": "execute_result"
    }
   ],
   "source": [
    "g0= rename(gaussian, ['x', 'm0', 's0'])\n",
    "g1= rename(gaussian, ['x', 'm1', 's1'])\n",
    "pdf= AddPdfNorm(g0,g1)\n",
    "describe(pdf)"
   ]
  },
  {
   "cell_type": "code",
   "execution_count": 5,
   "metadata": {
    "collapsed": false
   },
   "outputs": [
    {
     "name": "stdout",
     "output_type": "stream",
     "text": [
      "['x', 'm0', 's0', 'm1', 's1', 'f_0']\n"
     ]
    },
    {
     "data": {
      "image/png": "[encoded data removed]",
      "text/plain": [
       "<matplotlib.figure.Figure at 0x11187fbd0>"
      ]
     },
     "metadata": {},
     "output_type": "display_data"
    }
   ],
   "source": [
    "seed(0)\n",
    "toydata = gen_toy(pdf, 1000,(-10,10), m0=-2, m1=2, s0=1, s1=1, f_0=0.3, quiet=False)"
   ]
  },
  {
   "cell_type": "code",
   "execution_count": 6,
   "metadata": {
    "collapsed": false
   },
   "outputs": [],
   "source": [
    "inipars= dict(m0=0, m1=0, s0=1, s1=1, f_0=0.5, error_m0=0.1, error_m1=0.1, error_s0=0.1, error_s1=0.1, error_f_0=0.1)"
   ]
  },
  {
   "cell_type": "code",
   "execution_count": 7,
   "metadata": {
    "collapsed": false
   },
   "outputs": [
    {
     "data": {
      "text/html": [
       "<hr>"
      ]
     },
     "metadata": {},
     "output_type": "display_data"
    },
    {
     "data": {
      "text/html": [
       "\n",
       "        <table>\n",
       "            <tr>\n",
       "                <td title=\"Minimum value of function\">FCN = 1998.19075776</td>\n",
       "                <td title=\"Total number of call to FCN so far\">TOTAL NCALL = 215</td>\n",
       "                <td title=\"Number of call in last migrad\">NCALLS = 215</td>\n",
       "            </tr>\n",
       "            <tr>\n",
       "                <td title=\"Estimated distance to minimum\">EDM = 2.22895489152e-08</td>\n",
       "                <td title=\"Maximum EDM definition of convergence\">GOAL EDM = 5e-06</td>\n",
       "                <td title=\"Error def. Amount of increase in FCN to be defined as 1 standard deviation\">\n",
       "                UP = 0.5</td>\n",
       "            </tr>\n",
       "        </table>\n",
       "        \n",
       "        <table>\n",
       "            <tr>\n",
       "                <td align=\"center\" title=\"Validity of the migrad call\">Valid</td>\n",
       "                <td align=\"center\" title=\"Validity of parameters\">Valid Param</td>\n",
       "                <td align=\"center\" title=\"Is Covariance matrix accurate?\">Accurate Covar</td>\n",
       "                <td align=\"center\" title=\"Positive definiteness of covariance matrix\">PosDef</td>\n",
       "                <td align=\"center\" title=\"Was covariance matrix made posdef by adding diagonal element\">Made PosDef</td>\n",
       "            </tr>\n",
       "            <tr>\n",
       "                <td align=\"center\" style=\"background-color:#92CCA6\">True</td>\n",
       "                <td align=\"center\" style=\"background-color:#92CCA6\">True</td>\n",
       "                <td align=\"center\" style=\"background-color:#92CCA6\">True</td>\n",
       "                <td align=\"center\" style=\"background-color:#92CCA6\">True</td>\n",
       "                <td align=\"center\" style=\"background-color:#92CCA6\">False</td>\n",
       "            </tr>\n",
       "            <tr>\n",
       "                <td align=\"center\" title=\"Was last hesse call fail?\">Hesse Fail</td>\n",
       "                <td align=\"center\" title=\"Validity of covariance\">HasCov</td>\n",
       "                <td align=\"center\" title=\"Is EDM above goal EDM?\">Above EDM</td>\n",
       "                <td align=\"center\"></td>\n",
       "                <td align=\"center\" title=\"Did last migrad call reach max call limit?\">Reach calllim</td>\n",
       "            </tr>\n",
       "            <tr>\n",
       "                <td align=\"center\" style=\"background-color:#92CCA6\">False</td>\n",
       "                <td align=\"center\" style=\"background-color:#92CCA6\">True</td>\n",
       "                <td align=\"center\" style=\"background-color:#92CCA6\">False</td>\n",
       "                <td align=\"center\"></td>\n",
       "                <td align=\"center\" style=\"background-color:#92CCA6\">False</td>\n",
       "            </tr>\n",
       "        </table>\n",
       "        "
      ]
     },
     "metadata": {},
     "output_type": "display_data"
    },
    {
     "data": {
      "text/html": [
       "\n",
       "        <table>\n",
       "            <tr>\n",
       "                <td><a href=\"#\" onclick=\"$('#uVfwJieDbF').toggle()\">+</a></td>\n",
       "                <td title=\"Variable name\">Name</td>\n",
       "                <td title=\"Value of parameter\">Value</td>\n",
       "                <td title=\"Parabolic error\">Parab Error</td>\n",
       "                <td title=\"Minos lower error\">Minos Error-</td>\n",
       "                <td title=\"Minos upper error\">Minos Error+</td>\n",
       "                <td title=\"Lower limit of the parameter\">Limit-</td>\n",
       "                <td title=\"Upper limit of the parameter\">Limit+</td>\n",
       "                <td title=\"Is the parameter fixed in the fit\">FIXED</td>\n",
       "            </tr>\n",
       "        \n",
       "            <tr>\n",
       "                <td>1</td>\n",
       "                <td>m0</td>\n",
       "                <td>1.972029e+00</td>\n",
       "                <td>4.773567e-02</td>\n",
       "                <td>0.000000e+00</td>\n",
       "                <td>0.000000e+00</td>\n",
       "                <td></td>\n",
       "                <td></td>\n",
       "                <td></td>\n",
       "            </tr>\n",
       "            \n",
       "            <tr>\n",
       "                <td>2</td>\n",
       "                <td>s0</td>\n",
       "                <td>1.053063e+00</td>\n",
       "                <td>3.721995e-02</td>\n",
       "                <td>0.000000e+00</td>\n",
       "                <td>0.000000e+00</td>\n",
       "                <td></td>\n",
       "                <td></td>\n",
       "                <td></td>\n",
       "            </tr>\n",
       "            \n",
       "            <tr>\n",
       "                <td>3</td>\n",
       "                <td>m1</td>\n",
       "                <td>-1.994212e+00</td>\n",
       "                <td>7.552495e-02</td>\n",
       "                <td>0.000000e+00</td>\n",
       "                <td>0.000000e+00</td>\n",
       "                <td></td>\n",
       "                <td></td>\n",
       "                <td></td>\n",
       "            </tr>\n",
       "            \n",
       "            <tr>\n",
       "                <td>4</td>\n",
       "                <td>s1</td>\n",
       "                <td>9.767748e-01</td>\n",
       "                <td>5.688912e-02</td>\n",
       "                <td>0.000000e+00</td>\n",
       "                <td>0.000000e+00</td>\n",
       "                <td></td>\n",
       "                <td></td>\n",
       "                <td></td>\n",
       "            </tr>\n",
       "            \n",
       "            <tr>\n",
       "                <td>5</td>\n",
       "                <td>f_0</td>\n",
       "                <td>6.993030e-01</td>\n",
       "                <td>1.673062e-02</td>\n",
       "                <td>0.000000e+00</td>\n",
       "                <td>0.000000e+00</td>\n",
       "                <td></td>\n",
       "                <td></td>\n",
       "                <td></td>\n",
       "            </tr>\n",
       "            \n",
       "            </table>\n",
       "        \n",
       "            <pre id=\"uVfwJieDbF\" style=\"display:none;\">\n",
       "            <textarea rows=\"16\" cols=\"50\" onclick=\"this.select()\" readonly>\\begin{tabular}{|c|r|r|r|r|r|r|r|c|}\n",
       "\\hline\n",
       " & Name & Value & Para Error & Error+ & Error- & Limit+ & Limit- & FIXED\\\\\n",
       "\\hline\n",
       "1 & m0 & 1.972e+00 & 4.774e-02 &  &  &  &  & \\\\\n",
       "\\hline\n",
       "2 & s0 & 1.053e+00 & 3.722e-02 &  &  &  &  & \\\\\n",
       "\\hline\n",
       "3 & m1 & -1.994e+00 & 7.552e-02 &  &  &  &  & \\\\\n",
       "\\hline\n",
       "4 & s1 & 9.768e-01 & 5.689e-02 &  &  &  &  & \\\\\n",
       "\\hline\n",
       "5 & $f_{0}$ & 6.993e-01 & 1.673e-02 &  &  &  &  & \\\\\n",
       "\\hline\n",
       "\\end{tabular}</textarea>\n",
       "            </pre>\n",
       "            "
      ]
     },
     "metadata": {},
     "output_type": "display_data"
    },
    {
     "data": {
      "text/html": [
       "<hr>"
      ]
     },
     "metadata": {},
     "output_type": "display_data"
    },
    {
     "name": "stdout",
     "output_type": "stream",
     "text": [
      "{'f_0': 0.6993030239680726, 's1': 0.976774802772317, 's0': 1.0530630364224147, 'm1': -1.9942116293354075, 'm0': 1.9720292675473272}\n"
     ]
    },
    {
     "data": {
      "image/png": "[encoded data removed]",
      "text/plain": [
       "<matplotlib.figure.Figure at 0x1118eba90>"
      ]
     },
     "metadata": {},
     "output_type": "display_data"
    }
   ],
   "source": [
    "# Normal fit\n",
    "uh1= UnbinnedLH(pdf, toydata)\n",
    "m1= Minuit(uh1, print_level=1, **inipars)\n",
    "m1.migrad();\n",
    "uh1.draw();\n",
    "print m1.values"
   ]
  },
  {
   "cell_type": "code",
   "execution_count": 8,
   "metadata": {
    "collapsed": false
   },
   "outputs": [
    {
     "data": {
      "text/html": [
       "<hr>"
      ]
     },
     "metadata": {},
     "output_type": "display_data"
    },
    {
     "data": {
      "text/html": [
       "\n",
       "        <table>\n",
       "            <tr>\n",
       "                <td title=\"Minimum value of function\">FCN = 1998.19075778</td>\n",
       "                <td title=\"Total number of call to FCN so far\">TOTAL NCALL = 213</td>\n",
       "                <td title=\"Number of call in last migrad\">NCALLS = 213</td>\n",
       "            </tr>\n",
       "            <tr>\n",
       "                <td title=\"Estimated distance to minimum\">EDM = 3.91220377184e-08</td>\n",
       "                <td title=\"Maximum EDM definition of convergence\">GOAL EDM = 5e-06</td>\n",
       "                <td title=\"Error def. Amount of increase in FCN to be defined as 1 standard deviation\">\n",
       "                UP = 0.5</td>\n",
       "            </tr>\n",
       "        </table>\n",
       "        \n",
       "        <table>\n",
       "            <tr>\n",
       "                <td align=\"center\" title=\"Validity of the migrad call\">Valid</td>\n",
       "                <td align=\"center\" title=\"Validity of parameters\">Valid Param</td>\n",
       "                <td align=\"center\" title=\"Is Covariance matrix accurate?\">Accurate Covar</td>\n",
       "                <td align=\"center\" title=\"Positive definiteness of covariance matrix\">PosDef</td>\n",
       "                <td align=\"center\" title=\"Was covariance matrix made posdef by adding diagonal element\">Made PosDef</td>\n",
       "            </tr>\n",
       "            <tr>\n",
       "                <td align=\"center\" style=\"background-color:#92CCA6\">True</td>\n",
       "                <td align=\"center\" style=\"background-color:#92CCA6\">True</td>\n",
       "                <td align=\"center\" style=\"background-color:#92CCA6\">True</td>\n",
       "                <td align=\"center\" style=\"background-color:#92CCA6\">True</td>\n",
       "                <td align=\"center\" style=\"background-color:#92CCA6\">False</td>\n",
       "            </tr>\n",
       "            <tr>\n",
       "                <td align=\"center\" title=\"Was last hesse call fail?\">Hesse Fail</td>\n",
       "                <td align=\"center\" title=\"Validity of covariance\">HasCov</td>\n",
       "                <td align=\"center\" title=\"Is EDM above goal EDM?\">Above EDM</td>\n",
       "                <td align=\"center\"></td>\n",
       "                <td align=\"center\" title=\"Did last migrad call reach max call limit?\">Reach calllim</td>\n",
       "            </tr>\n",
       "            <tr>\n",
       "                <td align=\"center\" style=\"background-color:#92CCA6\">False</td>\n",
       "                <td align=\"center\" style=\"background-color:#92CCA6\">True</td>\n",
       "                <td align=\"center\" style=\"background-color:#92CCA6\">False</td>\n",
       "                <td align=\"center\"></td>\n",
       "                <td align=\"center\" style=\"background-color:#92CCA6\">False</td>\n",
       "            </tr>\n",
       "        </table>\n",
       "        "
      ]
     },
     "metadata": {},
     "output_type": "display_data"
    },
    {
     "data": {
      "text/html": [
       "\n",
       "        <table>\n",
       "            <tr>\n",
       "                <td><a href=\"#\" onclick=\"$('#hvugADrerr').toggle()\">+</a></td>\n",
       "                <td title=\"Variable name\">Name</td>\n",
       "                <td title=\"Value of parameter\">Value</td>\n",
       "                <td title=\"Parabolic error\">Parab Error</td>\n",
       "                <td title=\"Minos lower error\">Minos Error-</td>\n",
       "                <td title=\"Minos upper error\">Minos Error+</td>\n",
       "                <td title=\"Lower limit of the parameter\">Limit-</td>\n",
       "                <td title=\"Upper limit of the parameter\">Limit+</td>\n",
       "                <td title=\"Is the parameter fixed in the fit\">FIXED</td>\n",
       "            </tr>\n",
       "        \n",
       "            <tr>\n",
       "                <td>1</td>\n",
       "                <td>m0</td>\n",
       "                <td>1.972030e+00</td>\n",
       "                <td>4.773574e-02</td>\n",
       "                <td>0.000000e+00</td>\n",
       "                <td>0.000000e+00</td>\n",
       "                <td></td>\n",
       "                <td></td>\n",
       "                <td></td>\n",
       "            </tr>\n",
       "            \n",
       "            <tr>\n",
       "                <td>2</td>\n",
       "                <td>s0</td>\n",
       "                <td>1.053065e+00</td>\n",
       "                <td>3.722013e-02</td>\n",
       "                <td>0.000000e+00</td>\n",
       "                <td>0.000000e+00</td>\n",
       "                <td></td>\n",
       "                <td></td>\n",
       "                <td></td>\n",
       "            </tr>\n",
       "            \n",
       "            <tr>\n",
       "                <td>3</td>\n",
       "                <td>m1</td>\n",
       "                <td>-2.022541e+00</td>\n",
       "                <td>7.552512e-02</td>\n",
       "                <td>0.000000e+00</td>\n",
       "                <td>0.000000e+00</td>\n",
       "                <td></td>\n",
       "                <td></td>\n",
       "                <td></td>\n",
       "            </tr>\n",
       "            \n",
       "            <tr>\n",
       "                <td>4</td>\n",
       "                <td>s1</td>\n",
       "                <td>9.767755e-01</td>\n",
       "                <td>5.688929e-02</td>\n",
       "                <td>0.000000e+00</td>\n",
       "                <td>0.000000e+00</td>\n",
       "                <td></td>\n",
       "                <td></td>\n",
       "                <td></td>\n",
       "            </tr>\n",
       "            \n",
       "            <tr>\n",
       "                <td>5</td>\n",
       "                <td>f_0</td>\n",
       "                <td>6.993031e-01</td>\n",
       "                <td>1.673063e-02</td>\n",
       "                <td>0.000000e+00</td>\n",
       "                <td>0.000000e+00</td>\n",
       "                <td></td>\n",
       "                <td></td>\n",
       "                <td></td>\n",
       "            </tr>\n",
       "            \n",
       "            </table>\n",
       "        \n",
       "            <pre id=\"hvugADrerr\" style=\"display:none;\">\n",
       "            <textarea rows=\"16\" cols=\"50\" onclick=\"this.select()\" readonly>\\begin{tabular}{|c|r|r|r|r|r|r|r|c|}\n",
       "\\hline\n",
       " & Name & Value & Para Error & Error+ & Error- & Limit+ & Limit- & FIXED\\\\\n",
       "\\hline\n",
       "1 & m0 & 1.972e+00 & 4.774e-02 &  &  &  &  & \\\\\n",
       "\\hline\n",
       "2 & s0 & 1.053e+00 & 3.722e-02 &  &  &  &  & \\\\\n",
       "\\hline\n",
       "3 & m1 & -2.023e+00 & 7.553e-02 &  &  &  &  & \\\\\n",
       "\\hline\n",
       "4 & s1 & 9.768e-01 & 5.689e-02 &  &  &  &  & \\\\\n",
       "\\hline\n",
       "5 & $f_{0}$ & 6.993e-01 & 1.673e-02 &  &  &  &  & \\\\\n",
       "\\hline\n",
       "\\end{tabular}</textarea>\n",
       "            </pre>\n",
       "            "
      ]
     },
     "metadata": {},
     "output_type": "display_data"
    },
    {
     "data": {
      "text/html": [
       "<hr>"
      ]
     },
     "metadata": {},
     "output_type": "display_data"
    },
    {
     "name": "stdout",
     "output_type": "stream",
     "text": [
      "{'f_0': 0.6993030560128841, 's1': 0.9767755206854074, 's0': 1.0530648448606312, 'm1': -2.0225414570938822, 'm0': 1.9720304423455262}\n"
     ]
    },
    {
     "data": {
      "image/png": "[encoded data removed]",
      "text/plain": [
       "<matplotlib.figure.Figure at 0x111928590>"
      ]
     },
     "metadata": {},
     "output_type": "display_data"
    }
   ],
   "source": [
    "# Blind one parameter\n",
    "uh2= UnbinnedLH( BlindFunc(pdf, toblind='m1', seedstring='some_random_stuff', width=0.5, signflip=False), toydata)\n",
    "m2= Minuit(uh2, print_level=1, **inipars)\n",
    "m2.migrad();\n",
    "uh2.draw();\n",
    "print m2.values"
   ]
  },
  {
   "cell_type": "code",
   "execution_count": 9,
   "metadata": {
    "collapsed": false
   },
   "outputs": [
    {
     "data": {
      "text/html": [
       "<hr>"
      ]
     },
     "metadata": {},
     "output_type": "display_data"
    },
    {
     "data": {
      "text/html": [
       "\n",
       "        <table>\n",
       "            <tr>\n",
       "                <td title=\"Minimum value of function\">FCN = 1998.19075841</td>\n",
       "                <td title=\"Total number of call to FCN so far\">TOTAL NCALL = 204</td>\n",
       "                <td title=\"Number of call in last migrad\">NCALLS = 204</td>\n",
       "            </tr>\n",
       "            <tr>\n",
       "                <td title=\"Estimated distance to minimum\">EDM = 6.73095146289e-07</td>\n",
       "                <td title=\"Maximum EDM definition of convergence\">GOAL EDM = 5e-06</td>\n",
       "                <td title=\"Error def. Amount of increase in FCN to be defined as 1 standard deviation\">\n",
       "                UP = 0.5</td>\n",
       "            </tr>\n",
       "        </table>\n",
       "        \n",
       "        <table>\n",
       "            <tr>\n",
       "                <td align=\"center\" title=\"Validity of the migrad call\">Valid</td>\n",
       "                <td align=\"center\" title=\"Validity of parameters\">Valid Param</td>\n",
       "                <td align=\"center\" title=\"Is Covariance matrix accurate?\">Accurate Covar</td>\n",
       "                <td align=\"center\" title=\"Positive definiteness of covariance matrix\">PosDef</td>\n",
       "                <td align=\"center\" title=\"Was covariance matrix made posdef by adding diagonal element\">Made PosDef</td>\n",
       "            </tr>\n",
       "            <tr>\n",
       "                <td align=\"center\" style=\"background-color:#92CCA6\">True</td>\n",
       "                <td align=\"center\" style=\"background-color:#92CCA6\">True</td>\n",
       "                <td align=\"center\" style=\"background-color:#92CCA6\">True</td>\n",
       "                <td align=\"center\" style=\"background-color:#92CCA6\">True</td>\n",
       "                <td align=\"center\" style=\"background-color:#92CCA6\">False</td>\n",
       "            </tr>\n",
       "            <tr>\n",
       "                <td align=\"center\" title=\"Was last hesse call fail?\">Hesse Fail</td>\n",
       "                <td align=\"center\" title=\"Validity of covariance\">HasCov</td>\n",
       "                <td align=\"center\" title=\"Is EDM above goal EDM?\">Above EDM</td>\n",
       "                <td align=\"center\"></td>\n",
       "                <td align=\"center\" title=\"Did last migrad call reach max call limit?\">Reach calllim</td>\n",
       "            </tr>\n",
       "            <tr>\n",
       "                <td align=\"center\" style=\"background-color:#92CCA6\">False</td>\n",
       "                <td align=\"center\" style=\"background-color:#92CCA6\">True</td>\n",
       "                <td align=\"center\" style=\"background-color:#92CCA6\">False</td>\n",
       "                <td align=\"center\"></td>\n",
       "                <td align=\"center\" style=\"background-color:#92CCA6\">False</td>\n",
       "            </tr>\n",
       "        </table>\n",
       "        "
      ]
     },
     "metadata": {},
     "output_type": "display_data"
    },
    {
     "data": {
      "text/html": [
       "\n",
       "        <table>\n",
       "            <tr>\n",
       "                <td><a href=\"#\" onclick=\"$('#zrhCDTFTts').toggle()\">+</a></td>\n",
       "                <td title=\"Variable name\">Name</td>\n",
       "                <td title=\"Value of parameter\">Value</td>\n",
       "                <td title=\"Parabolic error\">Parab Error</td>\n",
       "                <td title=\"Minos lower error\">Minos Error-</td>\n",
       "                <td title=\"Minos upper error\">Minos Error+</td>\n",
       "                <td title=\"Lower limit of the parameter\">Limit-</td>\n",
       "                <td title=\"Upper limit of the parameter\">Limit+</td>\n",
       "                <td title=\"Is the parameter fixed in the fit\">FIXED</td>\n",
       "            </tr>\n",
       "        \n",
       "            <tr>\n",
       "                <td>1</td>\n",
       "                <td>m0</td>\n",
       "                <td>1.943670e+00</td>\n",
       "                <td>4.773484e-02</td>\n",
       "                <td>0.000000e+00</td>\n",
       "                <td>0.000000e+00</td>\n",
       "                <td></td>\n",
       "                <td></td>\n",
       "                <td></td>\n",
       "            </tr>\n",
       "            \n",
       "            <tr>\n",
       "                <td>2</td>\n",
       "                <td>s0</td>\n",
       "                <td>1.053038e+00</td>\n",
       "                <td>3.721755e-02</td>\n",
       "                <td>0.000000e+00</td>\n",
       "                <td>0.000000e+00</td>\n",
       "                <td></td>\n",
       "                <td></td>\n",
       "                <td></td>\n",
       "            </tr>\n",
       "            \n",
       "            <tr>\n",
       "                <td>3</td>\n",
       "                <td>m1</td>\n",
       "                <td>-2.022554e+00</td>\n",
       "                <td>7.552241e-02</td>\n",
       "                <td>0.000000e+00</td>\n",
       "                <td>0.000000e+00</td>\n",
       "                <td></td>\n",
       "                <td></td>\n",
       "                <td></td>\n",
       "            </tr>\n",
       "            \n",
       "            <tr>\n",
       "                <td>4</td>\n",
       "                <td>s1</td>\n",
       "                <td>9.767610e-01</td>\n",
       "                <td>5.688624e-02</td>\n",
       "                <td>0.000000e+00</td>\n",
       "                <td>0.000000e+00</td>\n",
       "                <td></td>\n",
       "                <td></td>\n",
       "                <td></td>\n",
       "            </tr>\n",
       "            \n",
       "            <tr>\n",
       "                <td>5</td>\n",
       "                <td>f_0</td>\n",
       "                <td>6.992934e-01</td>\n",
       "                <td>1.673073e-02</td>\n",
       "                <td>0.000000e+00</td>\n",
       "                <td>0.000000e+00</td>\n",
       "                <td></td>\n",
       "                <td></td>\n",
       "                <td></td>\n",
       "            </tr>\n",
       "            \n",
       "            </table>\n",
       "        \n",
       "            <pre id=\"zrhCDTFTts\" style=\"display:none;\">\n",
       "            <textarea rows=\"16\" cols=\"50\" onclick=\"this.select()\" readonly>\\begin{tabular}{|c|r|r|r|r|r|r|r|c|}\n",
       "\\hline\n",
       " & Name & Value & Para Error & Error+ & Error- & Limit+ & Limit- & FIXED\\\\\n",
       "\\hline\n",
       "1 & m0 & 1.944e+00 & 4.773e-02 &  &  &  &  & \\\\\n",
       "\\hline\n",
       "2 & s0 & 1.053e+00 & 3.722e-02 &  &  &  &  & \\\\\n",
       "\\hline\n",
       "3 & m1 & -2.023e+00 & 7.552e-02 &  &  &  &  & \\\\\n",
       "\\hline\n",
       "4 & s1 & 9.768e-01 & 5.689e-02 &  &  &  &  & \\\\\n",
       "\\hline\n",
       "5 & $f_{0}$ & 6.993e-01 & 1.673e-02 &  &  &  &  & \\\\\n",
       "\\hline\n",
       "\\end{tabular}</textarea>\n",
       "            </pre>\n",
       "            "
      ]
     },
     "metadata": {},
     "output_type": "display_data"
    },
    {
     "data": {
      "text/html": [
       "<hr>"
      ]
     },
     "metadata": {},
     "output_type": "display_data"
    },
    {
     "name": "stdout",
     "output_type": "stream",
     "text": [
      "{'f_0': 0.6992933508150997, 's1': 0.9767610332884225, 's0': 1.0530382048563094, 'm1': -2.0225537775196876, 'm0': 1.9436696998689813}\n"
     ]
    },
    {
     "data": {
      "image/png": "[encoded data removed]",
      "text/plain": [
       "<matplotlib.figure.Figure at 0x111954b10>"
      ]
     },
     "metadata": {},
     "output_type": "display_data"
    }
   ],
   "source": [
    "# Blind more than one parameter. They will be shifted by the same amount\n",
    "uh3= UnbinnedLH( BlindFunc(pdf, ['m0','m1'], seedstring='some_random_stuff', width=0.5, signflip=False), toydata)\n",
    "m3= Minuit(uh3, print_level=1, **inipars)\n",
    "m3.migrad();\n",
    "uh3.draw();\n",
    "print m3.values"
   ]
  },
  {
   "cell_type": "code",
   "execution_count": 10,
   "metadata": {
    "collapsed": false
   },
   "outputs": [
    {
     "name": "stdout",
     "output_type": "stream",
     "text": [
      "{'f_0': 0.6993030239680726, 's1': 0.976774802772317, 's0': 1.0530630364224147, 'm1': -1.9942116293354075, 'm0': 1.9720292675473272}\n",
      "{'f_0': 0.6993030560128841, 's1': 0.9767755206854074, 's0': 1.0530648448606312, 'm1': -2.0225414570938822, 'm0': 1.9720304423455262}\n",
      "{'f_0': 0.6992933508150997, 's1': 0.9767610332884225, 's0': 1.0530382048563094, 'm1': -2.0225537775196876, 'm0': 1.9436696998689813}\n",
      "\n",
      "{'f_0': 0.01673061544512028, 's1': 0.05688911570427262, 's0': 0.03721995281680518, 'm1': 0.0755249540358937, 'm0': 0.04773566594496333}\n",
      "{'f_0': 0.016730628544296994, 's1': 0.05688929215720884, 's0': 0.03722012879201778, 'm1': 0.07552511920275023, 'm0': 0.047735744463221284}\n",
      "{'f_0': 0.01673073187734163, 's1': 0.056886241374457414, 's0': 0.037217548244943825, 'm1': 0.07552240589154302, 'm0': 0.04773483971868747}\n"
     ]
    }
   ],
   "source": [
    "print m1.values\n",
    "print m2.values\n",
    "print m3.values\n",
    "print \n",
    "print m1.errors\n",
    "print m2.errors\n",
    "print m3.errors"
   ]
  },
  {
   "cell_type": "code",
   "execution_count": 11,
   "metadata": {
    "collapsed": false
   },
   "outputs": [
    {
     "name": "stdout",
     "output_type": "stream",
     "text": [
      "-0.0283595676783\n",
      "-0.0283421481843\n"
     ]
    }
   ],
   "source": [
    "print m3.values['m0']-m1.values['m0']\n",
    "print m3.values['m1']-m1.values['m1']"
   ]
  },
  {
   "cell_type": "code",
   "execution_count": 9,
   "metadata": {
    "collapsed": false
   },
   "outputs": [],
   "source": [
    "# Now it's your turn ...\n",
    "# try and apply probfit / iminuit and to your modeling / fitting task! "
   ]
  }
 ],
 "metadata": {
  "kernelspec": {
   "display_name": "Python 2",
   "language": "python",
   "name": "python2"
  },
  "language_info": {
   "codemirror_mode": {
    "name": "ipython",
    "version": 2
   },
   "file_extension": ".py",
   "mimetype": "text/x-python",
   "name": "python",
   "nbconvert_exporter": "python",
   "pygments_lexer": "ipython2",
   "version": "2.7.12"
  }
 },
 "nbformat": 4,
 "nbformat_minor": 0
}
