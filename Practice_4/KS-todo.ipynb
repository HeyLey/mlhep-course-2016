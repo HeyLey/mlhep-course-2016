{
 "cells": [
  {
   "cell_type": "code",
   "execution_count": null,
   "metadata": {
    "collapsed": false
   },
   "outputs": [],
   "source": [
    "%pylab inline"
   ]
  },
  {
   "cell_type": "code",
   "execution_count": null,
   "metadata": {
    "collapsed": true
   },
   "outputs": [],
   "source": [
    "import numpy"
   ]
  },
  {
   "cell_type": "code",
   "execution_count": null,
   "metadata": {
    "collapsed": true
   },
   "outputs": [],
   "source": [
    "# parameters for histograms\n",
    "hist_kw = dict(bins=100, normed=True, alpha=0.5)"
   ]
  },
  {
   "cell_type": "markdown",
   "metadata": {},
   "source": [
    "# (2 points) KS investigation"
   ]
  },
  {
   "cell_type": "markdown",
   "metadata": {},
   "source": [
    "## KS metric pdf generation\n",
    "\n",
    "### TODO\n",
    "Build the KS-metric pdf by generating a pair of distributions from `numpy.random.random` many times and using `ks_2samp` function to compute KS "
   ]
  },
  {
   "cell_type": "code",
   "execution_count": null,
   "metadata": {
    "collapsed": true
   },
   "outputs": [],
   "source": [
    "from scipy.stats import ks_2samp\n",
    "n1 = 10000\n",
    "n2 = 20000\n",
    "\n",
    "# finish the function\n",
    "def generate_ks_pdf(n1, n2, points=30000):\n",
    "    ks = []\n",
    "    # for each point \n",
    "    for step in range(points):\n",
    "        # generate pdf1 and pdf2 from the same distributions\n",
    "        ...\n",
    "        # compute ks for generated pdfs\n",
    "        ks.append(...)\n",
    "    return numpy.array(ks)"
   ]
  },
  {
   "cell_type": "code",
   "execution_count": null,
   "metadata": {
    "collapsed": true
   },
   "outputs": [],
   "source": [
    "ks_pdf = generate_ks_pdf(n1, n2)"
   ]
  },
  {
   "cell_type": "code",
   "execution_count": null,
   "metadata": {
    "collapsed": false
   },
   "outputs": [],
   "source": [
    "hist(ks_pdf, **hist_kw)\n",
    "pass"
   ]
  },
  {
   "cell_type": "markdown",
   "metadata": {},
   "source": [
    "## Assumption:\n",
    "\n",
    "KS metric pdf will be the same, no matter which distribution we used to generate samples.\n",
    "To be more precise, samples may be generated from any continuous distribution, not only uniform."
   ]
  },
  {
   "cell_type": "markdown",
   "metadata": {},
   "source": [
    "## Check the assumption!\n",
    "\n",
    "\n",
    "### TODO:\n",
    "* Generate two samples from a normal distribution and get KS metric pdf in this case. \n",
    "* Are two KS metric distributions similar (the first $PDF_{metric,u}$ is received by generating two samples from uniform pdf and the second $PDF_{metric,n}$ is received by generating two samples from normal pdf)?"
   ]
  },
  {
   "cell_type": "code",
   "execution_count": null,
   "metadata": {
    "collapsed": true
   },
   "outputs": [],
   "source": [
    "def generate_ks_pdf_normal(n1, n2, points=30000):\n",
    "    ks = []\n",
    "    # for each point \n",
    "    for step in range(points):\n",
    "        # generate pdf1 and pdf2 from the same distributions\n",
    "        ...\n",
    "        # compute ks for generated pdfs\n",
    "        ks.append(...)\n",
    "    return numpy.array(ks)"
   ]
  },
  {
   "cell_type": "code",
   "execution_count": null,
   "metadata": {
    "collapsed": true
   },
   "outputs": [],
   "source": [
    "ks_pdf_normal = generate_ks_pdf_normal(n1, n2)"
   ]
  },
  {
   "cell_type": "code",
   "execution_count": null,
   "metadata": {
    "collapsed": false
   },
   "outputs": [],
   "source": [
    "hist(ks_pdf_normal, **hist_kw)\n",
    "pass"
   ]
  },
  {
   "cell_type": "code",
   "execution_count": null,
   "metadata": {
    "collapsed": false
   },
   "outputs": [],
   "source": [
    "hist(ks_pdf, **hist_kw)\n",
    "hist(ks_pdf_normal, **hist_kw)\n",
    "pass"
   ]
  },
  {
   "cell_type": "markdown",
   "metadata": {},
   "source": [
    "## Do you check these two KS metric distributions by eye? \n",
    "\n",
    "To check if $PDF_{metric,u}$ and $PDF_{metric,n}$ are similar compute KS metric between them!"
   ]
  },
  {
   "cell_type": "code",
   "execution_count": null,
   "metadata": {
    "collapsed": false
   },
   "outputs": [],
   "source": []
  },
  {
   "cell_type": "markdown",
   "metadata": {},
   "source": [
    "\n",
    "## How can one understand what this metric value means?"
   ]
  },
  {
   "cell_type": "markdown",
   "metadata": {},
   "source": [
    "two options here\n",
    "\n",
    "### 1. KS test:\n",
    "\n",
    "This is Kolmogorov-Smirnov statistic to test a hypothesis that two samples come from the same distibution.\n",
    "\n",
    "Statistic:\n",
    "\n",
    "$q= \\sqrt{\\frac{n*m}{n + m}}KS_{nm}$\n",
    "\n",
    "$K_{\\alpha} \\sim \\sqrt{-0.5 * \\ln{\\frac{1 - \\alpha}{2}}}$, \n",
    "\n",
    "where $\\alpha$ - statistical significance, $KS_{nm}$ - Kolmogorov-Smirnov metric.\n",
    "\n",
    "If $q > K_{\\alpha}$ then hypothesis (that both samples from the same distribution) will be rejected.\n",
    "\n",
    "### 2. P-value calculated using the KS metric pdf:\n",
    "\n",
    "You can calculate p-value using generated KS pdf to test the hypotheses"
   ]
  },
  {
   "cell_type": "markdown",
   "metadata": {},
   "source": [
    "### TODO:\n",
    "Check that $PDF_{metric,u}$ and $PDF_{metric,n}$ come from the same distribution (It will mean that our assumption holds).\n",
    "\n",
    "Use the p-value returned by `ks_2samp` to understand KS-metric value between $PDF_{metric,u}$ and $PDF_{metric,n}$ "
   ]
  },
  {
   "cell_type": "code",
   "execution_count": null,
   "metadata": {
    "collapsed": false
   },
   "outputs": [],
   "source": []
  },
  {
   "cell_type": "markdown",
   "metadata": {},
   "source": [
    "if p-value is not small we can't reject hypothesis (so consider them coming from the same distribution)"
   ]
  },
  {
   "cell_type": "markdown",
   "metadata": {},
   "source": [
    "## Сan you now answer if the KS metric pdf depends on the initial continuous distribution, from which two samples are generated? Can you prove this behaviour?"
   ]
  },
  {
   "cell_type": "markdown",
   "metadata": {},
   "source": [
    "If you remember how the KS metric is calculated using the roc curve you will understand that the KS metric use only the permutation of the sample1 in the sample2, $ks=\\max{|fpr - tpr|}$. Thus, the initial disribution will be transformed into a zeros-ones sequence, where zero means an element came from the sample1 and one - the sample2. If the samples were generated from the same distibution then probability of such zeros-ones sequence will be $\\frac{(n1 + n2)!}{n1!n2!}$ and it doesn't depend on the initial distribution. Thus, the initial distribution doesn't matter and we can generate the KS pdf using the uniform distribution."
   ]
  },
  {
   "cell_type": "markdown",
   "metadata": {},
   "source": [
    "### TODO:\n",
    "\n",
    "Above you checked the similarity of $PDF_{metric,u}$ and $PDF_{metric,n}$ using KS statistic. \n",
    "\n",
    "Now try option 2 to check this: generate KS metric distribution $PDF_{KS}$ for samples $PDF_{metric,u}$ and $PDF_{metric,n}$ and compute p-value of their distance using $PDF_{KS}.$"
   ]
  },
  {
   "cell_type": "code",
   "execution_count": null,
   "metadata": {
    "collapsed": true
   },
   "outputs": [],
   "source": []
  },
  {
   "cell_type": "code",
   "execution_count": null,
   "metadata": {
    "collapsed": false
   },
   "outputs": [],
   "source": [
    "# compute p-value using the KS pdf \n"
   ]
  },
  {
   "cell_type": "markdown",
   "metadata": {},
   "source": [
    "**Note:** two p-values, obtained by two methods (KS statistic, KS metric distibution) are very similar."
   ]
  },
  {
   "cell_type": "markdown",
   "metadata": {},
   "source": [
    "## Example "
   ]
  },
  {
   "cell_type": "markdown",
   "metadata": {},
   "source": [
    "Two similar normal distributions are generated. By eye they are very similar, but the KS test says that hypothesis (the same distribution) should be rejected."
   ]
  },
  {
   "cell_type": "code",
   "execution_count": null,
   "metadata": {
    "collapsed": false
   },
   "outputs": [],
   "source": [
    "pdf1_g = numpy.random.normal(loc=10, scale=5, size=n1)\n",
    "pdf2_g = numpy.random.normal(loc=10.2, scale=5.3, size=n2)\n",
    "hist(pdf1_g, **hist_kw)\n",
    "hist(pdf2_g, **hist_kw)\n",
    "pass"
   ]
  },
  {
   "cell_type": "code",
   "execution_count": null,
   "metadata": {
    "collapsed": false
   },
   "outputs": [],
   "source": [
    "ks_2samp(pdf1_g, pdf2_g)"
   ]
  },
  {
   "cell_type": "code",
   "execution_count": null,
   "metadata": {
    "collapsed": false
   },
   "outputs": [],
   "source": [
    "numpy.mean(ks_pdf > ks_2samp(pdf1_g, pdf2_g)[0])"
   ]
  },
  {
   "cell_type": "markdown",
   "metadata": {},
   "source": [
    "p-value < 0.05, thus the KS test says that samples were generated from different distributions. "
   ]
  }
 ],
 "metadata": {
  "kernelspec": {
   "display_name": "Python 2",
   "language": "python",
   "name": "python2"
  },
  "language_info": {
   "codemirror_mode": {
    "name": "ipython",
    "version": 2
   },
   "file_extension": ".py",
   "mimetype": "text/x-python",
   "name": "python",
   "nbconvert_exporter": "python",
   "pygments_lexer": "ipython2",
   "version": "2.7.11"
  }
 },
 "nbformat": 4,
 "nbformat_minor": 0
}
